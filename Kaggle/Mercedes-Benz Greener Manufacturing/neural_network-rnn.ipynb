{
 "cells": [
  {
   "cell_type": "code",
   "execution_count": null,
   "metadata": {
    "collapsed": false
   },
   "outputs": [],
   "source": [
    "import datetime\n",
    "import numpy as np\n",
    "\n",
    "import numpy as np\n",
    "np.random.seed(42)\n",
    "import tensorflow as tf\n",
    "tf.set_random_seed(42)\n",
    "\n",
    "import pandas as pd\n",
    "import keras.backend as K\n",
    "from sklearn import preprocessing\n",
    "from sklearn.metrics import r2_score\n",
    "from keras.models import Sequential\n",
    "from keras.layers.core import Dense, Dropout\n",
    "from keras.layers.recurrent import SimpleRNN, LSTM\n",
    "from keras.layers.wrappers import TimeDistributed, Bidirectional\n",
    "from keras.optimizers import RMSprop\n",
    "from keras.callbacks import EarlyStopping, ModelCheckpoint\n",
    "\n",
    "import statsmodels.api as sm\n",
    "from statsmodels.stats.outliers_influence import variance_inflation_factor\n",
    "from sklearn.decomposition import PCA"
   ]
  },
  {
   "cell_type": "code",
   "execution_count": null,
   "metadata": {
    "collapsed": false
   },
   "outputs": [],
   "source": [
    "train = pd.read_csv(\"data/train.csv\", index_col=\"ID\")\n",
    "test = pd.read_csv(\"data/test.csv\", index_col=\"ID\")"
   ]
  },
  {
   "cell_type": "markdown",
   "metadata": {},
   "source": [
    "### Combine train and test data for one-hot encoding"
   ]
  },
  {
   "cell_type": "code",
   "execution_count": null,
   "metadata": {
    "collapsed": false
   },
   "outputs": [],
   "source": [
    "train[\"data\"] = \"train\"\n",
    "test[\"data\"] = \"test\"\n",
    "\n",
    "combined_data = pd.concat([train, test])\n",
    "encoded = pd.get_dummies(combined_data[[\"X0\", \"X1\", \"X2\", \"X3\", \"X4\", \"X5\", \"X6\", \"X8\"]])\n",
    "drop_cat = combined_data.drop([\"X0\", \"X1\", \"X2\", \"X3\", \"X4\", \"X5\", \"X6\", \"X8\"], axis=1)\n",
    "combined_data_clean = drop_cat.join(encoded)"
   ]
  },
  {
   "cell_type": "code",
   "execution_count": null,
   "metadata": {
    "collapsed": false
   },
   "outputs": [],
   "source": [
    "train_data = combined_data_clean[combined_data_clean.data == \"train\"].copy()\n",
    "test_data = combined_data_clean[combined_data_clean.data == \"test\"].copy()\n",
    "\n",
    "train_data.drop(\"data\", axis=1, inplace=True)\n",
    "test_data.drop([\"data\", \"y\"], axis=1, inplace=True)"
   ]
  },
  {
   "cell_type": "code",
   "execution_count": null,
   "metadata": {
    "collapsed": false
   },
   "outputs": [],
   "source": [
    "train_data.columns"
   ]
  },
  {
   "cell_type": "code",
   "execution_count": null,
   "metadata": {
    "collapsed": false
   },
   "outputs": [],
   "source": [
    "test_data.columns"
   ]
  },
  {
   "cell_type": "code",
   "execution_count": null,
   "metadata": {
    "collapsed": false
   },
   "outputs": [],
   "source": [
    "y_train = train_data[\"y\"].astype(np.float32)\n",
    "x_train =  train_data.drop(\"y\", axis=1).astype(np.float32)\n",
    "x_test = test_data.astype(np.float32)"
   ]
  },
  {
   "cell_type": "code",
   "execution_count": null,
   "metadata": {
    "collapsed": false
   },
   "outputs": [],
   "source": [
    "x_train.shape"
   ]
  },
  {
   "cell_type": "code",
   "execution_count": null,
   "metadata": {
    "collapsed": false
   },
   "outputs": [],
   "source": [
    "train_reshaped = np.array([i.reshape((-1, 1)) for i in x_train.values])\n",
    "train_reshaped = train_reshaped.astype(np.float32)\n",
    "train_reshaped.shape"
   ]
  },
  {
   "cell_type": "markdown",
   "metadata": {},
   "source": [
    "### Train the model"
   ]
  },
  {
   "cell_type": "code",
   "execution_count": null,
   "metadata": {
    "collapsed": true
   },
   "outputs": [],
   "source": [
    "def r2_keras(y_true, y_pred):\n",
    "    SS_res =  K.sum(K.square( y_true-y_pred )) \n",
    "    SS_tot = K.sum(K.square( y_true - K.mean(y_true) ) ) \n",
    "    return ( 1 - SS_res/(SS_tot + K.epsilon()) )"
   ]
  },
  {
   "cell_type": "code",
   "execution_count": null,
   "metadata": {
    "collapsed": true
   },
   "outputs": [],
   "source": [
    "rmsprop = RMSprop(lr=0.0001, rho=0.9, epsilon=1e-08, decay=0.0)"
   ]
  },
  {
   "cell_type": "code",
   "execution_count": null,
   "metadata": {
    "collapsed": false
   },
   "outputs": [],
   "source": [
    "# Idea: Simple model\n",
    "model = Sequential()\n",
    "model.add(Bidirectional(SimpleRNN(128, return_sequences=True, activation=\"relu\"), input_shape=(None, 1)))\n",
    "model.add(Bidirectional(SimpleRNN(64, return_sequences=True, activation=\"relu\")))\n",
    "model.add(Bidirectional(SimpleRNN(32, return_sequences=False, activation=\"relu\")))\n",
    "model.add(Dropout(0.5))\n",
    "model.add(Dense(1, activation=\"linear\"))\n",
    "\n",
    "model.compile(optimizer=rmsprop, loss=\"mse\", metrics=[r2_keras])\n",
    "model.summary()"
   ]
  },
  {
   "cell_type": "code",
   "execution_count": null,
   "metadata": {
    "collapsed": false
   },
   "outputs": [],
   "source": [
    "# Idea: Funnel -> reduce information after each layer / deep model\n",
    "\n",
    "model = Sequential()\n",
    "model.add(Bidirectional(SimpleRNN(64, return_sequences=True, activation=\"relu\"), input_shape=(None, 1)))\n",
    "model.add(Bidirectional(SimpleRNN(64, return_sequences=True, activation=\"relu\")))\n",
    "model.add(TimeDistributed(Dense(32, activation=\"relu\")))\n",
    "model.add(Bidirectional(SimpleRNN(32, return_sequences=True, activation=\"relu\")))\n",
    "model.add(Bidirectional(SimpleRNN(32, return_sequences=True, activation=\"relu\")))\n",
    "model.add(TimeDistributed(Dense(16, activation=\"relu\")))\n",
    "model.add(Bidirectional(SimpleRNN(16, return_sequences=False, activation=\"relu\")))\n",
    "model.add(Dropout(0.5))\n",
    "model.add(Dense(1, activation=\"linear\"))\n",
    "model.compile(optimizer=rmsprop, loss=\"mse\", metrics=[r2_keras])\n",
    "model.summary()\n"
   ]
  },
  {
   "cell_type": "code",
   "execution_count": null,
   "metadata": {
    "collapsed": false
   },
   "outputs": [],
   "source": [
    "early_stop = EarlyStopping(monitor=\"loss\", patience=10)\n",
    "file_path = \"weights.{epoch:02d}-{val_loss:.2f}.hdf5\"\n",
    "checkpoint = ModelCheckpoint(file_path)\n",
    "model_run = model.fit(train_reshaped, y_train, epochs=100, batch_size=128, validation_split=0.02, callbacks=[early_stop, checkpoint])"
   ]
  },
  {
   "cell_type": "code",
   "execution_count": null,
   "metadata": {
    "collapsed": false
   },
   "outputs": [],
   "source": [
    "y_pred_train = model.predict(train_reshaped)"
   ]
  },
  {
   "cell_type": "code",
   "execution_count": null,
   "metadata": {
    "collapsed": false
   },
   "outputs": [],
   "source": [
    "print(\"the R2 score is : {}\".format(r2_score(y_train, y_pred_train)))"
   ]
  },
  {
   "cell_type": "markdown",
   "metadata": {
    "collapsed": true
   },
   "source": [
    "### Prediction"
   ]
  },
  {
   "cell_type": "code",
   "execution_count": null,
   "metadata": {
    "collapsed": false
   },
   "outputs": [],
   "source": [
    "test_reshaped = np.array([i.reshape((-1, 1)) for i in pca2_results_test])\n",
    "test_reshaped = test_reshaped.astype(np.float32)\n",
    "test_reshaped.shape"
   ]
  },
  {
   "cell_type": "code",
   "execution_count": null,
   "metadata": {
    "collapsed": true
   },
   "outputs": [],
   "source": [
    "y_pred_test = model.predict(test_reshaped)"
   ]
  },
  {
   "cell_type": "code",
   "execution_count": null,
   "metadata": {
    "collapsed": false
   },
   "outputs": [],
   "source": [
    "output = pd.DataFrame({\"ID\": test.index, \"y\": y_pred_test.reshape(-1)})"
   ]
  },
  {
   "cell_type": "code",
   "execution_count": null,
   "metadata": {
    "collapsed": false
   },
   "outputs": [],
   "source": [
    "output.head()"
   ]
  },
  {
   "cell_type": "code",
   "execution_count": null,
   "metadata": {
    "collapsed": false
   },
   "outputs": [],
   "source": [
    "output.to_csv(\"submissions_{}.csv\".format(datetime.datetime.today()), index=False)"
   ]
  },
  {
   "cell_type": "code",
   "execution_count": null,
   "metadata": {
    "collapsed": true
   },
   "outputs": [],
   "source": []
  },
  {
   "cell_type": "markdown",
   "metadata": {},
   "source": [
    "### Combine submission"
   ]
  },
  {
   "cell_type": "code",
   "execution_count": null,
   "metadata": {
    "collapsed": true
   },
   "outputs": [],
   "source": [
    "sub_1 = pd.read_csv(\"submission_baseLine.csv\")"
   ]
  },
  {
   "cell_type": "code",
   "execution_count": null,
   "metadata": {
    "collapsed": true
   },
   "outputs": [],
   "source": [
    "sub_2 = pd.read_csv(\"submissions_2017-05-31 15:48:40.546392.csv\")"
   ]
  },
  {
   "cell_type": "code",
   "execution_count": null,
   "metadata": {
    "collapsed": true
   },
   "outputs": [],
   "source": [
    "sub_3 = output.copy()"
   ]
  },
  {
   "cell_type": "code",
   "execution_count": null,
   "metadata": {
    "collapsed": false
   },
   "outputs": [],
   "source": [
    "mean_pred = (sub_1.y.values + sub_2.y.values + sub_3.y.values) / 3"
   ]
  },
  {
   "cell_type": "code",
   "execution_count": null,
   "metadata": {
    "collapsed": false
   },
   "outputs": [],
   "source": [
    "output_mean = pd.DataFrame({\"ID\": test.index, \"y\": mean_pred})"
   ]
  },
  {
   "cell_type": "code",
   "execution_count": null,
   "metadata": {
    "collapsed": true
   },
   "outputs": [],
   "source": [
    "output_mean.to_csv(\"submissions_mean_{}.csv\".format(datetime.datetime.today()), index=False)"
   ]
  },
  {
   "cell_type": "code",
   "execution_count": null,
   "metadata": {
    "collapsed": true
   },
   "outputs": [],
   "source": []
  },
  {
   "cell_type": "code",
   "execution_count": null,
   "metadata": {
    "collapsed": true
   },
   "outputs": [],
   "source": [
    "sub_1 = pd.read_csv(\"submission_baseLine.csv\")"
   ]
  },
  {
   "cell_type": "code",
   "execution_count": null,
   "metadata": {
    "collapsed": true
   },
   "outputs": [],
   "source": [
    "sub_2 = pd.read_csv(\"submissions_2017-05-31 15:48:40.546392.csv\")"
   ]
  },
  {
   "cell_type": "code",
   "execution_count": null,
   "metadata": {
    "collapsed": true
   },
   "outputs": [],
   "source": [
    "mean_pred = (sub_1.y.values + sub_2.y.values ) / 2"
   ]
  },
  {
   "cell_type": "code",
   "execution_count": null,
   "metadata": {
    "collapsed": true
   },
   "outputs": [],
   "source": [
    "output_mean = pd.DataFrame({\"ID\": test.index, \"y\": mean_pred})"
   ]
  },
  {
   "cell_type": "code",
   "execution_count": null,
   "metadata": {
    "collapsed": true
   },
   "outputs": [],
   "source": [
    "output_mean.to_csv(\"submissions_mean_2_{}.csv\".format(datetime.datetime.today()), index=False)"
   ]
  },
  {
   "cell_type": "code",
   "execution_count": null,
   "metadata": {
    "collapsed": true
   },
   "outputs": [],
   "source": []
  },
  {
   "cell_type": "code",
   "execution_count": null,
   "metadata": {
    "collapsed": true
   },
   "outputs": [],
   "source": []
  }
 ],
 "metadata": {
  "kernelspec": {
   "display_name": "Python 3",
   "language": "python",
   "name": "python3"
  },
  "language_info": {
   "codemirror_mode": {
    "name": "ipython",
    "version": 3
   },
   "file_extension": ".py",
   "mimetype": "text/x-python",
   "name": "python",
   "nbconvert_exporter": "python",
   "pygments_lexer": "ipython3",
   "version": "3.5.2"
  },
  "widgets": {
   "state": {},
   "version": "1.1.2"
  }
 },
 "nbformat": 4,
 "nbformat_minor": 2
}
