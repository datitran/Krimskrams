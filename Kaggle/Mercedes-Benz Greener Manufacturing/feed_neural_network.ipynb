{
 "cells": [
  {
   "cell_type": "code",
   "execution_count": 1,
   "metadata": {
    "collapsed": false
   },
   "outputs": [
    {
     "name": "stderr",
     "output_type": "stream",
     "text": [
      "Using TensorFlow backend.\n"
     ]
    }
   ],
   "source": [
    "import numpy as np\n",
    "import pandas as pd \n",
    "import xgboost as xgb\n",
    "import keras.backend as K\n",
    "\n",
    "from datetime import datetime\n",
    "from keras.models import Sequential\n",
    "from keras.layers import Dense, Activation, Dropout\n",
    "from keras.callbacks import EarlyStopping, ModelCheckpoint\n",
    "from keras.optimizers import RMSprop\n",
    "from keras.wrappers.scikit_learn import KerasRegressor\n",
    "from sklearn.preprocessing import LabelEncoder, MinMaxScaler\n",
    "from sklearn.decomposition import PCA, FastICA\n",
    "from sklearn.metrics import r2_score"
   ]
  },
  {
   "cell_type": "code",
   "execution_count": 2,
   "metadata": {
    "collapsed": true
   },
   "outputs": [],
   "source": [
    "train = pd.read_csv(\"data/train.csv\", index_col=\"ID\")\n",
    "test = pd.read_csv(\"data/test.csv\", index_col=\"ID\")"
   ]
  },
  {
   "cell_type": "code",
   "execution_count": 3,
   "metadata": {
    "collapsed": true
   },
   "outputs": [],
   "source": [
    "for c in train.columns:\n",
    "    if train[c].dtype == \"object\":\n",
    "        lbl = LabelEncoder() \n",
    "        lbl.fit(list(train[c].values) + list(test[c].values)) \n",
    "        train[c] = lbl.transform(list(train[c].values))\n",
    "        test[c] = lbl.transform(list(test[c].values))"
   ]
  },
  {
   "cell_type": "code",
   "execution_count": 4,
   "metadata": {
    "collapsed": false
   },
   "outputs": [
    {
     "name": "stderr",
     "output_type": "stream",
     "text": [
      "/Users/datitran/anaconda/envs/kaggle/lib/python3.5/site-packages/scipy/linalg/basic.py:1018: RuntimeWarning: internal gelsd driver lwork query error, required iwork dimension not returned. This is likely the result of LAPACK bug 0038, fixed in LAPACK 3.2.2 (released July 21, 2010). Falling back to 'gelss' driver.\n",
      "  warnings.warn(mesg, RuntimeWarning)\n"
     ]
    }
   ],
   "source": [
    "n_comp = 10\n",
    "\n",
    "# PCA\n",
    "pca = PCA(n_components=n_comp, random_state=42)\n",
    "pca2_results_train = pca.fit_transform(train.drop([\"y\"], axis=1))\n",
    "pca2_results_test = pca.transform(test)\n",
    "\n",
    "# ICA\n",
    "ica = FastICA(n_components=n_comp, random_state=42)\n",
    "ica2_results_train = ica.fit_transform(train.drop([\"y\"], axis=1))\n",
    "ica2_results_test = ica.transform(test)"
   ]
  },
  {
   "cell_type": "code",
   "execution_count": 5,
   "metadata": {
    "collapsed": false
   },
   "outputs": [],
   "source": [
    "#train = train.iloc[:, :9].copy()\n",
    "#test = test.iloc[:, :8].copy()"
   ]
  },
  {
   "cell_type": "code",
   "execution_count": 6,
   "metadata": {
    "collapsed": true
   },
   "outputs": [],
   "source": [
    "for i in range(1, n_comp+1):\n",
    "    train[\"pca_\" + str(i)] = pca2_results_train[:,i-1]\n",
    "    test[\"pca_\" + str(i)] = pca2_results_test[:, i-1]\n",
    "    \n",
    "    train[\"ica_\" + str(i)] = ica2_results_train[:,i-1]\n",
    "    test[\"ica_\" + str(i)] = ica2_results_test[:, i-1]\n",
    "    \n",
    "y_train = train[\"y\"]\n",
    "y_mean = np.mean(y_train)"
   ]
  },
  {
   "cell_type": "code",
   "execution_count": 7,
   "metadata": {
    "collapsed": false
   },
   "outputs": [],
   "source": [
    "x_train = train.drop(\"y\", axis=1).values.astype(np.float32)\n",
    "x_test = test.values.astype(np.float32)"
   ]
  },
  {
   "cell_type": "code",
   "execution_count": 8,
   "metadata": {
    "collapsed": false
   },
   "outputs": [
    {
     "data": {
      "text/plain": [
       "((4209, 396), (4209, 396))"
      ]
     },
     "execution_count": 8,
     "metadata": {},
     "output_type": "execute_result"
    }
   ],
   "source": [
    "x_train.shape, x_test.shape"
   ]
  },
  {
   "cell_type": "code",
   "execution_count": 9,
   "metadata": {
    "collapsed": false
   },
   "outputs": [],
   "source": [
    "scaler = MinMaxScaler()\n",
    "x_train_scaled = scaler.fit_transform(x_train)\n",
    "x_test_scaled = scaler.fit_transform(x_test)"
   ]
  },
  {
   "cell_type": "code",
   "execution_count": 10,
   "metadata": {
    "collapsed": true
   },
   "outputs": [],
   "source": [
    "def r2_keras(y_true, y_pred):\n",
    "    SS_res =  K.sum(K.square( y_true-y_pred )) \n",
    "    SS_tot = K.sum(K.square( y_true - K.mean(y_true) ) ) \n",
    "    return ( 1 - SS_res/(SS_tot + K.epsilon()) )"
   ]
  },
  {
   "cell_type": "code",
   "execution_count": 32,
   "metadata": {
    "collapsed": false
   },
   "outputs": [],
   "source": [
    "rmsprop = RMSprop(lr=0.0001, rho=0.9, epsilon=1e-08, decay=0.0)\n",
    "\n",
    "def model():\n",
    "    model = Sequential()\n",
    "    model.add(Dense(units=, activation=\"relu\",input_dim=x_train.shape[1]))\n",
    "    model.add(Dense(units=396, activation=\"relu\"))\n",
    "    model.add(Dense(units=, activation=\"relu\"))\n",
    "    model.add(Dense(units=512, activation=\"relu\"))\n",
    "    model.add(Dense(units=512, activation=\"relu\"))\n",
    "    model.add(Dense(units=512, activation=\"relu\"))\n",
    "    model.add(Dense(units=1, activation=\"linear\"))\n",
    "    model.compile(loss=\"mse\", optimizer=rmsprop, metrics=[r2_keras])\n",
    "    #model.summary()\n",
    "    return model"
   ]
  },
  {
   "cell_type": "code",
   "execution_count": 12,
   "metadata": {
    "collapsed": false
   },
   "outputs": [],
   "source": [
    "callbacks = [\n",
    "    EarlyStopping(monitor=\"val_r2_keras\", patience=20)\n",
    "    #ModelCheckpoint(\"weights.{epoch:02d}-{val_loss:.2f}.hdf5\")\n",
    "]\n",
    "\n",
    "estimator = KerasRegressor(\n",
    "    build_fn=model, \n",
    "    nb_epoch=100, \n",
    "    batch_size=32,\n",
    "    verbose=0\n",
    ")"
   ]
  },
  {
   "cell_type": "code",
   "execution_count": null,
   "metadata": {
    "collapsed": false
   },
   "outputs": [],
   "source": [
    "estimator.fit(x_train_scaled, y_train, batch_size=32, epochs=200, verbose=2, callbacks=callbacks, validation_split=0.02)"
   ]
  },
  {
   "cell_type": "code",
   "execution_count": null,
   "metadata": {
    "collapsed": false
   },
   "outputs": [],
   "source": [
    "y_pred_train = estimator.predict(x_train_scaled)"
   ]
  },
  {
   "cell_type": "code",
   "execution_count": null,
   "metadata": {
    "collapsed": false
   },
   "outputs": [],
   "source": [
    "prediction = estimator.predict(x_test_scaled)"
   ]
  },
  {
   "cell_type": "code",
   "execution_count": null,
   "metadata": {
    "collapsed": false
   },
   "outputs": [],
   "source": [
    "prediction"
   ]
  },
  {
   "cell_type": "code",
   "execution_count": null,
   "metadata": {
    "collapsed": false
   },
   "outputs": [],
   "source": [
    "print(\"the R2 score is : {}\".format(r2_score(y_train, y_pred_train)))"
   ]
  },
  {
   "cell_type": "markdown",
   "metadata": {
    "collapsed": true
   },
   "source": [
    "### Ensemble the model"
   ]
  },
  {
   "cell_type": "code",
   "execution_count": 33,
   "metadata": {
    "collapsed": false
   },
   "outputs": [
    {
     "name": "stdout",
     "output_type": "stream",
     "text": [
      "Train on 3788 samples, validate on 421 samples\n",
      "Epoch 1/50\n",
      "0s - loss: 8497.0696 - r2_keras: -5.9802e+01 - val_loss: 5688.8226 - val_r2_keras: -4.7048e+01\n",
      "Epoch 2/50\n",
      "0s - loss: 3063.7014 - r2_keras: -2.0552e+01 - val_loss: 596.3211 - val_r2_keras: -3.9942e+00\n",
      "Epoch 3/50\n",
      "0s - loss: 265.6156 - r2_keras: -7.4332e-01 - val_loss: 156.3795 - val_r2_keras: -2.6558e-01\n",
      "Epoch 4/50\n",
      "0s - loss: 154.8358 - r2_keras: 0.0207 - val_loss: 104.6440 - val_r2_keras: 0.1623\n",
      "Epoch 5/50\n",
      "0s - loss: 121.1724 - r2_keras: 0.2567 - val_loss: 77.3172 - val_r2_keras: 0.3868\n",
      "Epoch 6/50\n",
      "0s - loss: 103.4057 - r2_keras: 0.3806 - val_loss: 63.6953 - val_r2_keras: 0.4983\n",
      "Epoch 7/50\n",
      "0s - loss: 93.7359 - r2_keras: 0.4478 - val_loss: 56.8824 - val_r2_keras: 0.5542\n",
      "Epoch 8/50\n",
      "0s - loss: 88.1637 - r2_keras: 0.4862 - val_loss: 53.2024 - val_r2_keras: 0.5848\n",
      "Epoch 9/50\n",
      "0s - loss: 84.7483 - r2_keras: 0.5097 - val_loss: 50.9846 - val_r2_keras: 0.6035\n",
      "Epoch 10/50\n",
      "0s - loss: 82.5202 - r2_keras: 0.5249 - val_loss: 49.5240 - val_r2_keras: 0.6160\n",
      "Epoch 11/50\n",
      "0s - loss: 80.9714 - r2_keras: 0.5355 - val_loss: 48.4918 - val_r2_keras: 0.6250\n",
      "Epoch 12/50\n",
      "0s - loss: 79.8321 - r2_keras: 0.5432 - val_loss: 47.7326 - val_r2_keras: 0.6316\n",
      "Epoch 13/50\n",
      "0s - loss: 78.9550 - r2_keras: 0.5491 - val_loss: 47.1445 - val_r2_keras: 0.6368\n",
      "Epoch 14/50\n",
      "0s - loss: 78.2526 - r2_keras: 0.5538 - val_loss: 46.6723 - val_r2_keras: 0.6409\n",
      "Epoch 15/50\n",
      "0s - loss: 77.6721 - r2_keras: 0.5577 - val_loss: 46.2824 - val_r2_keras: 0.6444\n",
      "Epoch 16/50\n",
      "0s - loss: 77.1796 - r2_keras: 0.5609 - val_loss: 45.9422 - val_r2_keras: 0.6473\n",
      "Epoch 17/50\n",
      "0s - loss: 76.7505 - r2_keras: 0.5637 - val_loss: 45.6478 - val_r2_keras: 0.6499\n",
      "Epoch 18/50\n",
      "0s - loss: 76.3729 - r2_keras: 0.5661 - val_loss: 45.4004 - val_r2_keras: 0.6520\n",
      "Epoch 19/50\n",
      "0s - loss: 76.0353 - r2_keras: 0.5683 - val_loss: 45.1856 - val_r2_keras: 0.6539\n",
      "Epoch 20/50\n",
      "0s - loss: 75.7311 - r2_keras: 0.5702 - val_loss: 45.0010 - val_r2_keras: 0.6554\n",
      "Epoch 21/50\n",
      "0s - loss: 75.4521 - r2_keras: 0.5719 - val_loss: 44.8445 - val_r2_keras: 0.6568\n",
      "Epoch 22/50\n",
      "0s - loss: 75.1957 - r2_keras: 0.5735 - val_loss: 44.7094 - val_r2_keras: 0.6579\n",
      "Number: 0, R^2: 0.527942307065526\n"
     ]
    }
   ],
   "source": [
    "r2_score_list = []\n",
    "prediction_list = []\n",
    "for i in range(1):\n",
    "    estimator.fit(x_train_scaled, y_train, batch_size=32, \n",
    "                  epochs=50, verbose=2, callbacks=callbacks,\n",
    "                  validation_split=0.1, shuffle=False)\n",
    "    y_pred_train = estimator.predict(x_train_scaled)\n",
    "    prediction = estimator.predict(x_test_scaled)\n",
    "    prediction_list.append(prediction)\n",
    "    r2_value = r2_score(y_train, y_pred_train)\n",
    "    print(\"Number: {}, R^2: {}\".format(i, r2_value))\n",
    "    r2_score_list.append((i, r2_value))"
   ]
  },
  {
   "cell_type": "code",
   "execution_count": 34,
   "metadata": {
    "collapsed": false
   },
   "outputs": [],
   "source": [
    "value = np.zeros(len(prediction_list[0]))\n",
    "for i in prediction_list:\n",
    "    value += i"
   ]
  },
  {
   "cell_type": "code",
   "execution_count": 35,
   "metadata": {
    "collapsed": false
   },
   "outputs": [],
   "source": [
    "average_prediction = value / len(prediction_list)"
   ]
  },
  {
   "cell_type": "code",
   "execution_count": 36,
   "metadata": {
    "collapsed": false
   },
   "outputs": [
    {
     "data": {
      "text/plain": [
       "array([  73.09261322,   89.23135376,   73.39955902, ...,   93.74902344,\n",
       "        107.94994354,   92.85961151])"
      ]
     },
     "execution_count": 36,
     "metadata": {},
     "output_type": "execute_result"
    }
   ],
   "source": [
    "average_prediction"
   ]
  },
  {
   "cell_type": "code",
   "execution_count": null,
   "metadata": {
    "collapsed": false
   },
   "outputs": [],
   "source": [
    "output = pd.DataFrame({\"id\": test.index, \"y\": average_prediction})"
   ]
  },
  {
   "cell_type": "code",
   "execution_count": null,
   "metadata": {
    "collapsed": false
   },
   "outputs": [],
   "source": [
    "output.to_csv(\"submission_neural_network_average.csv\", index=False)"
   ]
  },
  {
   "cell_type": "code",
   "execution_count": null,
   "metadata": {
    "collapsed": true
   },
   "outputs": [],
   "source": []
  },
  {
   "cell_type": "code",
   "execution_count": null,
   "metadata": {
    "collapsed": true
   },
   "outputs": [],
   "source": []
  },
  {
   "cell_type": "code",
   "execution_count": null,
   "metadata": {
    "collapsed": true
   },
   "outputs": [],
   "source": []
  },
  {
   "cell_type": "code",
   "execution_count": null,
   "metadata": {
    "collapsed": true
   },
   "outputs": [],
   "source": []
  }
 ],
 "metadata": {
  "kernelspec": {
   "display_name": "Python 3",
   "language": "python",
   "name": "python3"
  },
  "language_info": {
   "codemirror_mode": {
    "name": "ipython",
    "version": 3
   },
   "file_extension": ".py",
   "mimetype": "text/x-python",
   "name": "python",
   "nbconvert_exporter": "python",
   "pygments_lexer": "ipython3",
   "version": "3.5.2"
  },
  "widgets": {
   "state": {},
   "version": "1.1.2"
  }
 },
 "nbformat": 4,
 "nbformat_minor": 2
}
