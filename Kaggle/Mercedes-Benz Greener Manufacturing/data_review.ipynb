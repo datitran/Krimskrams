{
 "cells": [
  {
   "cell_type": "code",
   "execution_count": 39,
   "metadata": {
    "collapsed": true
   },
   "outputs": [],
   "source": [
    "import numpy as np\n",
    "import pandas as pd\n",
    "import matplotlib.pyplot as plt\n",
    "from sklearn.decomposition import PCA, IncrementalPCA, FastICA\n",
    "plt.style.use(\"ggplot\")\n",
    "%matplotlib inline"
   ]
  },
  {
   "cell_type": "code",
   "execution_count": 4,
   "metadata": {
    "collapsed": true
   },
   "outputs": [],
   "source": [
    "train = pd.read_csv(\"data/train.csv\", index_col=\"ID\")\n",
    "test = pd.read_csv(\"data/test.csv\", index_col=\"ID\")"
   ]
  },
  {
   "cell_type": "code",
   "execution_count": 3,
   "metadata": {
    "collapsed": false,
    "scrolled": true
   },
   "outputs": [
    {
     "data": {
      "text/html": [
       "<div>\n",
       "<table border=\"1\" class=\"dataframe\">\n",
       "  <thead>\n",
       "    <tr style=\"text-align: right;\">\n",
       "      <th></th>\n",
       "      <th>y</th>\n",
       "      <th>X0</th>\n",
       "      <th>X1</th>\n",
       "      <th>X2</th>\n",
       "      <th>X3</th>\n",
       "      <th>X4</th>\n",
       "      <th>X5</th>\n",
       "      <th>X6</th>\n",
       "      <th>X8</th>\n",
       "      <th>X10</th>\n",
       "      <th>...</th>\n",
       "      <th>X375</th>\n",
       "      <th>X376</th>\n",
       "      <th>X377</th>\n",
       "      <th>X378</th>\n",
       "      <th>X379</th>\n",
       "      <th>X380</th>\n",
       "      <th>X382</th>\n",
       "      <th>X383</th>\n",
       "      <th>X384</th>\n",
       "      <th>X385</th>\n",
       "    </tr>\n",
       "    <tr>\n",
       "      <th>ID</th>\n",
       "      <th></th>\n",
       "      <th></th>\n",
       "      <th></th>\n",
       "      <th></th>\n",
       "      <th></th>\n",
       "      <th></th>\n",
       "      <th></th>\n",
       "      <th></th>\n",
       "      <th></th>\n",
       "      <th></th>\n",
       "      <th></th>\n",
       "      <th></th>\n",
       "      <th></th>\n",
       "      <th></th>\n",
       "      <th></th>\n",
       "      <th></th>\n",
       "      <th></th>\n",
       "      <th></th>\n",
       "      <th></th>\n",
       "      <th></th>\n",
       "      <th></th>\n",
       "    </tr>\n",
       "  </thead>\n",
       "  <tbody>\n",
       "    <tr>\n",
       "      <th>0</th>\n",
       "      <td>130.81</td>\n",
       "      <td>k</td>\n",
       "      <td>v</td>\n",
       "      <td>at</td>\n",
       "      <td>a</td>\n",
       "      <td>d</td>\n",
       "      <td>u</td>\n",
       "      <td>j</td>\n",
       "      <td>o</td>\n",
       "      <td>0</td>\n",
       "      <td>...</td>\n",
       "      <td>0</td>\n",
       "      <td>0</td>\n",
       "      <td>1</td>\n",
       "      <td>0</td>\n",
       "      <td>0</td>\n",
       "      <td>0</td>\n",
       "      <td>0</td>\n",
       "      <td>0</td>\n",
       "      <td>0</td>\n",
       "      <td>0</td>\n",
       "    </tr>\n",
       "    <tr>\n",
       "      <th>6</th>\n",
       "      <td>88.53</td>\n",
       "      <td>k</td>\n",
       "      <td>t</td>\n",
       "      <td>av</td>\n",
       "      <td>e</td>\n",
       "      <td>d</td>\n",
       "      <td>y</td>\n",
       "      <td>l</td>\n",
       "      <td>o</td>\n",
       "      <td>0</td>\n",
       "      <td>...</td>\n",
       "      <td>1</td>\n",
       "      <td>0</td>\n",
       "      <td>0</td>\n",
       "      <td>0</td>\n",
       "      <td>0</td>\n",
       "      <td>0</td>\n",
       "      <td>0</td>\n",
       "      <td>0</td>\n",
       "      <td>0</td>\n",
       "      <td>0</td>\n",
       "    </tr>\n",
       "    <tr>\n",
       "      <th>7</th>\n",
       "      <td>76.26</td>\n",
       "      <td>az</td>\n",
       "      <td>w</td>\n",
       "      <td>n</td>\n",
       "      <td>c</td>\n",
       "      <td>d</td>\n",
       "      <td>x</td>\n",
       "      <td>j</td>\n",
       "      <td>x</td>\n",
       "      <td>0</td>\n",
       "      <td>...</td>\n",
       "      <td>0</td>\n",
       "      <td>0</td>\n",
       "      <td>0</td>\n",
       "      <td>0</td>\n",
       "      <td>0</td>\n",
       "      <td>0</td>\n",
       "      <td>1</td>\n",
       "      <td>0</td>\n",
       "      <td>0</td>\n",
       "      <td>0</td>\n",
       "    </tr>\n",
       "    <tr>\n",
       "      <th>9</th>\n",
       "      <td>80.62</td>\n",
       "      <td>az</td>\n",
       "      <td>t</td>\n",
       "      <td>n</td>\n",
       "      <td>f</td>\n",
       "      <td>d</td>\n",
       "      <td>x</td>\n",
       "      <td>l</td>\n",
       "      <td>e</td>\n",
       "      <td>0</td>\n",
       "      <td>...</td>\n",
       "      <td>0</td>\n",
       "      <td>0</td>\n",
       "      <td>0</td>\n",
       "      <td>0</td>\n",
       "      <td>0</td>\n",
       "      <td>0</td>\n",
       "      <td>0</td>\n",
       "      <td>0</td>\n",
       "      <td>0</td>\n",
       "      <td>0</td>\n",
       "    </tr>\n",
       "    <tr>\n",
       "      <th>13</th>\n",
       "      <td>78.02</td>\n",
       "      <td>az</td>\n",
       "      <td>v</td>\n",
       "      <td>n</td>\n",
       "      <td>f</td>\n",
       "      <td>d</td>\n",
       "      <td>h</td>\n",
       "      <td>d</td>\n",
       "      <td>n</td>\n",
       "      <td>0</td>\n",
       "      <td>...</td>\n",
       "      <td>0</td>\n",
       "      <td>0</td>\n",
       "      <td>0</td>\n",
       "      <td>0</td>\n",
       "      <td>0</td>\n",
       "      <td>0</td>\n",
       "      <td>0</td>\n",
       "      <td>0</td>\n",
       "      <td>0</td>\n",
       "      <td>0</td>\n",
       "    </tr>\n",
       "  </tbody>\n",
       "</table>\n",
       "<p>5 rows × 377 columns</p>\n",
       "</div>"
      ],
      "text/plain": [
       "         y  X0 X1  X2 X3 X4 X5 X6 X8  X10  ...   X375  X376  X377  X378  X379  \\\n",
       "ID                                         ...                                  \n",
       "0   130.81   k  v  at  a  d  u  j  o    0  ...      0     0     1     0     0   \n",
       "6    88.53   k  t  av  e  d  y  l  o    0  ...      1     0     0     0     0   \n",
       "7    76.26  az  w   n  c  d  x  j  x    0  ...      0     0     0     0     0   \n",
       "9    80.62  az  t   n  f  d  x  l  e    0  ...      0     0     0     0     0   \n",
       "13   78.02  az  v   n  f  d  h  d  n    0  ...      0     0     0     0     0   \n",
       "\n",
       "    X380  X382  X383  X384  X385  \n",
       "ID                                \n",
       "0      0     0     0     0     0  \n",
       "6      0     0     0     0     0  \n",
       "7      0     1     0     0     0  \n",
       "9      0     0     0     0     0  \n",
       "13     0     0     0     0     0  \n",
       "\n",
       "[5 rows x 377 columns]"
      ]
     },
     "execution_count": 3,
     "metadata": {},
     "output_type": "execute_result"
    }
   ],
   "source": [
    "train.head()"
   ]
  },
  {
   "cell_type": "code",
   "execution_count": 16,
   "metadata": {
    "collapsed": false
   },
   "outputs": [
    {
     "data": {
      "text/plain": [
       "int64      369\n",
       "object       8\n",
       "float64      1\n",
       "dtype: int64"
      ]
     },
     "execution_count": 16,
     "metadata": {},
     "output_type": "execute_result"
    }
   ],
   "source": [
    "train.dtypes.value_counts()"
   ]
  },
  {
   "cell_type": "code",
   "execution_count": 17,
   "metadata": {
    "collapsed": false
   },
   "outputs": [
    {
     "data": {
      "text/html": [
       "<div>\n",
       "<table border=\"1\" class=\"dataframe\">\n",
       "  <thead>\n",
       "    <tr style=\"text-align: right;\">\n",
       "      <th></th>\n",
       "      <th>y</th>\n",
       "      <th>X0</th>\n",
       "      <th>X1</th>\n",
       "      <th>X2</th>\n",
       "      <th>X3</th>\n",
       "      <th>X4</th>\n",
       "      <th>X5</th>\n",
       "      <th>X6</th>\n",
       "      <th>X8</th>\n",
       "      <th>X10</th>\n",
       "      <th>X11</th>\n",
       "    </tr>\n",
       "  </thead>\n",
       "  <tbody>\n",
       "    <tr>\n",
       "      <th>0</th>\n",
       "      <td>130.81</td>\n",
       "      <td>k</td>\n",
       "      <td>v</td>\n",
       "      <td>at</td>\n",
       "      <td>a</td>\n",
       "      <td>d</td>\n",
       "      <td>u</td>\n",
       "      <td>j</td>\n",
       "      <td>o</td>\n",
       "      <td>0</td>\n",
       "      <td>0</td>\n",
       "    </tr>\n",
       "    <tr>\n",
       "      <th>1</th>\n",
       "      <td>88.53</td>\n",
       "      <td>k</td>\n",
       "      <td>t</td>\n",
       "      <td>av</td>\n",
       "      <td>e</td>\n",
       "      <td>d</td>\n",
       "      <td>y</td>\n",
       "      <td>l</td>\n",
       "      <td>o</td>\n",
       "      <td>0</td>\n",
       "      <td>0</td>\n",
       "    </tr>\n",
       "    <tr>\n",
       "      <th>2</th>\n",
       "      <td>76.26</td>\n",
       "      <td>az</td>\n",
       "      <td>w</td>\n",
       "      <td>n</td>\n",
       "      <td>c</td>\n",
       "      <td>d</td>\n",
       "      <td>x</td>\n",
       "      <td>j</td>\n",
       "      <td>x</td>\n",
       "      <td>0</td>\n",
       "      <td>0</td>\n",
       "    </tr>\n",
       "    <tr>\n",
       "      <th>3</th>\n",
       "      <td>80.62</td>\n",
       "      <td>az</td>\n",
       "      <td>t</td>\n",
       "      <td>n</td>\n",
       "      <td>f</td>\n",
       "      <td>d</td>\n",
       "      <td>x</td>\n",
       "      <td>l</td>\n",
       "      <td>e</td>\n",
       "      <td>0</td>\n",
       "      <td>0</td>\n",
       "    </tr>\n",
       "    <tr>\n",
       "      <th>4</th>\n",
       "      <td>78.02</td>\n",
       "      <td>az</td>\n",
       "      <td>v</td>\n",
       "      <td>n</td>\n",
       "      <td>f</td>\n",
       "      <td>d</td>\n",
       "      <td>h</td>\n",
       "      <td>d</td>\n",
       "      <td>n</td>\n",
       "      <td>0</td>\n",
       "      <td>0</td>\n",
       "    </tr>\n",
       "  </tbody>\n",
       "</table>\n",
       "</div>"
      ],
      "text/plain": [
       "        y  X0 X1  X2 X3 X4 X5 X6 X8  X10  X11\n",
       "0  130.81   k  v  at  a  d  u  j  o    0    0\n",
       "1   88.53   k  t  av  e  d  y  l  o    0    0\n",
       "2   76.26  az  w   n  c  d  x  j  x    0    0\n",
       "3   80.62  az  t   n  f  d  x  l  e    0    0\n",
       "4   78.02  az  v   n  f  d  h  d  n    0    0"
      ]
     },
     "execution_count": 17,
     "metadata": {},
     "output_type": "execute_result"
    }
   ],
   "source": [
    "# X0-X8 are alphanumeric\n",
    "train.iloc[:, 1:12].head()"
   ]
  },
  {
   "cell_type": "code",
   "execution_count": 37,
   "metadata": {
    "collapsed": false
   },
   "outputs": [
    {
     "data": {
      "text/plain": [
       "count    4209.000000\n",
       "mean      100.669318\n",
       "std        12.679381\n",
       "min        72.110000\n",
       "25%        90.820000\n",
       "50%        99.150000\n",
       "75%       109.010000\n",
       "max       265.320000\n",
       "Name: y, dtype: float64"
      ]
     },
     "execution_count": 37,
     "metadata": {},
     "output_type": "execute_result"
    }
   ],
   "source": [
    "train.y.describe()"
   ]
  },
  {
   "cell_type": "code",
   "execution_count": 19,
   "metadata": {
    "collapsed": false
   },
   "outputs": [
    {
     "data": {
      "text/plain": [
       "z     360\n",
       "ak    349\n",
       "y     324\n",
       "ay    313\n",
       "t     306\n",
       "x     300\n",
       "o     269\n",
       "f     227\n",
       "n     195\n",
       "w     182\n",
       "j     181\n",
       "az    175\n",
       "aj    151\n",
       "s     106\n",
       "ap    103\n",
       "h      75\n",
       "d      73\n",
       "al     67\n",
       "v      36\n",
       "af     35\n",
       "ai     34\n",
       "m      34\n",
       "e      32\n",
       "ba     27\n",
       "at     25\n",
       "a      21\n",
       "ax     19\n",
       "aq     18\n",
       "i      18\n",
       "am     18\n",
       "u      17\n",
       "l      16\n",
       "aw     16\n",
       "ad     14\n",
       "b      11\n",
       "au     11\n",
       "k      11\n",
       "r      10\n",
       "as     10\n",
       "bc      6\n",
       "ao      4\n",
       "c       3\n",
       "q       2\n",
       "aa      2\n",
       "g       1\n",
       "ac      1\n",
       "ab      1\n",
       "Name: X0, dtype: int64"
      ]
     },
     "execution_count": 19,
     "metadata": {},
     "output_type": "execute_result"
    }
   ],
   "source": [
    "train.X0.value_counts()"
   ]
  },
  {
   "cell_type": "code",
   "execution_count": 20,
   "metadata": {
    "collapsed": false
   },
   "outputs": [
    {
     "data": {
      "text/plain": [
       "aa    833\n",
       "s     598\n",
       "b     592\n",
       "l     590\n",
       "v     408\n",
       "r     251\n",
       "i     203\n",
       "a     143\n",
       "c     121\n",
       "o      82\n",
       "w      52\n",
       "z      46\n",
       "u      37\n",
       "e      33\n",
       "m      32\n",
       "t      31\n",
       "h      29\n",
       "f      23\n",
       "y      23\n",
       "j      22\n",
       "n      19\n",
       "k      17\n",
       "p       9\n",
       "g       6\n",
       "ab      3\n",
       "d       3\n",
       "q       3\n",
       "Name: X1, dtype: int64"
      ]
     },
     "execution_count": 20,
     "metadata": {},
     "output_type": "execute_result"
    }
   ],
   "source": [
    "train.X1.value_counts()"
   ]
  },
  {
   "cell_type": "code",
   "execution_count": 21,
   "metadata": {
    "collapsed": false
   },
   "outputs": [
    {
     "data": {
      "text/plain": [
       "as    1659\n",
       "ae     496\n",
       "ai     415\n",
       "m      367\n",
       "ak     265\n",
       "r      153\n",
       "n      137\n",
       "s       94\n",
       "f       87\n",
       "e       81\n",
       "aq      63\n",
       "ay      54\n",
       "a       47\n",
       "t       29\n",
       "i       25\n",
       "k       25\n",
       "b       21\n",
       "ao      20\n",
       "ag      19\n",
       "z       19\n",
       "d       18\n",
       "ac      13\n",
       "g       12\n",
       "y       11\n",
       "ap      11\n",
       "x       10\n",
       "aw       8\n",
       "at       6\n",
       "h        6\n",
       "q        5\n",
       "al       5\n",
       "an       5\n",
       "av       4\n",
       "p        4\n",
       "ah       4\n",
       "au       3\n",
       "c        1\n",
       "ar       1\n",
       "am       1\n",
       "l        1\n",
       "o        1\n",
       "aa       1\n",
       "j        1\n",
       "af       1\n",
       "Name: X2, dtype: int64"
      ]
     },
     "execution_count": 21,
     "metadata": {},
     "output_type": "execute_result"
    }
   ],
   "source": [
    "train.X2.value_counts()"
   ]
  },
  {
   "cell_type": "code",
   "execution_count": 22,
   "metadata": {
    "collapsed": false
   },
   "outputs": [
    {
     "data": {
      "text/plain": [
       "c    1942\n",
       "f    1076\n",
       "a     440\n",
       "d     290\n",
       "g     241\n",
       "e     163\n",
       "b      57\n",
       "Name: X3, dtype: int64"
      ]
     },
     "execution_count": 22,
     "metadata": {},
     "output_type": "execute_result"
    }
   ],
   "source": [
    "train.X3.value_counts()"
   ]
  },
  {
   "cell_type": "code",
   "execution_count": 23,
   "metadata": {
    "collapsed": false
   },
   "outputs": [
    {
     "data": {
      "text/plain": [
       "d    4205\n",
       "a       2\n",
       "b       1\n",
       "c       1\n",
       "Name: X4, dtype: int64"
      ]
     },
     "execution_count": 23,
     "metadata": {},
     "output_type": "execute_result"
    }
   ],
   "source": [
    "train.X4.value_counts()"
   ]
  },
  {
   "cell_type": "code",
   "execution_count": 24,
   "metadata": {
    "collapsed": false
   },
   "outputs": [
    {
     "data": {
      "text/plain": [
       "w     231\n",
       "v     231\n",
       "q     220\n",
       "r     215\n",
       "s     214\n",
       "d     214\n",
       "n     212\n",
       "m     208\n",
       "p     208\n",
       "i     207\n",
       "ae    205\n",
       "ag    204\n",
       "ac    200\n",
       "ab    197\n",
       "l     195\n",
       "af    188\n",
       "ad    185\n",
       "k     177\n",
       "c     131\n",
       "j     125\n",
       "aa    112\n",
       "ah     97\n",
       "o      20\n",
       "f       7\n",
       "x       2\n",
       "h       1\n",
       "y       1\n",
       "g       1\n",
       "u       1\n",
       "Name: X5, dtype: int64"
      ]
     },
     "execution_count": 24,
     "metadata": {},
     "output_type": "execute_result"
    }
   ],
   "source": [
    "train.X5.value_counts()"
   ]
  },
  {
   "cell_type": "code",
   "execution_count": 25,
   "metadata": {
    "collapsed": false
   },
   "outputs": [
    {
     "data": {
      "text/plain": [
       "g    1042\n",
       "j    1039\n",
       "d     625\n",
       "i     488\n",
       "l     478\n",
       "a     206\n",
       "h     190\n",
       "k      43\n",
       "c      38\n",
       "b      28\n",
       "f      20\n",
       "e      12\n",
       "Name: X6, dtype: int64"
      ]
     },
     "execution_count": 25,
     "metadata": {},
     "output_type": "execute_result"
    }
   ],
   "source": [
    "train.X6.value_counts()"
   ]
  },
  {
   "cell_type": "code",
   "execution_count": 30,
   "metadata": {
    "collapsed": false
   },
   "outputs": [
    {
     "data": {
      "text/plain": [
       "j    277\n",
       "s    255\n",
       "f    243\n",
       "n    242\n",
       "i    237\n",
       "e    225\n",
       "r    219\n",
       "a    210\n",
       "w    196\n",
       "v    194\n",
       "b    190\n",
       "k    176\n",
       "o    163\n",
       "m    155\n",
       "g    130\n",
       "u    119\n",
       "t    119\n",
       "q    117\n",
       "h    117\n",
       "y    116\n",
       "x    105\n",
       "d    103\n",
       "l    101\n",
       "c    100\n",
       "p    100\n",
       "Name: X8, dtype: int64"
      ]
     },
     "execution_count": 30,
     "metadata": {},
     "output_type": "execute_result"
    }
   ],
   "source": [
    "# X7 is missing\n",
    "train.X8.value_counts()"
   ]
  },
  {
   "cell_type": "markdown",
   "metadata": {},
   "source": [
    "### Check for one hot encoding"
   ]
  },
  {
   "cell_type": "code",
   "execution_count": 10,
   "metadata": {
    "collapsed": false
   },
   "outputs": [
    {
     "data": {
      "text/plain": [
       "True"
      ]
     },
     "execution_count": 10,
     "metadata": {},
     "output_type": "execute_result"
    }
   ],
   "source": [
    "set(train.X1.values) == set(test.X1.values)"
   ]
  },
  {
   "cell_type": "code",
   "execution_count": 11,
   "metadata": {
    "collapsed": false
   },
   "outputs": [
    {
     "data": {
      "text/plain": [
       "False"
      ]
     },
     "execution_count": 11,
     "metadata": {},
     "output_type": "execute_result"
    }
   ],
   "source": [
    "set(train.X2.values) == set(test.X2.values)"
   ]
  },
  {
   "cell_type": "code",
   "execution_count": 14,
   "metadata": {
    "collapsed": false
   },
   "outputs": [
    {
     "data": {
      "text/plain": [
       "({'a',\n",
       "  'aa',\n",
       "  'ac',\n",
       "  'ae',\n",
       "  'af',\n",
       "  'ag',\n",
       "  'ah',\n",
       "  'ai',\n",
       "  'ak',\n",
       "  'al',\n",
       "  'am',\n",
       "  'an',\n",
       "  'ao',\n",
       "  'ap',\n",
       "  'aq',\n",
       "  'ar',\n",
       "  'as',\n",
       "  'at',\n",
       "  'au',\n",
       "  'av',\n",
       "  'aw',\n",
       "  'ay',\n",
       "  'b',\n",
       "  'c',\n",
       "  'd',\n",
       "  'e',\n",
       "  'f',\n",
       "  'g',\n",
       "  'h',\n",
       "  'i',\n",
       "  'j',\n",
       "  'k',\n",
       "  'l',\n",
       "  'm',\n",
       "  'n',\n",
       "  'o',\n",
       "  'p',\n",
       "  'q',\n",
       "  'r',\n",
       "  's',\n",
       "  't',\n",
       "  'x',\n",
       "  'y',\n",
       "  'z'},\n",
       " {'a',\n",
       "  'ab',\n",
       "  'ac',\n",
       "  'ad',\n",
       "  'ae',\n",
       "  'af',\n",
       "  'ag',\n",
       "  'ah',\n",
       "  'ai',\n",
       "  'aj',\n",
       "  'ak',\n",
       "  'al',\n",
       "  'am',\n",
       "  'an',\n",
       "  'ao',\n",
       "  'ap',\n",
       "  'aq',\n",
       "  'as',\n",
       "  'at',\n",
       "  'au',\n",
       "  'av',\n",
       "  'aw',\n",
       "  'ax',\n",
       "  'ay',\n",
       "  'b',\n",
       "  'd',\n",
       "  'e',\n",
       "  'f',\n",
       "  'g',\n",
       "  'h',\n",
       "  'i',\n",
       "  'j',\n",
       "  'k',\n",
       "  'm',\n",
       "  'n',\n",
       "  'p',\n",
       "  'q',\n",
       "  'r',\n",
       "  's',\n",
       "  't',\n",
       "  'u',\n",
       "  'w',\n",
       "  'x',\n",
       "  'y',\n",
       "  'z'})"
      ]
     },
     "execution_count": 14,
     "metadata": {},
     "output_type": "execute_result"
    }
   ],
   "source": [
    "set(train.X2.values), set(test.X2.values)"
   ]
  },
  {
   "cell_type": "code",
   "execution_count": 15,
   "metadata": {
    "collapsed": false
   },
   "outputs": [
    {
     "data": {
      "text/plain": [
       "True"
      ]
     },
     "execution_count": 15,
     "metadata": {},
     "output_type": "execute_result"
    }
   ],
   "source": [
    "set(train.X3.values) == set(test.X3.values)"
   ]
  },
  {
   "cell_type": "code",
   "execution_count": 16,
   "metadata": {
    "collapsed": false
   },
   "outputs": [
    {
     "data": {
      "text/plain": [
       "True"
      ]
     },
     "execution_count": 16,
     "metadata": {},
     "output_type": "execute_result"
    }
   ],
   "source": [
    "set(train.X4.values) == set(test.X4.values)"
   ]
  },
  {
   "cell_type": "code",
   "execution_count": 17,
   "metadata": {
    "collapsed": false
   },
   "outputs": [
    {
     "data": {
      "text/plain": [
       "False"
      ]
     },
     "execution_count": 17,
     "metadata": {},
     "output_type": "execute_result"
    }
   ],
   "source": [
    "set(train.X5.values) == set(test.X5.values)"
   ]
  },
  {
   "cell_type": "code",
   "execution_count": 20,
   "metadata": {
    "collapsed": false
   },
   "outputs": [
    {
     "data": {
      "text/plain": [
       "({'aa',\n",
       "  'ab',\n",
       "  'ac',\n",
       "  'ad',\n",
       "  'ae',\n",
       "  'af',\n",
       "  'ag',\n",
       "  'ah',\n",
       "  'c',\n",
       "  'd',\n",
       "  'f',\n",
       "  'g',\n",
       "  'h',\n",
       "  'i',\n",
       "  'j',\n",
       "  'k',\n",
       "  'l',\n",
       "  'm',\n",
       "  'n',\n",
       "  'o',\n",
       "  'p',\n",
       "  'q',\n",
       "  'r',\n",
       "  's',\n",
       "  'u',\n",
       "  'v',\n",
       "  'w',\n",
       "  'x',\n",
       "  'y'},\n",
       " {'a',\n",
       "  'aa',\n",
       "  'ab',\n",
       "  'ac',\n",
       "  'ad',\n",
       "  'ae',\n",
       "  'af',\n",
       "  'ag',\n",
       "  'ah',\n",
       "  'b',\n",
       "  'c',\n",
       "  'd',\n",
       "  'f',\n",
       "  'g',\n",
       "  'h',\n",
       "  'i',\n",
       "  'j',\n",
       "  'k',\n",
       "  'l',\n",
       "  'm',\n",
       "  'n',\n",
       "  'o',\n",
       "  'p',\n",
       "  'q',\n",
       "  'r',\n",
       "  's',\n",
       "  't',\n",
       "  'v',\n",
       "  'w',\n",
       "  'x',\n",
       "  'y',\n",
       "  'z'})"
      ]
     },
     "execution_count": 20,
     "metadata": {},
     "output_type": "execute_result"
    }
   ],
   "source": [
    "set(train.X5.values), set(test.X5.values)"
   ]
  },
  {
   "cell_type": "code",
   "execution_count": 18,
   "metadata": {
    "collapsed": false
   },
   "outputs": [
    {
     "data": {
      "text/plain": [
       "True"
      ]
     },
     "execution_count": 18,
     "metadata": {},
     "output_type": "execute_result"
    }
   ],
   "source": [
    "set(train.X6.values) == set(test.X6.values)"
   ]
  },
  {
   "cell_type": "code",
   "execution_count": 23,
   "metadata": {
    "collapsed": false
   },
   "outputs": [
    {
     "data": {
      "text/plain": [
       "True"
      ]
     },
     "execution_count": 23,
     "metadata": {},
     "output_type": "execute_result"
    }
   ],
   "source": [
    "set(train.X8.values) == set(test.X8.values)"
   ]
  },
  {
   "cell_type": "markdown",
   "metadata": {
    "collapsed": true
   },
   "source": [
    "### Dimension Reduction"
   ]
  },
  {
   "cell_type": "code",
   "execution_count": 6,
   "metadata": {
    "collapsed": false
   },
   "outputs": [],
   "source": [
    "train[\"data\"] = \"train\"\n",
    "test[\"data\"] = \"test\"\n",
    "\n",
    "combined_data = pd.concat([train, test])\n",
    "encoded = pd.get_dummies(combined_data[[\"X0\", \"X1\", \"X2\", \"X3\", \"X4\", \"X5\", \"X6\", \"X8\"]])\n",
    "drop_cat = combined_data.drop([\"X0\", \"X1\", \"X2\", \"X3\", \"X4\", \"X5\", \"X6\", \"X8\"], axis=1)\n",
    "combined_data_clean = drop_cat.join(encoded)\n",
    "\n",
    "train_data = combined_data_clean[combined_data_clean.data == \"train\"].copy()\n",
    "test_data = combined_data_clean[combined_data_clean.data == \"test\"].copy()\n",
    "\n",
    "train_data.drop(\"data\", axis=1, inplace=True)\n",
    "test_data.drop([\"data\", \"y\"], axis=1, inplace=True)"
   ]
  },
  {
   "cell_type": "code",
   "execution_count": 9,
   "metadata": {
    "collapsed": false
   },
   "outputs": [],
   "source": [
    "y_train = train_data[\"y\"].astype(np.float32)\n",
    "x_train =  train_data.drop(\"y\", axis=1).astype(np.float32)\n",
    "x_test = test_data.astype(np.float32)"
   ]
  },
  {
   "cell_type": "code",
   "execution_count": 12,
   "metadata": {
    "collapsed": false
   },
   "outputs": [
    {
     "data": {
      "text/plain": [
       "(4209, 579)"
      ]
     },
     "execution_count": 12,
     "metadata": {},
     "output_type": "execute_result"
    }
   ],
   "source": [
    "x_train.shape"
   ]
  },
  {
   "cell_type": "code",
   "execution_count": 14,
   "metadata": {
    "collapsed": true
   },
   "outputs": [],
   "source": [
    "n_comp = 128\n",
    "pca = PCA(n_components=n_comp, random_state=42)\n",
    "pca_train = pca.fit(x_train)"
   ]
  },
  {
   "cell_type": "code",
   "execution_count": 17,
   "metadata": {
    "collapsed": false
   },
   "outputs": [
    {
     "data": {
      "text/plain": [
       "0.94219349465571733"
      ]
     },
     "execution_count": 17,
     "metadata": {},
     "output_type": "execute_result"
    }
   ],
   "source": [
    "sum(pca_train.explained_variance_ratio_)"
   ]
  },
  {
   "cell_type": "code",
   "execution_count": 21,
   "metadata": {
    "collapsed": true
   },
   "outputs": [],
   "source": [
    "explained_variance = []\n",
    "for i in range(0, 256, 8):\n",
    "    pca = PCA(n_components=i, random_state=42)\n",
    "    pca_train = pca.fit(x_train)\n",
    "    explained_variance.append((i, sum(pca_train.explained_variance_ratio_)))"
   ]
  },
  {
   "cell_type": "code",
   "execution_count": 22,
   "metadata": {
    "collapsed": false
   },
   "outputs": [
    {
     "data": {
      "text/plain": [
       "{0: 0,\n",
       " 8: 0.47605549419197163,\n",
       " 16: 0.61699392441065193,\n",
       " 24: 0.69218340667925138,\n",
       " 32: 0.74408739404312818,\n",
       " 40: 0.77996118679673621,\n",
       " 48: 0.80791975408695604,\n",
       " 56: 0.82946029753728234,\n",
       " 64: 0.84643924630668399,\n",
       " 72: 0.86213556473268438,\n",
       " 80: 0.87680818318488951,\n",
       " 88: 0.89040102187154835,\n",
       " 96: 0.90297520827718669,\n",
       " 104: 0.91439508267792902,\n",
       " 112: 0.92462390625367408,\n",
       " 120: 0.93398980786247399,\n",
       " 128: 0.94219349465571733,\n",
       " 136: 0.9497299777010596,\n",
       " 144: 0.9562601748965307,\n",
       " 152: 0.96240233268858666,\n",
       " 160: 0.96767929908369421,\n",
       " 168: 0.97230693425147741,\n",
       " 176: 0.97627645822739395,\n",
       " 184: 0.97971698067144608,\n",
       " 192: 0.98261388032735553,\n",
       " 200: 0.9851100727130353,\n",
       " 208: 0.98733941195298625,\n",
       " 216: 0.98925885341009012,\n",
       " 224: 0.99093168768186879,\n",
       " 232: 0.99235891799299503,\n",
       " 240: 0.99360979432278074,\n",
       " 248: 0.99469946410844767}"
      ]
     },
     "execution_count": 22,
     "metadata": {},
     "output_type": "execute_result"
    }
   ],
   "source": [
    "dict(explained_variance)"
   ]
  },
  {
   "cell_type": "code",
   "execution_count": 25,
   "metadata": {
    "collapsed": true
   },
   "outputs": [],
   "source": [
    "explained_variance = []\n",
    "for i in range(240, 400, 8):\n",
    "    pca = PCA(n_components=i, random_state=42)\n",
    "    pca_train = pca.fit(x_train)\n",
    "    explained_variance.append((i, sum(pca_train.explained_variance_ratio_)))"
   ]
  },
  {
   "cell_type": "code",
   "execution_count": 26,
   "metadata": {
    "collapsed": false
   },
   "outputs": [
    {
     "data": {
      "text/plain": [
       "[(240, 0.99360979432278074),\n",
       " (248, 0.99469946410844767),\n",
       " (256, 0.995654901928548),\n",
       " (264, 0.99646795936193866),\n",
       " (272, 0.99717329564323098),\n",
       " (280, 0.9977329115068988),\n",
       " (288, 0.99818708045754923),\n",
       " (296, 0.99857550913368598),\n",
       " (304, 0.99889695038221749),\n",
       " (312, 0.99915478577746908),\n",
       " (320, 0.99935513932516695),\n",
       " (328, 0.99952267961709995),\n",
       " (336, 0.99965841713475012),\n",
       " (344, 0.99976490794121919),\n",
       " (352, 0.99984790731095996),\n",
       " (360, 0.99991368952631099),\n",
       " (368, 0.99996687672115891),\n",
       " (376, 0.99999332990791712),\n",
       " (384, 0.99999999999999956),\n",
       " (392, 0.99999999999999978)]"
      ]
     },
     "execution_count": 26,
     "metadata": {},
     "output_type": "execute_result"
    }
   ],
   "source": [
    "# PCA: 96 - 90%, 128 - 94%, 144 - 95%, 384 - 99%\n",
    "explained_variance"
   ]
  },
  {
   "cell_type": "code",
   "execution_count": 28,
   "metadata": {
    "collapsed": false
   },
   "outputs": [],
   "source": [
    "n_comp = 128\n",
    "ipca = IncrementalPCA(n_components=n_comp)\n",
    "ipca_train = ipca.fit(x_train)"
   ]
  },
  {
   "cell_type": "code",
   "execution_count": 32,
   "metadata": {
    "collapsed": false
   },
   "outputs": [
    {
     "data": {
      "text/plain": [
       "0.94201652033440042"
      ]
     },
     "execution_count": 32,
     "metadata": {},
     "output_type": "execute_result"
    }
   ],
   "source": [
    "sum(ipca_train.explained_variance_ratio_)"
   ]
  },
  {
   "cell_type": "code",
   "execution_count": 35,
   "metadata": {
    "collapsed": false
   },
   "outputs": [],
   "source": [
    "explained_variance = []\n",
    "for i in range(1, 256, 8):\n",
    "    ipca = IncrementalPCA(n_components=i)\n",
    "    ipca_train = ipca.fit(x_train)\n",
    "    explained_variance.append((i, sum(ipca_train.explained_variance_ratio_)))"
   ]
  },
  {
   "cell_type": "code",
   "execution_count": 36,
   "metadata": {
    "collapsed": false
   },
   "outputs": [
    {
     "data": {
      "text/plain": [
       "[(1, 0.1132115624900045),\n",
       " (9, 0.50043021938760213),\n",
       " (17, 0.62853187469609384),\n",
       " (25, 0.69904712953998416),\n",
       " (33, 0.74825300525885452),\n",
       " (41, 0.78273254959295879),\n",
       " (49, 0.80960647400314412),\n",
       " (57, 0.82976213353543082),\n",
       " (65, 0.84663292549757618),\n",
       " (73, 0.862629674727447),\n",
       " (81, 0.87780401785872231),\n",
       " (89, 0.89159257767515987),\n",
       " (97, 0.90413270258730094),\n",
       " (105, 0.91560007034259694),\n",
       " (113, 0.92575757193537456),\n",
       " (121, 0.93480686481694608),\n",
       " (129, 0.94299553952865101),\n",
       " (137, 0.95036471811847234),\n",
       " (145, 0.95693760357546231),\n",
       " (153, 0.96282315569213495),\n",
       " (161, 0.96810397512792656),\n",
       " (169, 0.97269960205194739),\n",
       " (177, 0.97658523237557959),\n",
       " (185, 0.97991447494821338),\n",
       " (193, 0.9827872529423497),\n",
       " (201, 0.98526299646112303),\n",
       " (209, 0.98744795282583797),\n",
       " (217, 0.98935137056145606),\n",
       " (225, 0.99103082602187964),\n",
       " (233, 0.99242995119863109),\n",
       " (241, 0.99366121426861431),\n",
       " (249, 0.99471454456945663)]"
      ]
     },
     "execution_count": 36,
     "metadata": {},
     "output_type": "execute_result"
    }
   ],
   "source": [
    "explained_variance"
   ]
  },
  {
   "cell_type": "code",
   "execution_count": 37,
   "metadata": {
    "collapsed": true
   },
   "outputs": [],
   "source": [
    "explained_variance = []\n",
    "for i in range(240, 400, 8):\n",
    "    ipca = IncrementalPCA(n_components=i)\n",
    "    ipca_train = ipca.fit(x_train)\n",
    "    explained_variance.append((i, sum(ipca_train.explained_variance_ratio_)))"
   ]
  },
  {
   "cell_type": "code",
   "execution_count": 38,
   "metadata": {
    "collapsed": false
   },
   "outputs": [
    {
     "data": {
      "text/plain": [
       "[(240, 0.99351667381522135),\n",
       " (248, 0.99459104036522961),\n",
       " (256, 0.99555559636625446),\n",
       " (264, 1.1432446091132014),\n",
       " (272, 0.99713288033819447),\n",
       " (280, 0.99769868909235737),\n",
       " (288, 0.99816192279216454),\n",
       " (296, 0.99855978565546011),\n",
       " (304, 0.99888666797673198),\n",
       " (312, 0.99914796217854462),\n",
       " (320, 0.99935090704783991),\n",
       " (328, 0.99951649997573044),\n",
       " (336, 1.325435069346838),\n",
       " (344, 1.3860063188076295),\n",
       " (352, 1.774266613557512),\n",
       " (360, 1.8447936659597159),\n",
       " (368, 1.7473611703558873),\n",
       " (376, 0.99999332990791867),\n",
       " (384, 0.99999999999999956),\n",
       " (392, 1.0000000000000007)]"
      ]
     },
     "execution_count": 38,
     "metadata": {},
     "output_type": "execute_result"
    }
   ],
   "source": [
    "explained_variance"
   ]
  },
  {
   "cell_type": "markdown",
   "metadata": {
    "collapsed": true
   },
   "source": []
  },
  {
   "cell_type": "code",
   "execution_count": 42,
   "metadata": {
    "collapsed": false
   },
   "outputs": [],
   "source": [
    "n_comp = 128\n",
    "ica = FastICA(n_components=n_comp, random_state=42)\n",
    "ica_train = ica.fit_transform(x_train)"
   ]
  },
  {
   "cell_type": "code",
   "execution_count": 43,
   "metadata": {
    "collapsed": false
   },
   "outputs": [
    {
     "data": {
      "text/plain": [
       "array([[-0.01113558, -0.01278506, -0.00054812, ...,  0.22533553,\n",
       "         0.01398932,  0.00182085],\n",
       "       [-0.01024565,  0.00722343,  0.00534246, ...,  0.04337152,\n",
       "        -0.00263399, -0.00799913],\n",
       "       [ 0.00247782, -0.00327344, -0.00668173, ..., -0.00528587,\n",
       "        -0.017909  ,  0.00436381],\n",
       "       ..., \n",
       "       [ 0.00957575,  0.00045622,  0.00125147, ..., -0.00370229,\n",
       "         0.00699277,  0.00318228],\n",
       "       [ 0.03542754, -0.00186037, -0.0023458 , ..., -0.03181803,\n",
       "         0.01118466, -0.0008322 ],\n",
       "       [ 0.00207945,  0.00080283,  0.00165839, ..., -0.02188175,\n",
       "         0.01127752, -0.00261841]])"
      ]
     },
     "execution_count": 43,
     "metadata": {},
     "output_type": "execute_result"
    }
   ],
   "source": [
    "ica_train"
   ]
  },
  {
   "cell_type": "code",
   "execution_count": null,
   "metadata": {
    "collapsed": true
   },
   "outputs": [],
   "source": []
  },
  {
   "cell_type": "code",
   "execution_count": null,
   "metadata": {
    "collapsed": true
   },
   "outputs": [],
   "source": []
  },
  {
   "cell_type": "code",
   "execution_count": null,
   "metadata": {
    "collapsed": true
   },
   "outputs": [],
   "source": []
  }
 ],
 "metadata": {
  "kernelspec": {
   "display_name": "Python 3",
   "language": "python",
   "name": "python3"
  },
  "language_info": {
   "codemirror_mode": {
    "name": "ipython",
    "version": 3
   },
   "file_extension": ".py",
   "mimetype": "text/x-python",
   "name": "python",
   "nbconvert_exporter": "python",
   "pygments_lexer": "ipython3",
   "version": "3.5.2"
  },
  "widgets": {
   "state": {},
   "version": "1.1.2"
  }
 },
 "nbformat": 4,
 "nbformat_minor": 2
}
