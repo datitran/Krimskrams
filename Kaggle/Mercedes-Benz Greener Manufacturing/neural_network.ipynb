{
 "cells": [
  {
   "cell_type": "code",
   "execution_count": 103,
   "metadata": {
    "collapsed": false
   },
   "outputs": [],
   "source": [
    "import datetime\n",
    "import numpy as np\n",
    "\n",
    "import numpy as np\n",
    "np.random.seed(42)\n",
    "import tensorflow as tf\n",
    "tf.set_random_seed(42)\n",
    "\n",
    "import pandas as pd\n",
    "import keras.backend as K\n",
    "from sklearn import preprocessing\n",
    "from sklearn.metrics import r2_score\n",
    "from keras.models import Sequential\n",
    "from keras.layers.core import Dense, Dropout\n",
    "from keras.layers.recurrent import SimpleRNN, LSTM\n",
    "from keras.layers.wrappers import TimeDistributed, Bidirectional\n",
    "from keras.callbacks import EarlyStopping, ModelCheckpoint\n",
    "\n",
    "import statsmodels.api as sm\n",
    "from statsmodels.stats.outliers_influence import variance_inflation_factor\n",
    "from sklearn.decomposition import PCA"
   ]
  },
  {
   "cell_type": "code",
   "execution_count": 3,
   "metadata": {
    "collapsed": false
   },
   "outputs": [],
   "source": [
    "train = pd.read_csv(\"data/train.csv\", index_col=\"ID\")\n",
    "test = pd.read_csv(\"data/test.csv\", index_col=\"ID\")"
   ]
  },
  {
   "cell_type": "markdown",
   "metadata": {},
   "source": [
    "### Combine train and test data for one-hot encoding"
   ]
  },
  {
   "cell_type": "code",
   "execution_count": 4,
   "metadata": {
    "collapsed": false
   },
   "outputs": [],
   "source": [
    "train[\"data\"] = \"train\"\n",
    "test[\"data\"] = \"test\"\n",
    "\n",
    "combined_data = pd.concat([train, test])\n",
    "encoded = pd.get_dummies(combined_data[[\"X0\", \"X1\", \"X2\", \"X3\", \"X4\", \"X5\", \"X6\", \"X8\"]])\n",
    "drop_cat = combined_data.drop([\"X0\", \"X1\", \"X2\", \"X3\", \"X4\", \"X5\", \"X6\", \"X8\"], axis=1)\n",
    "combined_data_clean = drop_cat.join(encoded)"
   ]
  },
  {
   "cell_type": "code",
   "execution_count": 5,
   "metadata": {
    "collapsed": false
   },
   "outputs": [],
   "source": [
    "train_data = combined_data_clean[combined_data_clean.data == \"train\"].copy()\n",
    "test_data = combined_data_clean[combined_data_clean.data == \"test\"].copy()\n",
    "\n",
    "train_data.drop(\"data\", axis=1, inplace=True)\n",
    "test_data.drop([\"data\", \"y\"], axis=1, inplace=True)"
   ]
  },
  {
   "cell_type": "code",
   "execution_count": 6,
   "metadata": {
    "collapsed": false
   },
   "outputs": [
    {
     "data": {
      "text/plain": [
       "Index(['X10', 'X100', 'X101', 'X102', 'X103', 'X104', 'X105', 'X106', 'X107',\n",
       "       'X108',\n",
       "       ...\n",
       "       'X8_p', 'X8_q', 'X8_r', 'X8_s', 'X8_t', 'X8_u', 'X8_v', 'X8_w', 'X8_x',\n",
       "       'X8_y'],\n",
       "      dtype='object', length=580)"
      ]
     },
     "execution_count": 6,
     "metadata": {},
     "output_type": "execute_result"
    }
   ],
   "source": [
    "train_data.columns"
   ]
  },
  {
   "cell_type": "code",
   "execution_count": 7,
   "metadata": {
    "collapsed": false
   },
   "outputs": [
    {
     "data": {
      "text/plain": [
       "Index(['X10', 'X100', 'X101', 'X102', 'X103', 'X104', 'X105', 'X106', 'X107',\n",
       "       'X108',\n",
       "       ...\n",
       "       'X8_p', 'X8_q', 'X8_r', 'X8_s', 'X8_t', 'X8_u', 'X8_v', 'X8_w', 'X8_x',\n",
       "       'X8_y'],\n",
       "      dtype='object', length=579)"
      ]
     },
     "execution_count": 7,
     "metadata": {},
     "output_type": "execute_result"
    }
   ],
   "source": [
    "test_data.columns"
   ]
  },
  {
   "cell_type": "code",
   "execution_count": 8,
   "metadata": {
    "collapsed": false
   },
   "outputs": [],
   "source": [
    "y_train = train_data[\"y\"].astype(np.float32)\n",
    "x_train =  train_data.drop(\"y\", axis=1).astype(np.float32)\n",
    "x_test = test_data.astype(np.float32)"
   ]
  },
  {
   "cell_type": "code",
   "execution_count": 9,
   "metadata": {
    "collapsed": false
   },
   "outputs": [
    {
     "data": {
      "text/plain": [
       "(4209, 579)"
      ]
     },
     "execution_count": 9,
     "metadata": {},
     "output_type": "execute_result"
    }
   ],
   "source": [
    "x_train.shape"
   ]
  },
  {
   "cell_type": "code",
   "execution_count": 61,
   "metadata": {
    "collapsed": false
   },
   "outputs": [
    {
     "data": {
      "text/plain": [
       "(4209, 579, 1)"
      ]
     },
     "execution_count": 61,
     "metadata": {},
     "output_type": "execute_result"
    }
   ],
   "source": [
    "train_reshaped = np.array([i.reshape((-1, 1)) for i in x_train.values])\n",
    "train_reshaped = train_reshaped.astype(np.float32)\n",
    "train_reshaped.shape"
   ]
  },
  {
   "cell_type": "markdown",
   "metadata": {},
   "source": [
    "### Adjust for multicollinearity"
   ]
  },
  {
   "cell_type": "markdown",
   "metadata": {},
   "source": [
    "- Idea: treat the features as sequences but using the raw data 0/1 can cause NaN easily / probably due to multicollinearity\n",
    "- Therefore either take VIF or PCA to adjust for it"
   ]
  },
  {
   "cell_type": "markdown",
   "metadata": {},
   "source": [
    "vif = pd.DataFrame()\n",
    "vif[\"VIF Factor\"] = [variance_inflation_factor(x_train.values, i) for i in range(x_train.shape[1])]\n",
    "vif[\"features\"] = x_train.columns"
   ]
  },
  {
   "cell_type": "code",
   "execution_count": 88,
   "metadata": {
    "collapsed": false
   },
   "outputs": [],
   "source": [
    "n_comp = 128\n",
    "pca = PCA(n_components=n_comp, random_state=42)\n",
    "pca2_results_train = pca.fit_transform(x_train)\n",
    "pca2_results_test = pca.transform(x_test)"
   ]
  },
  {
   "cell_type": "code",
   "execution_count": 89,
   "metadata": {
    "collapsed": false
   },
   "outputs": [
    {
     "data": {
      "text/plain": [
       "(4209, 128, 1)"
      ]
     },
     "execution_count": 89,
     "metadata": {},
     "output_type": "execute_result"
    }
   ],
   "source": [
    "train_reshaped = np.array([i.reshape((-1, 1)) for i in pca2_results_train])\n",
    "train_reshaped = train_reshaped.astype(np.float32)\n",
    "train_reshaped.shape"
   ]
  },
  {
   "cell_type": "markdown",
   "metadata": {},
   "source": [
    "### Train the model"
   ]
  },
  {
   "cell_type": "code",
   "execution_count": 122,
   "metadata": {
    "collapsed": false
   },
   "outputs": [
    {
     "name": "stdout",
     "output_type": "stream",
     "text": [
      "_________________________________________________________________\n",
      "Layer (type)                 Output Shape              Param #   \n",
      "=================================================================\n",
      "bidirectional_40 (Bidirectio (None, None, 256)         33280     \n",
      "_________________________________________________________________\n",
      "bidirectional_41 (Bidirectio (None, None, 128)         41088     \n",
      "_________________________________________________________________\n",
      "bidirectional_42 (Bidirectio (None, 64)                10304     \n",
      "_________________________________________________________________\n",
      "dense_26 (Dense)             (None, 1)                 65        \n",
      "=================================================================\n",
      "Total params: 84,737\n",
      "Trainable params: 84,737\n",
      "Non-trainable params: 0\n",
      "_________________________________________________________________\n"
     ]
    }
   ],
   "source": [
    "# Idea: Simple model\n",
    "model = Sequential()\n",
    "model.add(Bidirectional(SimpleRNN(128, return_sequences=True, activation=\"relu\"), input_shape=(None, 1)))\n",
    "model.add(Bidirectional(SimpleRNN(64, return_sequences=True, activation=\"relu\")))\n",
    "model.add(Bidirectional(SimpleRNN(32, return_sequences=False, activation=\"relu\")))\n",
    "model.add(Dropout(0.5))\n",
    "model.add(Dense(1, activation=\"linear\"))\n",
    "model.compile(optimizer=\"rmsprop\", loss=\"mse\")\n",
    "model.summary()"
   ]
  },
  {
   "cell_type": "code",
   "execution_count": 105,
   "metadata": {
    "collapsed": false
   },
   "outputs": [
    {
     "name": "stdout",
     "output_type": "stream",
     "text": [
      "_________________________________________________________________\n",
      "Layer (type)                 Output Shape              Param #   \n",
      "=================================================================\n",
      "bidirectional_33 (Bidirectio (None, None, 128)         8448      \n",
      "_________________________________________________________________\n",
      "bidirectional_34 (Bidirectio (None, None, 128)         24704     \n",
      "_________________________________________________________________\n",
      "time_distributed_7 (TimeDist (None, None, 32)          4128      \n",
      "_________________________________________________________________\n",
      "bidirectional_35 (Bidirectio (None, None, 64)          4160      \n",
      "_________________________________________________________________\n",
      "bidirectional_36 (Bidirectio (None, None, 64)          6208      \n",
      "_________________________________________________________________\n",
      "time_distributed_8 (TimeDist (None, None, 16)          1040      \n",
      "_________________________________________________________________\n",
      "bidirectional_37 (Bidirectio (None, 32)                1056      \n",
      "_________________________________________________________________\n",
      "dropout_2 (Dropout)          (None, 32)                0         \n",
      "_________________________________________________________________\n",
      "dense_23 (Dense)             (None, 1)                 33        \n",
      "=================================================================\n",
      "Total params: 49,777\n",
      "Trainable params: 49,777\n",
      "Non-trainable params: 0\n",
      "_________________________________________________________________\n"
     ]
    }
   ],
   "source": [
    "# Idea: Funnel -> reduce information after each layer / deep model\n",
    "model = Sequential()\n",
    "model.add(Bidirectional(SimpleRNN(64, return_sequences=True, activation=\"relu\"), input_shape=(None, 1)))\n",
    "model.add(Bidirectional(SimpleRNN(64, return_sequences=True, activation=\"relu\")))\n",
    "model.add(TimeDistributed(Dense(32, activation=\"relu\")))\n",
    "model.add(Bidirectional(SimpleRNN(32, return_sequences=True, activation=\"relu\")))\n",
    "model.add(Bidirectional(SimpleRNN(32, return_sequences=True, activation=\"relu\")))\n",
    "model.add(TimeDistributed(Dense(16, activation=\"relu\")))\n",
    "model.add(Bidirectional(SimpleRNN(16, return_sequences=False, activation=\"relu\")))\n",
    "model.add(Dropout(0.5))\n",
    "model.add(Dense(1, activation=\"linear\"))\n",
    "model.compile(optimizer=\"rmsprop\", loss=\"mse\")\n",
    "model.summary()"
   ]
  },
  {
   "cell_type": "code",
   "execution_count": 123,
   "metadata": {
    "collapsed": false
   },
   "outputs": [
    {
     "name": "stdout",
     "output_type": "stream",
     "text": [
      "Train on 4124 samples, validate on 85 samples\n",
      "Epoch 1/100\n",
      "4124/4124 [==============================] - 30s - loss: 7157527823.5379 - val_loss: 620.2780\n",
      "Epoch 2/100\n",
      "4124/4124 [==============================] - 29s - loss: 666.0185 - val_loss: 747.2826\n",
      "Epoch 3/100\n",
      "4124/4124 [==============================] - 32s - loss: 433.7659 - val_loss: 566.4491\n",
      "Epoch 4/100\n",
      "4124/4124 [==============================] - 34s - loss: 342.9813 - val_loss: 749.6959\n",
      "Epoch 5/100\n",
      "4124/4124 [==============================] - 38s - loss: 245.4716 - val_loss: 274.8306\n",
      "Epoch 6/100\n",
      "4124/4124 [==============================] - 38s - loss: 190.1679 - val_loss: 529.1939\n",
      "Epoch 7/100\n",
      "4124/4124 [==============================] - 33s - loss: 166.3326 - val_loss: 354.3311\n",
      "Epoch 8/100\n",
      "4124/4124 [==============================] - 32s - loss: 150.1117 - val_loss: 168.7268\n",
      "Epoch 9/100\n",
      "4124/4124 [==============================] - 32s - loss: 131.3647 - val_loss: 131.6620\n",
      "Epoch 10/100\n",
      "4124/4124 [==============================] - 32s - loss: 128.5587 - val_loss: 101.5296\n",
      "Epoch 11/100\n",
      "4124/4124 [==============================] - 33s - loss: 115.9399 - val_loss: 107.8835\n",
      "Epoch 12/100\n",
      "4124/4124 [==============================] - 33s - loss: 110.8212 - val_loss: 216.1792\n",
      "Epoch 13/100\n",
      "4124/4124 [==============================] - 32s - loss: 104.4411 - val_loss: 126.4074\n",
      "Epoch 14/100\n",
      "4124/4124 [==============================] - 33s - loss: 98.7915 - val_loss: 78.5074\n",
      "Epoch 15/100\n",
      "4124/4124 [==============================] - 33s - loss: 99.3747 - val_loss: 100.3919\n",
      "Epoch 16/100\n",
      "4124/4124 [==============================] - 33s - loss: 96.6542 - val_loss: 77.6001\n",
      "Epoch 17/100\n",
      "4124/4124 [==============================] - 33s - loss: 94.3281 - val_loss: 76.4338\n",
      "Epoch 18/100\n",
      "4124/4124 [==============================] - 33s - loss: 91.2105 - val_loss: 75.0284\n",
      "Epoch 19/100\n",
      "4124/4124 [==============================] - 33s - loss: 87.4559 - val_loss: 69.9566\n",
      "Epoch 20/100\n",
      "4124/4124 [==============================] - 33s - loss: 85.4909 - val_loss: 112.3715\n",
      "Epoch 21/100\n",
      "4124/4124 [==============================] - 33s - loss: 86.4884 - val_loss: 92.5914\n",
      "Epoch 22/100\n",
      "4124/4124 [==============================] - 33s - loss: 83.6708 - val_loss: 75.9793\n",
      "Epoch 23/100\n",
      "4124/4124 [==============================] - 33s - loss: 81.6153 - val_loss: 109.8285\n",
      "Epoch 24/100\n",
      "4124/4124 [==============================] - 33s - loss: 78.9488 - val_loss: 69.7006\n",
      "Epoch 25/100\n",
      "4124/4124 [==============================] - 33s - loss: 78.7784 - val_loss: 74.2681\n",
      "Epoch 26/100\n",
      "4124/4124 [==============================] - 33s - loss: 77.8193 - val_loss: 77.3091\n",
      "Epoch 27/100\n",
      "4124/4124 [==============================] - 33s - loss: 73.1039 - val_loss: 74.7508\n",
      "Epoch 28/100\n",
      "4124/4124 [==============================] - 33s - loss: 73.7891 - val_loss: 120.4115\n",
      "Epoch 29/100\n",
      "4124/4124 [==============================] - 33s - loss: 73.8976 - val_loss: 206.0441\n",
      "Epoch 30/100\n",
      "4124/4124 [==============================] - 35s - loss: 73.2177 - val_loss: 73.1416\n",
      "Epoch 31/100\n",
      "4124/4124 [==============================] - 33s - loss: 71.8650 - val_loss: 65.3407\n",
      "Epoch 32/100\n",
      "4124/4124 [==============================] - 33s - loss: 71.7615 - val_loss: 85.1769\n",
      "Epoch 33/100\n",
      "4124/4124 [==============================] - 33s - loss: 72.3781 - val_loss: 86.8130\n",
      "Epoch 34/100\n",
      "4124/4124 [==============================] - 33s - loss: 74.6560 - val_loss: 62.9605\n",
      "Epoch 35/100\n",
      "4124/4124 [==============================] - 34s - loss: 75.2371 - val_loss: 130.7201\n",
      "Epoch 36/100\n",
      "4124/4124 [==============================] - 37s - loss: 85.7366 - val_loss: 72.7771\n",
      "Epoch 37/100\n",
      "4124/4124 [==============================] - 34s - loss: 84.8696 - val_loss: 80.4697\n",
      "Epoch 38/100\n",
      "4124/4124 [==============================] - 34s - loss: 78.3030 - val_loss: 70.6869\n",
      "Epoch 39/100\n",
      "4124/4124 [==============================] - 35s - loss: 76.1913 - val_loss: 64.6130\n",
      "Epoch 40/100\n",
      "4124/4124 [==============================] - 35s - loss: 72.8339 - val_loss: 72.8532\n",
      "Epoch 41/100\n",
      "4124/4124 [==============================] - 36s - loss: 72.4188 - val_loss: 140.9957\n",
      "Epoch 42/100\n",
      "4124/4124 [==============================] - 36s - loss: 72.2809 - val_loss: 77.4582\n",
      "Epoch 43/100\n",
      "4124/4124 [==============================] - 35s - loss: 73.3152 - val_loss: 87.1545\n"
     ]
    }
   ],
   "source": [
    "early_stop = EarlyStopping(monitor=\"loss\", patience=10)\n",
    "file_path = \"weights.{epoch:02d}-{val_loss:.2f}.hdf5\"\n",
    "checkpoint = ModelCheckpoint(file_path)\n",
    "model_run = model.fit(train_reshaped, y_train, epochs=100 ,validation_split=0.02, callbacks=[early_stop, checkpoint])"
   ]
  },
  {
   "cell_type": "code",
   "execution_count": 124,
   "metadata": {
    "collapsed": false
   },
   "outputs": [],
   "source": [
    "y_pred_train = model.predict(train_reshaped)"
   ]
  },
  {
   "cell_type": "code",
   "execution_count": 125,
   "metadata": {
    "collapsed": false
   },
   "outputs": [
    {
     "name": "stdout",
     "output_type": "stream",
     "text": [
      "the R2 score is : 0.6261648564459983\n"
     ]
    }
   ],
   "source": [
    "print(\"the R2 score is : {}\".format(r2_score(y_train, y_pred_train)))"
   ]
  },
  {
   "cell_type": "markdown",
   "metadata": {
    "collapsed": true
   },
   "source": [
    "### Prediction"
   ]
  },
  {
   "cell_type": "code",
   "execution_count": 126,
   "metadata": {
    "collapsed": false
   },
   "outputs": [
    {
     "data": {
      "text/plain": [
       "(4209, 128, 1)"
      ]
     },
     "execution_count": 126,
     "metadata": {},
     "output_type": "execute_result"
    }
   ],
   "source": [
    "test_reshaped = np.array([i.reshape((-1, 1)) for i in pca2_results_test])\n",
    "test_reshaped = test_reshaped.astype(np.float32)\n",
    "test_reshaped.shape"
   ]
  },
  {
   "cell_type": "code",
   "execution_count": 127,
   "metadata": {
    "collapsed": true
   },
   "outputs": [],
   "source": [
    "y_pred_test = model.predict(test_reshaped)"
   ]
  },
  {
   "cell_type": "code",
   "execution_count": 128,
   "metadata": {
    "collapsed": false
   },
   "outputs": [],
   "source": [
    "output = pd.DataFrame({\"ID\": test.index, \"y\": y_pred_test.reshape(-1)})"
   ]
  },
  {
   "cell_type": "code",
   "execution_count": 129,
   "metadata": {
    "collapsed": false
   },
   "outputs": [
    {
     "data": {
      "text/html": [
       "<div>\n",
       "<table border=\"1\" class=\"dataframe\">\n",
       "  <thead>\n",
       "    <tr style=\"text-align: right;\">\n",
       "      <th></th>\n",
       "      <th>ID</th>\n",
       "      <th>y</th>\n",
       "    </tr>\n",
       "  </thead>\n",
       "  <tbody>\n",
       "    <tr>\n",
       "      <th>0</th>\n",
       "      <td>1</td>\n",
       "      <td>77.908844</td>\n",
       "    </tr>\n",
       "    <tr>\n",
       "      <th>1</th>\n",
       "      <td>2</td>\n",
       "      <td>90.723923</td>\n",
       "    </tr>\n",
       "    <tr>\n",
       "      <th>2</th>\n",
       "      <td>3</td>\n",
       "      <td>78.807854</td>\n",
       "    </tr>\n",
       "    <tr>\n",
       "      <th>3</th>\n",
       "      <td>4</td>\n",
       "      <td>79.746132</td>\n",
       "    </tr>\n",
       "    <tr>\n",
       "      <th>4</th>\n",
       "      <td>5</td>\n",
       "      <td>111.386482</td>\n",
       "    </tr>\n",
       "  </tbody>\n",
       "</table>\n",
       "</div>"
      ],
      "text/plain": [
       "   ID           y\n",
       "0   1   77.908844\n",
       "1   2   90.723923\n",
       "2   3   78.807854\n",
       "3   4   79.746132\n",
       "4   5  111.386482"
      ]
     },
     "execution_count": 129,
     "metadata": {},
     "output_type": "execute_result"
    }
   ],
   "source": [
    "output.head()"
   ]
  },
  {
   "cell_type": "code",
   "execution_count": 130,
   "metadata": {
    "collapsed": false
   },
   "outputs": [],
   "source": [
    "output.to_csv(\"submissions_{}.csv\".format(datetime.datetime.today()), index=False)"
   ]
  },
  {
   "cell_type": "code",
   "execution_count": null,
   "metadata": {
    "collapsed": true
   },
   "outputs": [],
   "source": []
  },
  {
   "cell_type": "markdown",
   "metadata": {},
   "source": [
    "### Combine submission"
   ]
  },
  {
   "cell_type": "code",
   "execution_count": 131,
   "metadata": {
    "collapsed": true
   },
   "outputs": [],
   "source": [
    "sub_1 = pd.read_csv(\"submission_baseLine.csv\")"
   ]
  },
  {
   "cell_type": "code",
   "execution_count": 132,
   "metadata": {
    "collapsed": true
   },
   "outputs": [],
   "source": [
    "sub_2 = pd.read_csv(\"submissions_2017-05-31 15:48:40.546392.csv\")"
   ]
  },
  {
   "cell_type": "code",
   "execution_count": 133,
   "metadata": {
    "collapsed": true
   },
   "outputs": [],
   "source": [
    "sub_3 = output.copy()"
   ]
  },
  {
   "cell_type": "code",
   "execution_count": 141,
   "metadata": {
    "collapsed": false
   },
   "outputs": [],
   "source": [
    "mean_pred = (sub_1.y.values + sub_2.y.values + sub_3.y.values) / 3"
   ]
  },
  {
   "cell_type": "code",
   "execution_count": 142,
   "metadata": {
    "collapsed": false
   },
   "outputs": [],
   "source": [
    "output_mean = pd.DataFrame({\"ID\": test.index, \"y\": mean_pred})"
   ]
  },
  {
   "cell_type": "code",
   "execution_count": 143,
   "metadata": {
    "collapsed": true
   },
   "outputs": [],
   "source": [
    "output_mean.to_csv(\"submissions_mean_{}.csv\".format(datetime.datetime.today()), index=False)"
   ]
  },
  {
   "cell_type": "code",
   "execution_count": null,
   "metadata": {
    "collapsed": true
   },
   "outputs": [],
   "source": []
  },
  {
   "cell_type": "code",
   "execution_count": 144,
   "metadata": {
    "collapsed": true
   },
   "outputs": [],
   "source": [
    "sub_1 = pd.read_csv(\"submission_baseLine.csv\")"
   ]
  },
  {
   "cell_type": "code",
   "execution_count": 145,
   "metadata": {
    "collapsed": true
   },
   "outputs": [],
   "source": [
    "sub_2 = pd.read_csv(\"submissions_2017-05-31 15:48:40.546392.csv\")"
   ]
  },
  {
   "cell_type": "code",
   "execution_count": 146,
   "metadata": {
    "collapsed": true
   },
   "outputs": [],
   "source": [
    "mean_pred = (sub_1.y.values + sub_2.y.values ) / 2"
   ]
  },
  {
   "cell_type": "code",
   "execution_count": 148,
   "metadata": {
    "collapsed": true
   },
   "outputs": [],
   "source": [
    "output_mean = pd.DataFrame({\"ID\": test.index, \"y\": mean_pred})"
   ]
  },
  {
   "cell_type": "code",
   "execution_count": 149,
   "metadata": {
    "collapsed": true
   },
   "outputs": [],
   "source": [
    "output_mean.to_csv(\"submissions_mean_2_{}.csv\".format(datetime.datetime.today()), index=False)"
   ]
  },
  {
   "cell_type": "code",
   "execution_count": null,
   "metadata": {
    "collapsed": true
   },
   "outputs": [],
   "source": []
  },
  {
   "cell_type": "code",
   "execution_count": null,
   "metadata": {
    "collapsed": true
   },
   "outputs": [],
   "source": []
  }
 ],
 "metadata": {
  "kernelspec": {
   "display_name": "Python 3",
   "language": "python",
   "name": "python3"
  },
  "language_info": {
   "codemirror_mode": {
    "name": "ipython",
    "version": 3
   },
   "file_extension": ".py",
   "mimetype": "text/x-python",
   "name": "python",
   "nbconvert_exporter": "python",
   "pygments_lexer": "ipython3",
   "version": "3.5.2"
  },
  "widgets": {
   "state": {},
   "version": "1.1.2"
  }
 },
 "nbformat": 4,
 "nbformat_minor": 2
}
