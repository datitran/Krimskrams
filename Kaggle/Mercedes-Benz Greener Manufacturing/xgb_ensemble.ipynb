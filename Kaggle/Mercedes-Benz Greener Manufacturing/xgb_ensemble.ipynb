{
 "cells": [
  {
   "cell_type": "code",
   "execution_count": 1,
   "metadata": {
    "collapsed": true
   },
   "outputs": [],
   "source": [
    "import numpy as np\n",
    "import pandas as pd \n",
    "import xgboost as xgb\n",
    "\n",
    "from datetime import datetime\n",
    "from sklearn.preprocessing import LabelEncoder\n",
    "from sklearn.decomposition import PCA, FastICA\n",
    "from sklearn.metrics import r2_score"
   ]
  },
  {
   "cell_type": "code",
   "execution_count": 2,
   "metadata": {
    "collapsed": true
   },
   "outputs": [],
   "source": [
    "train = pd.read_csv(\"data/train.csv\", index_col=\"ID\")\n",
    "test = pd.read_csv(\"data/test.csv\", index_col=\"ID\")"
   ]
  },
  {
   "cell_type": "code",
   "execution_count": 3,
   "metadata": {
    "collapsed": true
   },
   "outputs": [],
   "source": [
    "for c in train.columns:\n",
    "    if train[c].dtype == \"object\":\n",
    "        lbl = LabelEncoder() \n",
    "        lbl.fit(list(train[c].values) + list(test[c].values)) \n",
    "        train[c] = lbl.transform(list(train[c].values))\n",
    "        test[c] = lbl.transform(list(test[c].values))"
   ]
  },
  {
   "cell_type": "code",
   "execution_count": 4,
   "metadata": {
    "collapsed": false
   },
   "outputs": [
    {
     "name": "stderr",
     "output_type": "stream",
     "text": [
      "/Users/datitran/anaconda/envs/kaggle/lib/python3.5/site-packages/scipy/linalg/basic.py:1018: RuntimeWarning: internal gelsd driver lwork query error, required iwork dimension not returned. This is likely the result of LAPACK bug 0038, fixed in LAPACK 3.2.2 (released July 21, 2010). Falling back to 'gelss' driver.\n",
      "  warnings.warn(mesg, RuntimeWarning)\n"
     ]
    }
   ],
   "source": [
    "n_comp = 10\n",
    "\n",
    "# PCA\n",
    "pca = PCA(n_components=n_comp, random_state=42)\n",
    "pca2_results_train = pca.fit_transform(train.drop([\"y\"], axis=1))\n",
    "pca2_results_test = pca.transform(test)\n",
    "\n",
    "# ICA\n",
    "ica = FastICA(n_components=n_comp, random_state=42)\n",
    "ica2_results_train = ica.fit_transform(train.drop([\"y\"], axis=1))\n",
    "ica2_results_test = ica.transform(test)"
   ]
  },
  {
   "cell_type": "code",
   "execution_count": null,
   "metadata": {
    "collapsed": false
   },
   "outputs": [],
   "source": [
    "\"\"\"\n",
    "pca_train_df = pd.DataFrame(pca2_results_train).add_prefix(\"pca_\")\n",
    "ica_train_df = pd.DataFrame(ica2_results_train).add_prefix(\"ica_\")\n",
    "\n",
    "x_train = pd.concat([pca_train_df, ica_train_df], axis=1)\n",
    "\n",
    "pca_test_df = pd.DataFrame(pca2_results_test).add_prefix(\"pca_\")\n",
    "ica_test_df = pd.DataFrame(ica2_results_test).add_prefix(\"ica_\")\n",
    "\n",
    "x_test = pd.concat([pca_test_df, ica_test_df], axis=1)\n",
    "\n",
    "\"\"\""
   ]
  },
  {
   "cell_type": "code",
   "execution_count": 5,
   "metadata": {
    "collapsed": true
   },
   "outputs": [],
   "source": [
    "for i in range(1, n_comp+1):\n",
    "    train[\"pca_\" + str(i)] = pca2_results_train[:,i-1]\n",
    "    test[\"pca_\" + str(i)] = pca2_results_test[:, i-1]\n",
    "    \n",
    "    train[\"ica_\" + str(i)] = ica2_results_train[:,i-1]\n",
    "    test[\"ica_\" + str(i)] = ica2_results_test[:, i-1]\n",
    "    \n",
    "y_train = train[\"y\"]\n",
    "y_mean = np.mean(y_train)"
   ]
  },
  {
   "cell_type": "code",
   "execution_count": 6,
   "metadata": {
    "collapsed": false
   },
   "outputs": [],
   "source": [
    "dtrain = xgb.DMatrix(train.drop(\"y\", axis=1), y_train)\n",
    "dtest = xgb.DMatrix(test)"
   ]
  },
  {
   "cell_type": "code",
   "execution_count": 7,
   "metadata": {
    "collapsed": false
   },
   "outputs": [],
   "source": [
    "startTime = datetime.now()"
   ]
  },
  {
   "cell_type": "code",
   "execution_count": 10,
   "metadata": {
    "collapsed": false
   },
   "outputs": [],
   "source": [
    "r2_list = []\n",
    "\n",
    "seed_nr = 10\n",
    "\n",
    "for i in range(seed_nr):\n",
    "    xgb_params = {\n",
    "        \"n_trees\": 500, \n",
    "        \"eta\": 0.005,\n",
    "        \"max_depth\": 4,\n",
    "        \"subsample\": 0.95,\n",
    "        \"objective\": \"reg:linear\",\n",
    "        \"eval_metric\": \"rmse\",\n",
    "        \"base_score\": y_mean,\n",
    "        \"silent\": 1,\n",
    "        \"seed\": i\n",
    "    }\n",
    "    \n",
    "    #cv_output = xgb.cv(xgb_params, dtrain, num_boost_round=2000, early_stopping_rounds=50, \n",
    "    #               verbose_eval=200, show_stdv=False)\n",
    "    \n",
    "    #num_boost_rounds = len(cv_output) # old 900\n",
    "\n",
    "    num_boost_rounds = 900\n",
    "    model = xgb.train(dict(xgb_params, silent=0), dtrain, num_boost_round=num_boost_rounds)\n",
    "\n",
    "    r2_value = r2_score(model.predict(dtrain), dtrain.get_label())\n",
    "\n",
    "    y_pred = model.predict(dtest)\n",
    "\n",
    "    output = pd.DataFrame({\"id\": test.index, \"y\": y_pred})\n",
    "\n",
    "    output.to_csv(\"xgb_various_seeds/submission_{seed}_{r2}.csv\".format(seed=i, r2=r2_value), index=False)\n",
    "    r2_list.append((i, r2_value))"
   ]
  },
  {
   "cell_type": "code",
   "execution_count": null,
   "metadata": {
    "collapsed": false
   },
   "outputs": [],
   "source": [
    "print(datetime.now() - startTime)"
   ]
  },
  {
   "cell_type": "code",
   "execution_count": null,
   "metadata": {
    "collapsed": true
   },
   "outputs": [],
   "source": []
  }
 ],
 "metadata": {
  "kernelspec": {
   "display_name": "Python 3",
   "language": "python",
   "name": "python3"
  },
  "language_info": {
   "codemirror_mode": {
    "name": "ipython",
    "version": 3
   },
   "file_extension": ".py",
   "mimetype": "text/x-python",
   "name": "python",
   "nbconvert_exporter": "python",
   "pygments_lexer": "ipython3",
   "version": "3.5.2"
  },
  "widgets": {
   "state": {},
   "version": "1.1.2"
  }
 },
 "nbformat": 4,
 "nbformat_minor": 2
}
