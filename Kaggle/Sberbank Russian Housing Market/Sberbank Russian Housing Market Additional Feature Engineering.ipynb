{
 "cells": [
  {
   "cell_type": "code",
   "execution_count": 1,
   "metadata": {
    "collapsed": false
   },
   "outputs": [],
   "source": [
    "import ogr\n",
    "import json\n",
    "import numpy as np\n",
    "import pandas as pd\n",
    "import xgboost as xgb\n",
    "from sklearn import preprocessing\n",
    "from math import radians, cos, sin, asin, sqrt\n",
    "import matplotlib.pyplot as plt\n",
    "plt.style.use(\"ggplot\")\n",
    "%matplotlib inline"
   ]
  },
  {
   "cell_type": "code",
   "execution_count": 2,
   "metadata": {
    "collapsed": true
   },
   "outputs": [],
   "source": [
    "def haversine(lon1, lat1, lon2, lat2):\n",
    "    \"\"\"\n",
    "    Calculate the great circle distance between two points \n",
    "    on the earth (specified in decimal degrees)\n",
    "    \"\"\"\n",
    "    # convert decimal degrees to radians \n",
    "    lon1, lat1, lon2, lat2 = map(radians, [lon1, lat1, lon2, lat2])\n",
    "\n",
    "    # haversine formula \n",
    "    dlon = lon2 - lon1 \n",
    "    dlat = lat2 - lat1 \n",
    "    a = sin(dlat/2)**2 + cos(lat1) * cos(lat2) * sin(dlon/2)**2\n",
    "    c = 2 * asin(sqrt(a)) \n",
    "    r = 6371 # Radius of earth in kilometers. Use 3956 for miles\n",
    "    return c * r"
   ]
  },
  {
   "cell_type": "code",
   "execution_count": 3,
   "metadata": {
    "collapsed": false
   },
   "outputs": [],
   "source": [
    "train = pd.read_csv(\"data/train_without_noise.csv\", parse_dates=[\"timestamp\"])\n",
    "test = pd.read_csv(\"data/test.csv\", parse_dates=[\"timestamp\"])"
   ]
  },
  {
   "cell_type": "markdown",
   "metadata": {},
   "source": [
    "### Feature Engineering"
   ]
  },
  {
   "cell_type": "code",
   "execution_count": 4,
   "metadata": {
    "collapsed": false
   },
   "outputs": [],
   "source": [
    "# moscow additional data\n",
    "driver = ogr.GetDriverByName(\"ESRI Shapefile\")\n",
    "shp = driver.Open(\"data/administrative-divisions-of-moscow/moscow_adm.shp\")\n",
    "layer = shp.GetLayer()"
   ]
  },
  {
   "cell_type": "code",
   "execution_count": 5,
   "metadata": {
    "collapsed": false
   },
   "outputs": [
    {
     "data": {
      "text/plain": [
       "(2, 3)"
      ]
     },
     "execution_count": 5,
     "metadata": {},
     "output_type": "execute_result"
    }
   ],
   "source": [
    "# coordinates have different sizes in list\n",
    "shape_json = json.loads(layer.GetFeature(0).ExportToJson())\n",
    "len_list = len(np.array(shape_json[\"geometry\"][\"coordinates\"]).shape)\n",
    "\n",
    "shape_json1 = json.loads(layer.GetFeature(1).ExportToJson())\n",
    "len_list1 = len(np.array(shape_json1[\"geometry\"][\"coordinates\"]).shape)\n",
    "len_list, len_list1"
   ]
  },
  {
   "cell_type": "code",
   "execution_count": 6,
   "metadata": {
    "collapsed": true
   },
   "outputs": [],
   "source": [
    "# sub_area\n",
    "okrug = []\n",
    "sub_area = []\n",
    "coordinates = []\n",
    "for i in range(layer.GetFeatureCount()):\n",
    "    sub_area.append(layer.GetFeature(i).GetField(\"RAION\"))\n",
    "    okrug.append(layer.GetFeature(i).GetField(\"OKRUGS\"))\n",
    "    shape_json = json.loads(layer.GetFeature(i).ExportToJson())\n",
    "    if len(np.array(shape_json[\"geometry\"][\"coordinates\"]).shape) == 2:\n",
    "        coordinates.append(np.mean(np.array(shape_json[\"geometry\"][\"coordinates\"][0][0]), axis=0))\n",
    "    else:\n",
    "        coordinates.append(np.mean(np.array(shape_json[\"geometry\"][\"coordinates\"][0]), axis=0))"
   ]
  },
  {
   "cell_type": "markdown",
   "metadata": {},
   "source": [
    "##### Train"
   ]
  },
  {
   "cell_type": "code",
   "execution_count": 7,
   "metadata": {
    "collapsed": false
   },
   "outputs": [
    {
     "data": {
      "text/plain": [
       "'\\ntrain[\"year\"] = train.timestamp.apply(lambda x: x.year)\\ntrain[\"month\"] = train.timestamp.apply(lambda x: x.month)\\ntrain[\"day\"] = train.timestamp.apply(lambda x: x.day)\\ntrain[\"week\"] = train.timestamp.apply(lambda x: x.week)\\ntrain[\"week_day\"] = train.timestamp.apply(lambda x: x.dayofweek)\\n'"
      ]
     },
     "execution_count": 7,
     "metadata": {},
     "output_type": "execute_result"
    }
   ],
   "source": [
    "# timestamp\n",
    "\"\"\"\n",
    "train[\"year\"] = train.timestamp.apply(lambda x: x.year)\n",
    "train[\"month\"] = train.timestamp.apply(lambda x: x.month)\n",
    "train[\"day\"] = train.timestamp.apply(lambda x: x.day)\n",
    "train[\"week\"] = train.timestamp.apply(lambda x: x.week)\n",
    "train[\"week_day\"] = train.timestamp.apply(lambda x: x.dayofweek)\n",
    "\"\"\"\n",
    "# to-do add season for housing prices"
   ]
  },
  {
   "cell_type": "code",
   "execution_count": 8,
   "metadata": {
    "collapsed": false
   },
   "outputs": [],
   "source": [
    "# house\n",
    "train[\"diff_max_floor\"] = train.max_floor - train.floor\n",
    "train[\"perc_max_floor\"] = train.floor / train.max_floor\n",
    "train[\"diff_full_life_sq\"] = train.full_sq - train.life_sq\n",
    "train[\"perc_full_life_sq\"] = train.life_sq / train.full_sq\n",
    "train[\"diff_full_kitch_sq\"] = train.full_sq - train.kitch_sq\n",
    "train[\"perc_full_kitch_sq\"] = train.kitch_sq / train.full_sq\n",
    "train[\"diff_full_life_kitch_sq\"] = train.full_sq - train.life_sq - train.kitch_sq\n",
    "train[\"perc_full_extra_sq\"] = (train.life_sq + train.kitch_sq) / train.full_sq\n",
    "train[\"sum_life_kitch\"] = train.life_sq + train.kitch_sq\n",
    "train[\"roomsize\"] = (train.life_sq - train.kitch_sq) / train.num_room\n",
    "train[\"age_at_sale\"] = (train.timestamp.apply(lambda x: x.year) - train.build_year).apply(lambda x: x if x < 1500 else None)"
   ]
  },
  {
   "cell_type": "code",
   "execution_count": 9,
   "metadata": {
    "collapsed": true
   },
   "outputs": [],
   "source": [
    "# school \n",
    "train[\"perc_preschool\"] = train.children_preschool / train.preschool_quota\n",
    "train[\"perc_school\"] = train.children_school / train.school_quota"
   ]
  },
  {
   "cell_type": "code",
   "execution_count": 10,
   "metadata": {
    "collapsed": false
   },
   "outputs": [],
   "source": [
    "# sub-area\n",
    "\n",
    "kremlin = (37.617499, 55.752023) # long / # lat\n",
    "moscow_uni = (37.528798, 55.704098)\n",
    "\n",
    "moscow_df = pd.DataFrame({\"sub_area\": sub_area, \"okrug\": okrug, \"coordinates\": coordinates})\n",
    "moscow_df[\"distance_from_kremlin\"] = moscow_df.coordinates.apply(lambda x: haversine(x[0], x[1], kremlin[0], kremlin[1]))\n",
    "moscow_df[\"distance_from_moscow_uni\"] = moscow_df.coordinates.apply(lambda x: haversine(x[0], x[1], moscow_uni[0], moscow_uni[1]))\n",
    "                                                                                        \n",
    "moscow_df.drop(\"coordinates\", axis=1, inplace=True)\n",
    "train = pd.merge(train, moscow_df, how=\"left\", on=\"sub_area\")\n",
    "\n",
    "# to-do maybe add distance to financial district"
   ]
  },
  {
   "cell_type": "code",
   "execution_count": 11,
   "metadata": {
    "collapsed": true
   },
   "outputs": [],
   "source": [
    "# reset index\n",
    "train.set_index(\"id\", inplace=True)"
   ]
  },
  {
   "cell_type": "markdown",
   "metadata": {},
   "source": [
    "##### Test"
   ]
  },
  {
   "cell_type": "code",
   "execution_count": 12,
   "metadata": {
    "collapsed": false
   },
   "outputs": [
    {
     "data": {
      "text/plain": [
       "'\\ntest[\"year\"] = test.timestamp.apply(lambda x: x.year)\\ntest[\"month\"] = test.timestamp.apply(lambda x: x.month)\\ntest[\"day\"] = test.timestamp.apply(lambda x: x.day)\\ntest[\"week\"] = test.timestamp.apply(lambda x: x.week)\\ntest[\"week_day\"] = test.timestamp.apply(lambda x: x.dayofweek)\\n'"
      ]
     },
     "execution_count": 12,
     "metadata": {},
     "output_type": "execute_result"
    }
   ],
   "source": [
    "# timestamp\n",
    "\"\"\"\n",
    "test[\"year\"] = test.timestamp.apply(lambda x: x.year)\n",
    "test[\"month\"] = test.timestamp.apply(lambda x: x.month)\n",
    "test[\"day\"] = test.timestamp.apply(lambda x: x.day)\n",
    "test[\"week\"] = test.timestamp.apply(lambda x: x.week)\n",
    "test[\"week_day\"] = test.timestamp.apply(lambda x: x.dayofweek)\n",
    "\"\"\""
   ]
  },
  {
   "cell_type": "code",
   "execution_count": 13,
   "metadata": {
    "collapsed": true
   },
   "outputs": [],
   "source": [
    "# house\n",
    "test[\"diff_max_floor\"] = test.max_floor - test.floor\n",
    "test[\"perc_max_floor\"] = test.floor / test.max_floor\n",
    "test[\"diff_full_life_sq\"] = test.full_sq - test.life_sq\n",
    "test[\"perc_full_life_sq\"] = test.life_sq / test.full_sq\n",
    "test[\"diff_full_kitch_sq\"] = test.full_sq - test.kitch_sq\n",
    "test[\"perc_full_kitch_sq\"] = test.kitch_sq / test.full_sq\n",
    "test[\"diff_full_life_kitch_sq\"] = test.full_sq - test.life_sq - test.kitch_sq\n",
    "test[\"perc_full_extra_sq\"] = (test.life_sq + test.kitch_sq) / test.full_sq\n",
    "test[\"sum_life_kitch\"] = test.life_sq + test.kitch_sq\n",
    "test[\"roomsize\"] = (test.life_sq - test.kitch_sq) / test.num_room\n",
    "test[\"age_at_sale\"] = (test.timestamp.apply(lambda x: x.year) - test.build_year).apply(lambda x: x if x < 1500 else None)"
   ]
  },
  {
   "cell_type": "code",
   "execution_count": 14,
   "metadata": {
    "collapsed": true
   },
   "outputs": [],
   "source": [
    "# school \n",
    "test[\"perc_preschool\"] = test.children_preschool / test.preschool_quota\n",
    "test[\"perc_school\"] = test.children_school / test.school_quota"
   ]
  },
  {
   "cell_type": "code",
   "execution_count": 15,
   "metadata": {
    "collapsed": false
   },
   "outputs": [],
   "source": [
    "# sub-area\n",
    "\n",
    "kremlin = (37.617499, 55.752023) # long / # lat\n",
    "moscow_uni = (37.528798, 55.704098)\n",
    "\n",
    "moscow_df = pd.DataFrame({\"sub_area\": sub_area, \"okrug\": okrug, \"coordinates\": coordinates})\n",
    "moscow_df[\"distance_from_kremlin\"] = moscow_df.coordinates.apply(lambda x: haversine(x[0], x[1], kremlin[0], kremlin[1]))\n",
    "moscow_df[\"distance_from_moscow_uni\"] = moscow_df.coordinates.apply(lambda x: haversine(x[0], x[1], moscow_uni[0], moscow_uni[1]))\n",
    "                                                                                        \n",
    "moscow_df.drop(\"coordinates\", axis=1, inplace=True)\n",
    "test = pd.merge(test, moscow_df, how=\"left\", on=\"sub_area\")\n",
    "\n",
    "# to-do maybe add distance to financial district"
   ]
  },
  {
   "cell_type": "code",
   "execution_count": 16,
   "metadata": {
    "collapsed": false
   },
   "outputs": [],
   "source": [
    "# reset index\n",
    "test.set_index(\"id\", inplace=True)"
   ]
  },
  {
   "cell_type": "markdown",
   "metadata": {},
   "source": [
    "### Transformation"
   ]
  },
  {
   "cell_type": "code",
   "execution_count": 17,
   "metadata": {
    "collapsed": false
   },
   "outputs": [],
   "source": [
    "y_train = train[\"price_doc\"]\n",
    "x_train = train.drop([\"timestamp\", \"price_doc\"], axis=1)"
   ]
  },
  {
   "cell_type": "code",
   "execution_count": 18,
   "metadata": {
    "collapsed": false
   },
   "outputs": [],
   "source": [
    "# transform non-numerical variables\n",
    "for c in x_train.columns:\n",
    "    if x_train[c].dtype == \"object\":\n",
    "        lbl = preprocessing.LabelEncoder()\n",
    "        lbl.fit(list(x_train[c].values)) \n",
    "        x_train[c] = lbl.transform(list(x_train[c].values))"
   ]
  },
  {
   "cell_type": "code",
   "execution_count": 19,
   "metadata": {
    "collapsed": false
   },
   "outputs": [
    {
     "data": {
      "text/plain": [
       "'\\nfor c in x_train.columns:\\n    x_train[c].fillna(x_train[c].mean(), inplace=True)\\n'"
      ]
     },
     "execution_count": 19,
     "metadata": {},
     "output_type": "execute_result"
    }
   ],
   "source": [
    "# replace missing values with mean values\n",
    "\"\"\"\n",
    "for c in x_train.columns:\n",
    "    x_train[c].fillna(x_train[c].mean(), inplace=True)\n",
    "\"\"\""
   ]
  },
  {
   "cell_type": "code",
   "execution_count": 20,
   "metadata": {
    "collapsed": false
   },
   "outputs": [],
   "source": [
    "x_test = test.drop([\"timestamp\"], axis=1)"
   ]
  },
  {
   "cell_type": "code",
   "execution_count": 21,
   "metadata": {
    "collapsed": true
   },
   "outputs": [],
   "source": [
    "# transform non-numerical variables\n",
    "for c in x_test.columns:\n",
    "    if x_test[c].dtype == \"object\":\n",
    "        lbl = preprocessing.LabelEncoder()\n",
    "        lbl.fit(list(x_test[c].values)) \n",
    "        x_test[c] = lbl.transform(list(x_test[c].values))"
   ]
  },
  {
   "cell_type": "code",
   "execution_count": 22,
   "metadata": {
    "collapsed": false
   },
   "outputs": [
    {
     "data": {
      "text/plain": [
       "'\\nfor c in x_test.columns:\\n    x_test[c].fillna(x_test[c].mean(), inplace=True)\\n'"
      ]
     },
     "execution_count": 22,
     "metadata": {},
     "output_type": "execute_result"
    }
   ],
   "source": [
    "# replace missing values with mean values\n",
    "\"\"\"\n",
    "for c in x_test.columns:\n",
    "    x_test[c].fillna(x_test[c].mean(), inplace=True)\n",
    "\"\"\""
   ]
  },
  {
   "cell_type": "code",
   "execution_count": 23,
   "metadata": {
    "collapsed": false
   },
   "outputs": [],
   "source": [
    "xgb_params = {\n",
    "    \"eta\": 0.05,\n",
    "    \"max_depth\": 5,\n",
    "    \"subsample\": 0.7,\n",
    "    \"colsample_bytree\": 0.7,\n",
    "    \"objective\": \"reg:linear\",\n",
    "    \"eval_metric\": \"rmse\",\n",
    "    \"silent\": 1,\n",
    "    \"seed\":42\n",
    "}"
   ]
  },
  {
   "cell_type": "code",
   "execution_count": 24,
   "metadata": {
    "collapsed": false
   },
   "outputs": [],
   "source": [
    "dtrain = xgb.DMatrix(x_train, y_train)"
   ]
  },
  {
   "cell_type": "code",
   "execution_count": 25,
   "metadata": {
    "collapsed": false
   },
   "outputs": [
    {
     "name": "stdout",
     "output_type": "stream",
     "text": [
      "[0]\ttrain-rmse:8.12198e+06\ttest-rmse:8.12919e+06\n",
      "[50]\ttrain-rmse:2.49332e+06\ttest-rmse:2.89306e+06\n",
      "[100]\ttrain-rmse:2.17841e+06\ttest-rmse:2.72201e+06\n",
      "[150]\ttrain-rmse:2.0638e+06\ttest-rmse:2.6852e+06\n",
      "[200]\ttrain-rmse:1.98429e+06\ttest-rmse:2.66909e+06\n",
      "[250]\ttrain-rmse:1.91302e+06\ttest-rmse:2.65606e+06\n",
      "[300]\ttrain-rmse:1.84927e+06\ttest-rmse:2.65116e+06\n",
      "[350]\ttrain-rmse:1.79188e+06\ttest-rmse:2.645e+06\n",
      "[400]\ttrain-rmse:1.73789e+06\ttest-rmse:2.64353e+06\n",
      "[450]\ttrain-rmse:1.68854e+06\ttest-rmse:2.64176e+06\n",
      "[500]\ttrain-rmse:1.64378e+06\ttest-rmse:2.64068e+06\n"
     ]
    }
   ],
   "source": [
    "cv_output = xgb.cv(xgb_params, dtrain, num_boost_round=1000, early_stopping_rounds=20, \n",
    "                   verbose_eval=50, show_stdv=False)"
   ]
  },
  {
   "cell_type": "code",
   "execution_count": 26,
   "metadata": {
    "collapsed": false
   },
   "outputs": [
    {
     "data": {
      "image/png": "[encoded data removed]",
      "text/plain": [
       "<matplotlib.figure.Figure at 0x116968860>"
      ]
     },
     "metadata": {},
     "output_type": "display_data"
    }
   ],
   "source": [
    "cv_output[[\"train-rmse-mean\", \"test-rmse-mean\"]].plot()\n",
    "pass"
   ]
  },
  {
   "cell_type": "code",
   "execution_count": 27,
   "metadata": {
    "collapsed": true
   },
   "outputs": [],
   "source": [
    "num_boost_rounds = len(cv_output)\n",
    "model = xgb.train(dict(xgb_params, silent=0), dtrain, num_boost_round=num_boost_rounds)"
   ]
  },
  {
   "cell_type": "code",
   "execution_count": 28,
   "metadata": {
    "collapsed": false
   },
   "outputs": [
    {
     "data": {
      "image/png": "[encoded data removed]",
      "text/plain": [
       "<matplotlib.figure.Figure at 0x1169968d0>"
      ]
     },
     "metadata": {},
     "output_type": "display_data"
    }
   ],
   "source": [
    "xgb.plot_importance(model, max_num_features=20)\n",
    "pass"
   ]
  },
  {
   "cell_type": "code",
   "execution_count": 29,
   "metadata": {
    "collapsed": false
   },
   "outputs": [],
   "source": [
    "pred = model.predict(dtrain)"
   ]
  },
  {
   "cell_type": "code",
   "execution_count": 30,
   "metadata": {
    "collapsed": false
   },
   "outputs": [],
   "source": [
    "error = np.mean(abs(pred - y_train)) / len(y_train)"
   ]
  },
  {
   "cell_type": "code",
   "execution_count": 31,
   "metadata": {
    "collapsed": false
   },
   "outputs": [
    {
     "name": "stderr",
     "output_type": "stream",
     "text": [
      "/Users/datitran/anaconda/envs/kaggle/lib/python3.5/site-packages/ipykernel/__main__.py:2: RuntimeWarning: invalid value encountered in log\n",
      "  from ipykernel import kernelapp as app\n"
     ]
    }
   ],
   "source": [
    "n = 1 / len(y_train)\n",
    "rmsle = np.sqrt(1/n * np.sum(np.power(np.log(pred + 1) - np.log(y_train.values + 1), 2)))"
   ]
  },
  {
   "cell_type": "code",
   "execution_count": 32,
   "metadata": {
    "collapsed": false
   },
   "outputs": [
    {
     "name": "stdout",
     "output_type": "stream",
     "text": [
      "RMSLE: nan, Error: 38.878103847606425\n"
     ]
    }
   ],
   "source": [
    "print(\"RMSLE: {rmsle}, Error: {error}\".format(rmsle=rmsle, error=error))"
   ]
  },
  {
   "cell_type": "code",
   "execution_count": 33,
   "metadata": {
    "collapsed": true
   },
   "outputs": [],
   "source": [
    "dtest = xgb.DMatrix(x_test)"
   ]
  },
  {
   "cell_type": "code",
   "execution_count": 34,
   "metadata": {
    "collapsed": false
   },
   "outputs": [],
   "source": [
    "y_predict = model.predict(dtest)"
   ]
  },
  {
   "cell_type": "code",
   "execution_count": 35,
   "metadata": {
    "collapsed": false
   },
   "outputs": [],
   "source": [
    "output = pd.DataFrame({\"id\": x_test.index, \"price_doc\": y_predict})"
   ]
  },
  {
   "cell_type": "code",
   "execution_count": 36,
   "metadata": {
    "collapsed": true
   },
   "outputs": [],
   "source": [
    "output.to_csv(\"submissions_add_features.csv\", index=False)"
   ]
  },
  {
   "cell_type": "code",
   "execution_count": null,
   "metadata": {
    "collapsed": true
   },
   "outputs": [],
   "source": []
  },
  {
   "cell_type": "code",
   "execution_count": null,
   "metadata": {
    "collapsed": true
   },
   "outputs": [],
   "source": []
  },
  {
   "cell_type": "code",
   "execution_count": null,
   "metadata": {
    "collapsed": true
   },
   "outputs": [],
   "source": []
  },
  {
   "cell_type": "code",
   "execution_count": null,
   "metadata": {
    "collapsed": true
   },
   "outputs": [],
   "source": []
  },
  {
   "cell_type": "code",
   "execution_count": null,
   "metadata": {
    "collapsed": true
   },
   "outputs": [],
   "source": []
  }
 ],
 "metadata": {
  "kernelspec": {
   "display_name": "Python 3",
   "language": "python",
   "name": "python3"
  },
  "language_info": {
   "codemirror_mode": {
    "name": "ipython",
    "version": 3
   },
   "file_extension": ".py",
   "mimetype": "text/x-python",
   "name": "python",
   "nbconvert_exporter": "python",
   "pygments_lexer": "ipython3",
   "version": "3.5.2"
  },
  "widgets": {
   "state": {},
   "version": "1.1.2"
  }
 },
 "nbformat": 4,
 "nbformat_minor": 2
}
