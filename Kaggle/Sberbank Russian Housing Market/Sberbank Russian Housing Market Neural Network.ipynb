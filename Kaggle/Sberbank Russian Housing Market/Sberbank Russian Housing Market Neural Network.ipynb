{
 "cells": [
  {
   "cell_type": "code",
   "execution_count": 1,
   "metadata": {
    "collapsed": false
   },
   "outputs": [
    {
     "name": "stderr",
     "output_type": "stream",
     "text": [
      "Using TensorFlow backend.\n"
     ]
    }
   ],
   "source": [
    "import numpy as np\n",
    "np.random.seed(42)\n",
    "import tensorflow as tf\n",
    "tf.set_random_seed(42)\n",
    "\n",
    "import pandas as pd\n",
    "from sklearn import preprocessing\n",
    "from keras.models import Sequential\n",
    "from keras.layers import Dense, Activation, Dropout\n",
    "from keras.callbacks import EarlyStopping\n",
    "from keras import backend as K\n",
    "import matplotlib.pyplot as plt\n",
    "plt.style.use(\"ggplot\")\n",
    "%matplotlib inline"
   ]
  },
  {
   "cell_type": "code",
   "execution_count": 2,
   "metadata": {
    "collapsed": true
   },
   "outputs": [],
   "source": [
    "train = pd.read_csv(\"data/train.csv\", parse_dates=[\"timestamp\"])\n",
    "test = pd.read_csv(\"data/test.csv\", parse_dates=[\"timestamp\"])\n",
    "macro = pd.read_csv(\"data/macro.csv\", parse_dates=[\"timestamp\"])"
   ]
  },
  {
   "cell_type": "code",
   "execution_count": 3,
   "metadata": {
    "collapsed": true
   },
   "outputs": [],
   "source": [
    "y_train = train[\"price_doc\"]\n",
    "x_train = train.drop([\"timestamp\", \"price_doc\"], axis=1)"
   ]
  },
  {
   "cell_type": "code",
   "execution_count": 4,
   "metadata": {
    "collapsed": true
   },
   "outputs": [],
   "source": [
    "# transform non-numerical variables\n",
    "for c in x_train.columns:\n",
    "    if x_train[c].dtype == \"object\":\n",
    "        lbl = preprocessing.LabelEncoder()\n",
    "        lbl.fit(list(x_train[c].values)) \n",
    "        x_train[c] = lbl.transform(list(x_train[c].values))\n",
    "\n",
    "# replace missing values with mean values\n",
    "for c in x_train.columns:\n",
    "    x_train[c].fillna(x_train[c].mean(), inplace=True)"
   ]
  },
  {
   "cell_type": "code",
   "execution_count": 5,
   "metadata": {
    "collapsed": true
   },
   "outputs": [],
   "source": [
    "x_test = test.drop([\"timestamp\"], axis=1)\n",
    "\n",
    "# transform non-numerical variables\n",
    "for c in x_test.columns:\n",
    "    if x_test[c].dtype == \"object\":\n",
    "        lbl = preprocessing.LabelEncoder()\n",
    "        lbl.fit(list(x_test[c].values)) \n",
    "        x_test[c] = lbl.transform(list(x_test[c].values))\n",
    "        \n",
    "# replace missing values with mean values\n",
    "for c in x_test.columns:\n",
    "    x_test[c].fillna(x_test[c].mean(), inplace=True)"
   ]
  },
  {
   "cell_type": "code",
   "execution_count": 7,
   "metadata": {
    "collapsed": true
   },
   "outputs": [],
   "source": [
    "def rmse(y_true, y_pred):\n",
    "    return K.mean(K.square(y_pred - y_true), axis=-1)**(1/2)\n",
    "\n",
    "def rmsle(y_true, y_pred):\n",
    "    a = K.log(y_pred + 1)\n",
    "    b = K.log(y_true + 1)\n",
    "    return K.mean(K.square(a - b), axis=-1)**(1/2)"
   ]
  },
  {
   "cell_type": "code",
   "execution_count": 9,
   "metadata": {
    "collapsed": false
   },
   "outputs": [
    {
     "name": "stdout",
     "output_type": "stream",
     "text": [
      "_________________________________________________________________\n",
      "Layer (type)                 Output Shape              Param #   \n",
      "=================================================================\n",
      "dense_5 (Dense)              (None, 1024)              297984    \n",
      "_________________________________________________________________\n",
      "activation_5 (Activation)    (None, 1024)              0         \n",
      "_________________________________________________________________\n",
      "dense_6 (Dense)              (None, 512)               524800    \n",
      "_________________________________________________________________\n",
      "activation_6 (Activation)    (None, 512)               0         \n",
      "_________________________________________________________________\n",
      "dense_7 (Dense)              (None, 256)               131328    \n",
      "_________________________________________________________________\n",
      "activation_7 (Activation)    (None, 256)               0         \n",
      "_________________________________________________________________\n",
      "dense_8 (Dense)              (None, 128)               32896     \n",
      "_________________________________________________________________\n",
      "activation_8 (Activation)    (None, 128)               0         \n",
      "_________________________________________________________________\n",
      "dropout_2 (Dropout)          (None, 128)               0         \n",
      "_________________________________________________________________\n",
      "dense_9 (Dense)              (None, 1)                 129       \n",
      "_________________________________________________________________\n",
      "activation_9 (Activation)    (None, 1)                 0         \n",
      "=================================================================\n",
      "Total params: 987,137\n",
      "Trainable params: 987,137\n",
      "Non-trainable params: 0\n",
      "_________________________________________________________________\n"
     ]
    }
   ],
   "source": [
    "model = Sequential()\n",
    "model.add(Dense(1024, input_dim=x_train.shape[1]))\n",
    "model.add(Activation(\"sigmoid\"))\n",
    "model.add(Dense(512))\n",
    "model.add(Activation(\"sigmoid\"))\n",
    "model.add(Dense(256))\n",
    "model.add(Activation(\"sigmoid\"))\n",
    "model.add(Dense(128))\n",
    "model.add(Activation(\"sigmoid\"))\n",
    "model.add(Dropout(0.5))\n",
    "model.add(Dense(1))\n",
    "model.add(Activation(\"linear\"))\n",
    "model.compile(optimizer=\"rmsprop\", loss=rmsle)\n",
    "model.summary()"
   ]
  },
  {
   "cell_type": "code",
   "execution_count": 10,
   "metadata": {
    "collapsed": false
   },
   "outputs": [
    {
     "name": "stdout",
     "output_type": "stream",
     "text": [
      "Train on 30166 samples, validate on 305 samples\n",
      "Epoch 1/10\n",
      "30166/30166 [==============================] - 6s - loss: 11.8987 - val_loss: 11.0336\n",
      "Epoch 2/10\n",
      "30166/30166 [==============================] - 6s - loss: 10.5061 - val_loss: 10.2983\n",
      "Epoch 3/10\n",
      "30166/30166 [==============================] - 6s - loss: 9.9569 - val_loss: 9.8782\n",
      "Epoch 4/10\n",
      "30166/30166 [==============================] - 7s - loss: 9.6060 - val_loss: 9.5829\n",
      "Epoch 5/10\n",
      "30166/30166 [==============================] - 8s - loss: 9.3478 - val_loss: 9.3551\n",
      "Epoch 6/10\n",
      "30166/30166 [==============================] - 8s - loss: 9.1433 - val_loss: 9.1696\n",
      "Epoch 7/10\n",
      "30166/30166 [==============================] - 8s - loss: 8.9721 - val_loss: 9.0132\n",
      "Epoch 8/10\n",
      "30166/30166 [==============================] - 8s - loss: 8.8269 - val_loss: 8.8779\n",
      "Epoch 9/10\n",
      "30166/30166 [==============================] - 7s - loss: 8.7007 - val_loss: 8.7588\n",
      "Epoch 10/10\n",
      "30166/30166 [==============================] - 7s - loss: 8.5875 - val_loss: 8.6523\n"
     ]
    },
    {
     "data": {
      "text/plain": [
       "<keras.callbacks.History at 0x105e90cc0>"
      ]
     },
     "execution_count": 10,
     "metadata": {},
     "output_type": "execute_result"
    }
   ],
   "source": [
    "early_stop = EarlyStopping(monitor=\"val_loss\", patience=10)\n",
    "model.fit(x_train.values, y_train.values, epochs=10, validation_split=0.01, callbacks=[early_stop], verbose=1)"
   ]
  },
  {
   "cell_type": "code",
   "execution_count": 17,
   "metadata": {
    "collapsed": false
   },
   "outputs": [
    {
     "data": {
      "text/plain": [
       "array([ 1182.96508789,  1182.96508789,  1182.96508789, ...,  1182.96508789,\n",
       "        1182.96508789,  1182.96508789], dtype=float32)"
      ]
     },
     "execution_count": 17,
     "metadata": {},
     "output_type": "execute_result"
    }
   ],
   "source": [
    "np.reshape(model.predict(x_test.values), -1)"
   ]
  },
  {
   "cell_type": "code",
   "execution_count": 18,
   "metadata": {
    "collapsed": false
   },
   "outputs": [],
   "source": [
    "output = pd.DataFrame({\"id\": x_test.index, \"price_doc\": np.reshape(model.predict(x_test.values), -1)})"
   ]
  },
  {
   "cell_type": "code",
   "execution_count": 20,
   "metadata": {
    "collapsed": true
   },
   "outputs": [],
   "source": [
    "output.to_csv(\"submissions_nn.csv\", index=False)"
   ]
  },
  {
   "cell_type": "code",
   "execution_count": null,
   "metadata": {
    "collapsed": true
   },
   "outputs": [],
   "source": []
  }
 ],
 "metadata": {
  "kernelspec": {
   "display_name": "Python 3",
   "language": "python",
   "name": "python3"
  },
  "language_info": {
   "codemirror_mode": {
    "name": "ipython",
    "version": 3
   },
   "file_extension": ".py",
   "mimetype": "text/x-python",
   "name": "python",
   "nbconvert_exporter": "python",
   "pygments_lexer": "ipython3",
   "version": "3.5.2"
  },
  "widgets": {
   "state": {},
   "version": "1.1.2"
  }
 },
 "nbformat": 4,
 "nbformat_minor": 2
}
