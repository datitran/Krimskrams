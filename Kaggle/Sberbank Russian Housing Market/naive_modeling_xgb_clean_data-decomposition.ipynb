{
 "cells": [
  {
   "cell_type": "code",
   "execution_count": 7,
   "metadata": {
    "collapsed": false
   },
   "outputs": [],
   "source": [
    "import datetime\n",
    "import numpy as np\n",
    "import pandas as pd\n",
    "import xgboost as xgb\n",
    "from sklearn import preprocessing\n",
    "from sklearn.decomposition import PCA, FastICA\n",
    "import matplotlib.pyplot as plt\n",
    "plt.style.use(\"ggplot\")\n",
    "%matplotlib inline"
   ]
  },
  {
   "cell_type": "code",
   "execution_count": 2,
   "metadata": {
    "collapsed": false
   },
   "outputs": [],
   "source": [
    "train = pd.read_csv(\"data/train_clean.csv\", index_col=\"id\", parse_dates=[\"timestamp\"])\n",
    "test = pd.read_csv(\"data/test_clean.csv\", index_col=\"id\", parse_dates=[\"timestamp\"])\n",
    "macro = pd.read_csv(\"data/macro.csv\", parse_dates=[\"timestamp\"])"
   ]
  },
  {
   "cell_type": "code",
   "execution_count": 3,
   "metadata": {
    "collapsed": false
   },
   "outputs": [],
   "source": [
    "y_train = train[\"price_doc\"]\n",
    "x_train = train.drop([\"timestamp\", \"price_doc\"], axis=1)\n",
    "\n",
    "# transform non-numerical variables\n",
    "for c in x_train.columns:\n",
    "    if x_train[c].dtype == \"object\":\n",
    "        lbl = preprocessing.LabelEncoder()\n",
    "        lbl.fit(list(x_train[c].values)) \n",
    "        x_train[c] = lbl.transform(list(x_train[c].values))\n",
    "\n",
    "y_train = y_train.astype(np.float32)\n",
    "x_train = x_train.astype(np.float32)"
   ]
  },
  {
   "cell_type": "code",
   "execution_count": 4,
   "metadata": {
    "collapsed": true
   },
   "outputs": [],
   "source": [
    "x_test = test.drop([\"timestamp\"], axis=1)\n",
    "\n",
    "# transform non-numerical variables\n",
    "for c in x_test.columns:\n",
    "    if x_test[c].dtype == \"object\":\n",
    "        lbl = preprocessing.LabelEncoder()\n",
    "        lbl.fit(list(x_test[c].values)) \n",
    "        x_test[c] = lbl.transform(list(x_test[c].values))\n",
    "        \n",
    "x_test = x_test.astype(np.float32)"
   ]
  },
  {
   "cell_type": "code",
   "execution_count": 63,
   "metadata": {
    "collapsed": false
   },
   "outputs": [
    {
     "data": {
      "text/plain": [
       "(28747, 289)"
      ]
     },
     "execution_count": 63,
     "metadata": {},
     "output_type": "execute_result"
    }
   ],
   "source": [
    "x_train.shape"
   ]
  },
  {
   "cell_type": "code",
   "execution_count": 67,
   "metadata": {
    "collapsed": false
   },
   "outputs": [
    {
     "data": {
      "text/plain": [
       "0.99996293953063586"
      ]
     },
     "execution_count": 67,
     "metadata": {},
     "output_type": "execute_result"
    }
   ],
   "source": [
    "# impute with zero first\n",
    "pca = PCA(n_components=10, random_state=42)\n",
    "pca_train = pca.fit(x_train.fillna(0))\n",
    "sum(pca_train.explained_variance_ratio_)"
   ]
  },
  {
   "cell_type": "code",
   "execution_count": 68,
   "metadata": {
    "collapsed": false
   },
   "outputs": [],
   "source": [
    "n_components=30\n",
    "pca = PCA(n_components=n_components, random_state=42)\n",
    "pca_train = pca.fit_transform(x_train.fillna(0))\n",
    "pca_test = pca.transform(x_test.fillna(0))\n",
    "\n",
    "ica = FastICA(n_components=n_components, random_state=42)\n",
    "ica_train = ica.fit_transform(x_train.fillna(0))\n",
    "ica_test = ica.transform(x_test.fillna(0))"
   ]
  },
  {
   "cell_type": "code",
   "execution_count": 69,
   "metadata": {
    "collapsed": false
   },
   "outputs": [],
   "source": [
    "pca_train_df = pd.DataFrame(pca_train).add_prefix(\"pca_\")\n",
    "pca_test_df = pd.DataFrame(pca_test).add_prefix(\"pca_\")\n",
    "ica_train_df = pd.DataFrame(ica_train).add_prefix(\"ica_\")\n",
    "ica_test_df = pd.DataFrame(ica_test).add_prefix(\"ica_\")"
   ]
  },
  {
   "cell_type": "code",
   "execution_count": 70,
   "metadata": {
    "collapsed": false
   },
   "outputs": [],
   "source": [
    "x_train_full = pd.concat([pca_train_df, ica_train_df], axis=1)\n",
    "x_test_full = pd.concat([pca_test_df, ica_test_df], axis=1)"
   ]
  },
  {
   "cell_type": "code",
   "execution_count": 71,
   "metadata": {
    "collapsed": false
   },
   "outputs": [],
   "source": [
    "xgb_params = {\n",
    "    \"eta\": 0.005,\n",
    "    \"max_depth\": 5,\n",
    "    \"subsample\": 0.7,\n",
    "    \"colsample_bytree\": 0.7,\n",
    "    \"objective\": \"reg:linear\",\n",
    "    \"eval_metric\": \"rmse\",\n",
    "    \"silent\": 1,\n",
    "    \"seed\":42\n",
    "}"
   ]
  },
  {
   "cell_type": "code",
   "execution_count": 72,
   "metadata": {
    "collapsed": false
   },
   "outputs": [],
   "source": [
    "dtrain = xgb.DMatrix(x_train_full, y_train)"
   ]
  },
  {
   "cell_type": "code",
   "execution_count": 74,
   "metadata": {
    "collapsed": false
   },
   "outputs": [
    {
     "name": "stdout",
     "output_type": "stream",
     "text": [
      "[0]\ttrain-rmse:8.43944e+06\ttest-rmse:8.43961e+06\n",
      "[50]\ttrain-rmse:7.05076e+06\ttest-rmse:7.07859e+06\n",
      "[100]\ttrain-rmse:6.03163e+06\ttest-rmse:6.09492e+06\n",
      "[150]\ttrain-rmse:5.29856e+06\ttest-rmse:5.40092e+06\n",
      "[200]\ttrain-rmse:4.77743e+06\ttest-rmse:4.91985e+06\n",
      "[250]\ttrain-rmse:4.41151e+06\ttest-rmse:4.59642e+06\n",
      "[300]\ttrain-rmse:4.15597e+06\ttest-rmse:4.3796e+06\n",
      "[350]\ttrain-rmse:3.97541e+06\ttest-rmse:4.23603e+06\n",
      "[400]\ttrain-rmse:3.8455e+06\ttest-rmse:4.14082e+06\n",
      "[450]\ttrain-rmse:3.75177e+06\ttest-rmse:4.07708e+06\n",
      "[500]\ttrain-rmse:3.68128e+06\ttest-rmse:4.03345e+06\n",
      "[550]\ttrain-rmse:3.62671e+06\ttest-rmse:4.00329e+06\n",
      "[600]\ttrain-rmse:3.58193e+06\ttest-rmse:3.98101e+06\n",
      "[650]\ttrain-rmse:3.54349e+06\ttest-rmse:3.96329e+06\n",
      "[700]\ttrain-rmse:3.51232e+06\ttest-rmse:3.95129e+06\n",
      "[750]\ttrain-rmse:3.4845e+06\ttest-rmse:3.94127e+06\n",
      "[800]\ttrain-rmse:3.45969e+06\ttest-rmse:3.93221e+06\n",
      "[850]\ttrain-rmse:3.437e+06\ttest-rmse:3.92526e+06\n",
      "[900]\ttrain-rmse:3.41615e+06\ttest-rmse:3.91864e+06\n",
      "[950]\ttrain-rmse:3.39663e+06\ttest-rmse:3.91275e+06\n",
      "[1000]\ttrain-rmse:3.37789e+06\ttest-rmse:3.90732e+06\n",
      "[1050]\ttrain-rmse:3.35906e+06\ttest-rmse:3.9025e+06\n",
      "[1100]\ttrain-rmse:3.34334e+06\ttest-rmse:3.89893e+06\n",
      "[1150]\ttrain-rmse:3.32809e+06\ttest-rmse:3.89549e+06\n",
      "[1200]\ttrain-rmse:3.31324e+06\ttest-rmse:3.89203e+06\n",
      "[1250]\ttrain-rmse:3.29911e+06\ttest-rmse:3.88837e+06\n",
      "[1300]\ttrain-rmse:3.28529e+06\ttest-rmse:3.88504e+06\n",
      "[1350]\ttrain-rmse:3.27134e+06\ttest-rmse:3.88186e+06\n",
      "[1400]\ttrain-rmse:3.25875e+06\ttest-rmse:3.87928e+06\n",
      "[1450]\ttrain-rmse:3.24619e+06\ttest-rmse:3.87638e+06\n",
      "[1500]\ttrain-rmse:3.23316e+06\ttest-rmse:3.87391e+06\n",
      "[1550]\ttrain-rmse:3.22042e+06\ttest-rmse:3.87121e+06\n",
      "[1600]\ttrain-rmse:3.20779e+06\ttest-rmse:3.86828e+06\n",
      "[1650]\ttrain-rmse:3.19563e+06\ttest-rmse:3.86584e+06\n",
      "[1700]\ttrain-rmse:3.1839e+06\ttest-rmse:3.86335e+06\n",
      "[1750]\ttrain-rmse:3.17217e+06\ttest-rmse:3.86119e+06\n",
      "[1800]\ttrain-rmse:3.15996e+06\ttest-rmse:3.85871e+06\n",
      "[1850]\ttrain-rmse:3.14878e+06\ttest-rmse:3.85682e+06\n",
      "[1900]\ttrain-rmse:3.13857e+06\ttest-rmse:3.85516e+06\n",
      "[1950]\ttrain-rmse:3.12748e+06\ttest-rmse:3.8529e+06\n",
      "[2000]\ttrain-rmse:3.11706e+06\ttest-rmse:3.85087e+06\n",
      "[2050]\ttrain-rmse:3.10697e+06\ttest-rmse:3.84931e+06\n",
      "[2100]\ttrain-rmse:3.09667e+06\ttest-rmse:3.84769e+06\n",
      "[2150]\ttrain-rmse:3.08651e+06\ttest-rmse:3.8456e+06\n",
      "[2200]\ttrain-rmse:3.0766e+06\ttest-rmse:3.8439e+06\n",
      "[2250]\ttrain-rmse:3.06626e+06\ttest-rmse:3.84238e+06\n",
      "[2300]\ttrain-rmse:3.05606e+06\ttest-rmse:3.84054e+06\n",
      "[2350]\ttrain-rmse:3.0467e+06\ttest-rmse:3.83902e+06\n",
      "[2400]\ttrain-rmse:3.037e+06\ttest-rmse:3.83742e+06\n",
      "[2450]\ttrain-rmse:3.02734e+06\ttest-rmse:3.83595e+06\n",
      "[2500]\ttrain-rmse:3.01796e+06\ttest-rmse:3.83467e+06\n",
      "[2550]\ttrain-rmse:3.00873e+06\ttest-rmse:3.83305e+06\n",
      "[2600]\ttrain-rmse:2.99907e+06\ttest-rmse:3.83154e+06\n",
      "[2650]\ttrain-rmse:2.98979e+06\ttest-rmse:3.82977e+06\n",
      "[2700]\ttrain-rmse:2.98078e+06\ttest-rmse:3.82839e+06\n",
      "[2750]\ttrain-rmse:2.9719e+06\ttest-rmse:3.82703e+06\n",
      "[2800]\ttrain-rmse:2.96342e+06\ttest-rmse:3.8258e+06\n",
      "[2850]\ttrain-rmse:2.95437e+06\ttest-rmse:3.82438e+06\n",
      "[2900]\ttrain-rmse:2.94562e+06\ttest-rmse:3.8228e+06\n",
      "[2950]\ttrain-rmse:2.93713e+06\ttest-rmse:3.82164e+06\n",
      "[2999]\ttrain-rmse:2.92863e+06\ttest-rmse:3.82051e+06\n"
     ]
    }
   ],
   "source": [
    "cv_output = xgb.cv(xgb_params, dtrain, num_boost_round=3000, early_stopping_rounds=20, \n",
    "                   verbose_eval=50, show_stdv=False)"
   ]
  },
  {
   "cell_type": "code",
   "execution_count": 75,
   "metadata": {
    "collapsed": false
   },
   "outputs": [
    {
     "data": {
      "image/png": "[encoded data removed]",
      "text/plain": [
       "<matplotlib.figure.Figure at 0x11706e7f0>"
      ]
     },
     "metadata": {},
     "output_type": "display_data"
    }
   ],
   "source": [
    "cv_output[[\"train-rmse-mean\", \"test-rmse-mean\"]].plot()\n",
    "pass"
   ]
  },
  {
   "cell_type": "code",
   "execution_count": 76,
   "metadata": {
    "collapsed": true
   },
   "outputs": [],
   "source": [
    "num_boost_rounds = len(cv_output)\n",
    "model = xgb.train(dict(xgb_params, silent=0), dtrain, num_boost_round=num_boost_rounds)"
   ]
  },
  {
   "cell_type": "code",
   "execution_count": 77,
   "metadata": {
    "collapsed": false
   },
   "outputs": [
    {
     "data": {
      "text/plain": [
       "<matplotlib.axes._subplots.AxesSubplot at 0x1170ae518>"
      ]
     },
     "execution_count": 77,
     "metadata": {},
     "output_type": "execute_result"
    },
    {
     "data": {
      "image/png": "[encoded data removed]",
      "text/plain": [
       "<matplotlib.figure.Figure at 0x1127a5898>"
      ]
     },
     "metadata": {},
     "output_type": "display_data"
    }
   ],
   "source": [
    "xgb.plot_importance(model, max_num_features=20)"
   ]
  },
  {
   "cell_type": "code",
   "execution_count": 78,
   "metadata": {
    "collapsed": false
   },
   "outputs": [],
   "source": [
    "pred = model.predict(dtrain)"
   ]
  },
  {
   "cell_type": "code",
   "execution_count": 79,
   "metadata": {
    "collapsed": false
   },
   "outputs": [],
   "source": [
    "error = np.mean(abs(pred - y_train)) / len(y_train)"
   ]
  },
  {
   "cell_type": "code",
   "execution_count": 80,
   "metadata": {
    "collapsed": false
   },
   "outputs": [],
   "source": [
    "n = 1 / len(y_train)\n",
    "rmsle = np.sqrt(1/n * np.sum(np.power(np.log(pred + 1) - np.log(y_train.values + 1), 2)))"
   ]
  },
  {
   "cell_type": "code",
   "execution_count": 81,
   "metadata": {
    "collapsed": false
   },
   "outputs": [
    {
     "name": "stdout",
     "output_type": "stream",
     "text": [
      "RMSLE: 15212.399936053915, Error: 70.67757939958952\n"
     ]
    }
   ],
   "source": [
    "print(\"RMSLE: {rmsle}, Error: {error}\".format(rmsle=rmsle, error=error))"
   ]
  },
  {
   "cell_type": "code",
   "execution_count": 82,
   "metadata": {
    "collapsed": true
   },
   "outputs": [],
   "source": [
    "dtest = xgb.DMatrix(x_test_full)"
   ]
  },
  {
   "cell_type": "code",
   "execution_count": 83,
   "metadata": {
    "collapsed": false
   },
   "outputs": [],
   "source": [
    "y_predict = model.predict(dtest)"
   ]
  },
  {
   "cell_type": "code",
   "execution_count": 84,
   "metadata": {
    "collapsed": false
   },
   "outputs": [],
   "source": [
    "output = pd.DataFrame({\"id\": x_test.index, \"price_doc\": y_predict})"
   ]
  },
  {
   "cell_type": "code",
   "execution_count": 94,
   "metadata": {
    "collapsed": false
   },
   "outputs": [],
   "source": [
    "output.to_csv(\"submissions_decomposition_{}.csv\".format(datetime.datetime.today()), index=False)"
   ]
  },
  {
   "cell_type": "markdown",
   "metadata": {
    "collapsed": true
   },
   "source": [
    "### Correction"
   ]
  },
  {
   "cell_type": "code",
   "execution_count": 85,
   "metadata": {
    "collapsed": false
   },
   "outputs": [
    {
     "data": {
      "text/plain": [
       "2000000    750\n",
       "1000000    743\n",
       "6000000    369\n",
       "3000000    329\n",
       "6500000    327\n",
       "7000000    319\n",
       "5500000    309\n",
       "6300000    292\n",
       "5000000    292\n",
       "7500000    275\n",
       "Name: price_doc, dtype: int64"
      ]
     },
     "execution_count": 85,
     "metadata": {},
     "output_type": "execute_result"
    }
   ],
   "source": [
    "# train prices are round values for investment type\n",
    "# idea: take price_doc that are close to the prices in train and take this value\n",
    "train[[\"price_doc\", \"product_type\"]][train.product_type == \"Investment\"].price_doc.value_counts(dropna=False).head(10)"
   ]
  },
  {
   "cell_type": "code",
   "execution_count": 86,
   "metadata": {
    "collapsed": false
   },
   "outputs": [],
   "source": [
    "investment_prices = train[[\"price_doc\", \"product_type\"]][train.product_type == \"Investment\"].price_doc.values\n",
    "unique_investment_prices = set(investment_prices)"
   ]
  },
  {
   "cell_type": "code",
   "execution_count": 87,
   "metadata": {
    "collapsed": false
   },
   "outputs": [],
   "source": [
    "output_cor = pd.DataFrame({\"id\": test.index, \"product_type\": test.product_type, \"price_doc\": y_predict})"
   ]
  },
  {
   "cell_type": "code",
   "execution_count": 88,
   "metadata": {
    "collapsed": true
   },
   "outputs": [],
   "source": [
    "def correct_investment_price(price):\n",
    "    return min(unique_investment_prices, key=lambda x: abs(x - price))"
   ]
  },
  {
   "cell_type": "code",
   "execution_count": 89,
   "metadata": {
    "collapsed": false
   },
   "outputs": [],
   "source": [
    "output_cor[\"price_doc_cor\"] = output_cor[output_cor.product_type == \"Investment\"].apply(lambda x: correct_investment_price(x.price_doc), axis=1)"
   ]
  },
  {
   "cell_type": "code",
   "execution_count": 90,
   "metadata": {
    "collapsed": false
   },
   "outputs": [],
   "source": [
    "def take_price_doc_corr(x):\n",
    "    if x.product_type == \"Investment\":\n",
    "        return x.price_doc_cor\n",
    "    else:\n",
    "        return x.price_doc"
   ]
  },
  {
   "cell_type": "code",
   "execution_count": 91,
   "metadata": {
    "collapsed": false
   },
   "outputs": [],
   "source": [
    "output_final = output_cor.apply(lambda x: take_price_doc_corr(x), axis=1).reset_index(name=\"price_doc\")"
   ]
  },
  {
   "cell_type": "code",
   "execution_count": 92,
   "metadata": {
    "collapsed": false
   },
   "outputs": [
    {
     "data": {
      "text/html": [
       "<div>\n",
       "<table border=\"1\" class=\"dataframe\">\n",
       "  <thead>\n",
       "    <tr style=\"text-align: right;\">\n",
       "      <th></th>\n",
       "      <th>id</th>\n",
       "      <th>price_doc</th>\n",
       "    </tr>\n",
       "  </thead>\n",
       "  <tbody>\n",
       "    <tr>\n",
       "      <th>0</th>\n",
       "      <td>30474</td>\n",
       "      <td>7170000.0</td>\n",
       "    </tr>\n",
       "    <tr>\n",
       "      <th>1</th>\n",
       "      <td>30475</td>\n",
       "      <td>5700844.0</td>\n",
       "    </tr>\n",
       "    <tr>\n",
       "      <th>2</th>\n",
       "      <td>30476</td>\n",
       "      <td>6070000.0</td>\n",
       "    </tr>\n",
       "    <tr>\n",
       "      <th>3</th>\n",
       "      <td>30477</td>\n",
       "      <td>5322445.0</td>\n",
       "    </tr>\n",
       "    <tr>\n",
       "      <th>4</th>\n",
       "      <td>30478</td>\n",
       "      <td>6338101.5</td>\n",
       "    </tr>\n",
       "  </tbody>\n",
       "</table>\n",
       "</div>"
      ],
      "text/plain": [
       "      id  price_doc\n",
       "0  30474  7170000.0\n",
       "1  30475  5700844.0\n",
       "2  30476  6070000.0\n",
       "3  30477  5322445.0\n",
       "4  30478  6338101.5"
      ]
     },
     "execution_count": 92,
     "metadata": {},
     "output_type": "execute_result"
    }
   ],
   "source": [
    "output_final.head()"
   ]
  },
  {
   "cell_type": "code",
   "execution_count": 93,
   "metadata": {
    "collapsed": true
   },
   "outputs": [],
   "source": [
    "output_final.to_csv(\"submissions_corrected_{}.csv\".format(datetime.datetime.today()), index=False)"
   ]
  },
  {
   "cell_type": "code",
   "execution_count": null,
   "metadata": {
    "collapsed": true
   },
   "outputs": [],
   "source": []
  }
 ],
 "metadata": {
  "kernelspec": {
   "display_name": "Python 3",
   "language": "python",
   "name": "python3"
  },
  "language_info": {
   "codemirror_mode": {
    "name": "ipython",
    "version": 3
   },
   "file_extension": ".py",
   "mimetype": "text/x-python",
   "name": "python",
   "nbconvert_exporter": "python",
   "pygments_lexer": "ipython3",
   "version": "3.5.2"
  },
  "widgets": {
   "state": {},
   "version": "1.1.2"
  }
 },
 "nbformat": 4,
 "nbformat_minor": 2
}
