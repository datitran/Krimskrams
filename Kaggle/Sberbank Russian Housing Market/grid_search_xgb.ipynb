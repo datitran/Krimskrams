{
 "cells": [
  {
   "cell_type": "code",
   "execution_count": 1,
   "metadata": {
    "collapsed": false
   },
   "outputs": [],
   "source": [
    "import numpy as np\n",
    "import pandas as pd\n",
    "import xgboost as xgb\n",
    "from xgboost.sklearn import XGBRegressor\n",
    "from sklearn import preprocessing\n",
    "from sklearn.model_selection import GridSearchCV\n",
    "import matplotlib.pyplot as plt\n",
    "plt.style.use(\"ggplot\")\n",
    "%matplotlib inline"
   ]
  },
  {
   "cell_type": "code",
   "execution_count": 2,
   "metadata": {
    "collapsed": false
   },
   "outputs": [],
   "source": [
    "train = pd.read_csv(\"data/train_without_noise.csv\", index_col=\"id\", parse_dates=[\"timestamp\"])\n",
    "test = pd.read_csv(\"data/test.csv\", index_col=\"id\", parse_dates=[\"timestamp\"])\n",
    "macro = pd.read_csv(\"data/macro.csv\", parse_dates=[\"timestamp\"])"
   ]
  },
  {
   "cell_type": "code",
   "execution_count": 3,
   "metadata": {
    "collapsed": false
   },
   "outputs": [],
   "source": [
    "y_train = train[\"price_doc\"]\n",
    "x_train = train.drop([\"timestamp\", \"price_doc\"], axis=1)"
   ]
  },
  {
   "cell_type": "code",
   "execution_count": 4,
   "metadata": {
    "collapsed": false
   },
   "outputs": [],
   "source": [
    "# transform non-numerical variables\n",
    "for c in x_train.columns:\n",
    "    if x_train[c].dtype == \"object\":\n",
    "        lbl = preprocessing.LabelEncoder()\n",
    "        lbl.fit(list(x_train[c].values)) \n",
    "        x_train[c] = lbl.transform(list(x_train[c].values))"
   ]
  },
  {
   "cell_type": "code",
   "execution_count": 5,
   "metadata": {
    "collapsed": false
   },
   "outputs": [],
   "source": [
    "x_test = test.drop([\"timestamp\"], axis=1)"
   ]
  },
  {
   "cell_type": "code",
   "execution_count": 6,
   "metadata": {
    "collapsed": true
   },
   "outputs": [],
   "source": [
    "# transform non-numerical variables\n",
    "for c in x_test.columns:\n",
    "    if x_test[c].dtype == \"object\":\n",
    "        lbl = preprocessing.LabelEncoder()\n",
    "        lbl.fit(list(x_test[c].values)) \n",
    "        x_test[c] = lbl.transform(list(x_test[c].values))"
   ]
  },
  {
   "cell_type": "code",
   "execution_count": 7,
   "metadata": {
    "collapsed": true
   },
   "outputs": [],
   "source": [
    "# base values\n",
    "xgb_params = {\n",
    "    \"eta\": 0.05,\n",
    "    \"max_depth\": 5,\n",
    "    \"subsample\": 0.7,\n",
    "    \"colsample_bytree\": 0.7,\n",
    "    \"objective\": \"reg:linear\",\n",
    "    \"eval_metric\": \"rmse\",\n",
    "    \"silent\": 1,\n",
    "    \"seed\":42\n",
    "}"
   ]
  },
  {
   "cell_type": "code",
   "execution_count": 7,
   "metadata": {
    "collapsed": false
   },
   "outputs": [],
   "source": [
    "xgb1 = XGBRegressor(learning_rate=0.05,\n",
    "                     max_depth=5,\n",
    "                     subsample=0.7,\n",
    "                     colsample_bylevel=0.7,\n",
    "                     objective=\"reg:linear\",\n",
    "                     seed=42)"
   ]
  },
  {
   "cell_type": "code",
   "execution_count": 8,
   "metadata": {
    "collapsed": false
   },
   "outputs": [
    {
     "data": {
      "text/plain": [
       "{'base_score': 0.5,\n",
       " 'booster': 'gbtree',\n",
       " 'colsample_bylevel': 0.7,\n",
       " 'colsample_bytree': 1,\n",
       " 'gamma': 0,\n",
       " 'learning_rate': 0.05,\n",
       " 'max_delta_step': 0,\n",
       " 'max_depth': 5,\n",
       " 'min_child_weight': 1,\n",
       " 'missing': None,\n",
       " 'n_estimators': 100,\n",
       " 'objective': 'reg:linear',\n",
       " 'reg_alpha': 0,\n",
       " 'reg_lambda': 1,\n",
       " 'scale_pos_weight': 1,\n",
       " 'seed': 42,\n",
       " 'silent': 1,\n",
       " 'subsample': 0.7}"
      ]
     },
     "execution_count": 8,
     "metadata": {},
     "output_type": "execute_result"
    }
   ],
   "source": [
    "xgb1.get_xgb_params()"
   ]
  },
  {
   "cell_type": "code",
   "execution_count": 10,
   "metadata": {
    "collapsed": false
   },
   "outputs": [],
   "source": [
    "# search for optimal max_depth 3-8 is usually good size\n",
    "param_test1 = {\n",
    "    \"max_depth\": range(3,10,2),\n",
    "    \"min_child_weight\": range(1, 6, 2)\n",
    "}\n",
    "gsearch1 = GridSearchCV(estimator=xgb1, param_grid=param_test1, scoring=\"r2\", verbose=1)"
   ]
  },
  {
   "cell_type": "code",
   "execution_count": 11,
   "metadata": {
    "collapsed": false
   },
   "outputs": [
    {
     "name": "stdout",
     "output_type": "stream",
     "text": [
      "Fitting 3 folds for each of 12 candidates, totalling 36 fits\n"
     ]
    },
    {
     "name": "stderr",
     "output_type": "stream",
     "text": [
      "[Parallel(n_jobs=1)]: Done  36 out of  36 | elapsed: 15.5min finished\n"
     ]
    },
    {
     "data": {
      "text/plain": [
       "GridSearchCV(cv=None, error_score='raise',\n",
       "       estimator=XGBRegressor(base_score=0.5, booster='gbtree', colsample_bylevel=0.7,\n",
       "       colsample_bytree=1, gamma=0, learning_rate=0.05, max_delta_step=0,\n",
       "       max_depth=5, min_child_weight=1, missing=None, n_estimators=100,\n",
       "       nthread=-1, objective='reg:linear', reg_alpha=0, reg_lambda=1,\n",
       "       scale_pos_weight=1, seed=42, silent=True, subsample=0.7),\n",
       "       fit_params={}, iid=True, n_jobs=1,\n",
       "       param_grid={'min_child_weight': range(1, 6, 2), 'max_depth': range(3, 10, 2)},\n",
       "       pre_dispatch='2*n_jobs', refit=True, return_train_score=True,\n",
       "       scoring='r2', verbose=1)"
      ]
     },
     "execution_count": 11,
     "metadata": {},
     "output_type": "execute_result"
    }
   ],
   "source": [
    "gsearch1.fit(x_train.values, y_train.values)"
   ]
  },
  {
   "cell_type": "code",
   "execution_count": 12,
   "metadata": {
    "collapsed": false
   },
   "outputs": [
    {
     "name": "stdout",
     "output_type": "stream",
     "text": [
      "{'mean_score_time': array([ 0.06701175,  0.06393933,  0.06573129,  0.08408968,  0.08918341,\n",
      "        0.08569034,  0.11710993,  0.11174297,  0.11425265,  0.13856006,\n",
      "        0.13878004,  0.13838251]), 'split1_train_score': array([ 0.6832496 ,  0.68139135,  0.68042287,  0.7805569 ,  0.77216189,\n",
      "        0.76830724,  0.85269423,  0.8432753 ,  0.83369414,  0.90689041,\n",
      "        0.896589  ,  0.88596617]), 'mean_test_score': array([ 0.59756906,  0.59920533,  0.59746256,  0.60988449,  0.61355777,\n",
      "        0.6161175 ,  0.6177487 ,  0.61778345,  0.62144769,  0.6043361 ,\n",
      "        0.6050557 ,  0.60500439]), 'split1_test_score': array([ 0.62661742,  0.62747537,  0.6311931 ,  0.66397505,  0.65987904,\n",
      "        0.66573214,  0.66774137,  0.66796597,  0.66766953,  0.65825125,\n",
      "        0.66715402,  0.66651737]), 'std_test_score': array([ 0.05736395,  0.0549439 ,  0.05571959,  0.08756236,  0.0805866 ,\n",
      "        0.08246068,  0.08173085,  0.08564962,  0.07723884,  0.09030452,\n",
      "        0.09037289,  0.0912571 ]), 'rank_test_score': array([11, 10, 12,  6,  5,  4,  3,  2,  1,  9,  7,  8], dtype=int32), 'split2_test_score': array([ 0.64864571,  0.64775367,  0.6422739 ,  0.6793128 ,  0.68057883,\n",
      "        0.68271103,  0.68300812,  0.68816905,  0.6840515 ,  0.67764342,\n",
      "        0.67075058,  0.67250579]), 'mean_fit_time': array([ 13.07302992,  13.15797043,  13.01734273,  21.49819056,\n",
      "        21.26326164,  21.31241139,  30.77172462,  29.885336  ,\n",
      "        30.40557528,  37.43503626,  37.31391358,  37.19336613]), 'params': ({'min_child_weight': 1, 'max_depth': 3}, {'min_child_weight': 3, 'max_depth': 3}, {'min_child_weight': 5, 'max_depth': 3}, {'min_child_weight': 1, 'max_depth': 5}, {'min_child_weight': 3, 'max_depth': 5}, {'min_child_weight': 5, 'max_depth': 5}, {'min_child_weight': 1, 'max_depth': 7}, {'min_child_weight': 3, 'max_depth': 7}, {'min_child_weight': 5, 'max_depth': 7}, {'min_child_weight': 1, 'max_depth': 9}, {'min_child_weight': 3, 'max_depth': 9}, {'min_child_weight': 5, 'max_depth': 9}), 'std_fit_time': array([ 0.14305627,  0.14002662,  0.13217906,  0.46156347,  0.38823841,\n",
      "        0.397003  ,  0.63965822,  0.3643096 ,  0.54928606,  0.74824168,\n",
      "        0.61978809,  0.49741589]), 'param_min_child_weight': masked_array(data = [1 3 5 1 3 5 1 3 5 1 3 5],\n",
      "             mask = [False False False False False False False False False False False False],\n",
      "       fill_value = ?)\n",
      ", 'split2_train_score': array([ 0.67473488,  0.67204205,  0.66958508,  0.77074367,  0.76463405,\n",
      "        0.76050072,  0.84348797,  0.83337141,  0.82390455,  0.89840832,\n",
      "        0.88687628,  0.87354472]), 'std_score_time': array([ 0.00158808,  0.00337306,  0.00124667,  0.00199825,  0.00193964,\n",
      "        0.00198318,  0.00380707,  0.00253872,  0.00087463,  0.00307121,\n",
      "        0.00050006,  0.00333371]), 'split0_test_score': array([ 0.51744936,  0.52239198,  0.51892532,  0.48637284,  0.50022239,\n",
      "        0.49991624,  0.50250338,  0.49722264,  0.51262855,  0.47712123,\n",
      "        0.47726932,  0.47599703]), 'param_max_depth': masked_array(data = [3 3 3 5 5 5 7 7 7 9 9 9],\n",
      "             mask = [False False False False False False False False False False False False],\n",
      "       fill_value = ?)\n",
      ", 'std_train_score': array([ 0.01924706,  0.02036275,  0.0215431 ,  0.01072061,  0.01348896,\n",
      "        0.01415135,  0.0062124 ,  0.00939856,  0.01250133,  0.00581404,\n",
      "        0.00823754,  0.01081873]), 'split0_train_score': array([ 0.71915002,  0.719147  ,  0.71972958,  0.79674453,  0.79625983,\n",
      "        0.79365235,  0.85858425,  0.85632151,  0.85392698,  0.91255665,\n",
      "        0.90704944,  0.90002814]), 'mean_train_score': array([ 0.69237817,  0.69086013,  0.68991251,  0.7826817 ,  0.77768526,\n",
      "        0.77415343,  0.85158882,  0.84432274,  0.83717522,  0.90595179,\n",
      "        0.89683824,  0.88651301])}\n",
      "0.621447694568\n",
      "{'min_child_weight': 5, 'max_depth': 7}\n"
     ]
    }
   ],
   "source": [
    "print(gsearch1.cv_results_)\n",
    "print(gsearch1.best_score_)\n",
    "print(gsearch1.best_params_)"
   ]
  },
  {
   "cell_type": "code",
   "execution_count": 16,
   "metadata": {
    "collapsed": false
   },
   "outputs": [],
   "source": [
    "param_test2 = {\n",
    "    \"max_depth\": [6, 7, 8],\n",
    "    \"min_child_weight\": [4, 5, 6]\n",
    "}\n",
    "gsearch2 = GridSearchCV(estimator=xgb1, param_grid=param_test2, scoring=\"r2\", verbose=1)"
   ]
  },
  {
   "cell_type": "code",
   "execution_count": 17,
   "metadata": {
    "collapsed": false
   },
   "outputs": [
    {
     "name": "stdout",
     "output_type": "stream",
     "text": [
      "Fitting 3 folds for each of 9 candidates, totalling 27 fits\n"
     ]
    },
    {
     "name": "stderr",
     "output_type": "stream",
     "text": [
      "[Parallel(n_jobs=1)]: Done  27 out of  27 | elapsed: 12.6min finished\n"
     ]
    },
    {
     "data": {
      "text/plain": [
       "GridSearchCV(cv=None, error_score='raise',\n",
       "       estimator=XGBRegressor(base_score=0.5, booster='gbtree', colsample_bylevel=0.7,\n",
       "       colsample_bytree=1, gamma=0, learning_rate=0.05, max_delta_step=0,\n",
       "       max_depth=5, min_child_weight=1, missing=None, n_estimators=100,\n",
       "       nthread=-1, objective='reg:linear', reg_alpha=0, reg_lambda=1,\n",
       "       scale_pos_weight=1, seed=42, silent=True, subsample=0.7),\n",
       "       fit_params={}, iid=True, n_jobs=1,\n",
       "       param_grid={'min_child_weight': [4, 5, 6], 'max_depth': [6, 7, 8]},\n",
       "       pre_dispatch='2*n_jobs', refit=True, return_train_score=True,\n",
       "       scoring='r2', verbose=1)"
      ]
     },
     "execution_count": 17,
     "metadata": {},
     "output_type": "execute_result"
    }
   ],
   "source": [
    "gsearch2.fit(x_train.values, y_train.values)"
   ]
  },
  {
   "cell_type": "code",
   "execution_count": 18,
   "metadata": {
    "collapsed": false
   },
   "outputs": [
    {
     "name": "stdout",
     "output_type": "stream",
     "text": [
      "{'mean_score_time': array([ 0.09515031,  0.09352493,  0.09306359,  0.10771243,  0.10707641,\n",
      "        0.10636965,  0.12179669,  0.1200006 ,  0.11703531]), 'split1_train_score': array([ 0.804579  ,  0.80184064,  0.79810338,  0.8392366 ,  0.83369414,\n",
      "        0.82997376,  0.86772108,  0.86288497,  0.85916154]), 'mean_test_score': array([ 0.61279463,  0.61706851,  0.61888388,  0.61979564,  0.62144769,\n",
      "        0.62404684,  0.60346076,  0.60608769,  0.61016511]), 'split1_test_score': array([ 0.66250872,  0.66436937,  0.66476746,  0.6675491 ,  0.66766953,\n",
      "        0.66509784,  0.6639709 ,  0.66494551,  0.66695904]), 'std_test_score': array([ 0.08587164,  0.07994363,  0.0795714 ,  0.08108955,  0.07723884,\n",
      "        0.07185241,  0.09401714,  0.09467049,  0.09233051]), 'rank_test_score': array([6, 5, 4, 3, 2, 1, 9, 8, 7], dtype=int32), 'split2_test_score': array([ 0.68389624,  0.6823512 ,  0.68493141,  0.68621649,  0.6840515 ,\n",
      "        0.68402484,  0.67574122,  0.68080497,  0.68359669]), 'mean_fit_time': array([ 23.62828565,  23.71099997,  23.47338907,  27.62242993,\n",
      "        27.70262527,  27.65972741,  31.89469568,  31.73113179,  31.74262937]), 'params': ({'min_child_weight': 4, 'max_depth': 6}, {'min_child_weight': 5, 'max_depth': 6}, {'min_child_weight': 6, 'max_depth': 6}, {'min_child_weight': 4, 'max_depth': 7}, {'min_child_weight': 5, 'max_depth': 7}, {'min_child_weight': 6, 'max_depth': 7}, {'min_child_weight': 4, 'max_depth': 8}, {'min_child_weight': 5, 'max_depth': 8}, {'min_child_weight': 6, 'max_depth': 8}), 'std_fit_time': array([ 0.2874106 ,  0.46070622,  0.29822477,  0.41805901,  0.36369775,\n",
      "        0.32042699,  0.41725812,  0.45623025,  0.3396758 ]), 'param_min_child_weight': masked_array(data = [4 5 6 4 5 6 4 5 6],\n",
      "             mask = [False False False False False False False False False],\n",
      "       fill_value = ?)\n",
      ", 'split2_train_score': array([ 0.79870909,  0.7947246 ,  0.78933099,  0.82912878,  0.82390455,\n",
      "        0.81789021,  0.85712781,  0.85072698,  0.84516848]), 'std_score_time': array([ 0.00072833,  0.00204345,  0.00019679,  0.00149226,  0.00528428,\n",
      "        0.00393314,  0.00304605,  0.00263438,  0.00115748]), 'split0_test_score': array([ 0.49198632,  0.50449173,  0.50695962,  0.50562822,  0.51262855,\n",
      "        0.52302407,  0.47067767,  0.47252033,  0.47994723]), 'param_max_depth': masked_array(data = [6 6 6 7 7 7 8 8 8],\n",
      "             mask = [False False False False False False False False False],\n",
      "       fill_value = ?)\n",
      ", 'std_train_score': array([ 0.01198254,  0.01289474,  0.01404275,  0.0108985 ,  0.01250133,\n",
      "        0.01309754,  0.00897944,  0.0100301 ,  0.01087245]), 'split0_train_score': array([ 0.82654935,  0.82493325,  0.82252133,  0.85558063,  0.85392698,\n",
      "        0.84967   ,  0.87911797,  0.87529518,  0.87178875]), 'mean_train_score': array([ 0.80994581,  0.80716616,  0.80331857,  0.84131534,  0.83717522,\n",
      "        0.83251133,  0.86798896,  0.86296905,  0.85870625])}\n",
      "0.624046836469\n",
      "{'min_child_weight': 6, 'max_depth': 7}\n"
     ]
    }
   ],
   "source": [
    "print(gsearch2.cv_results_)\n",
    "print(gsearch2.best_score_)\n",
    "print(gsearch2.best_params_)"
   ]
  },
  {
   "cell_type": "code",
   "execution_count": 17,
   "metadata": {
    "collapsed": true
   },
   "outputs": [],
   "source": [
    "xgb2 = XGBRegressor(learning_rate=0.05,\n",
    "                     max_depth=7,\n",
    "                     min_child_weight=6,\n",
    "                     gamma=0,\n",
    "                     subsample=0.7,\n",
    "                     colsample_bylevel=0.7,\n",
    "                     objective=\"reg:linear\",\n",
    "                     seed=42)"
   ]
  },
  {
   "cell_type": "code",
   "execution_count": 18,
   "metadata": {
    "collapsed": false
   },
   "outputs": [],
   "source": [
    "param_test3 = {\n",
    "    \"gamma\": np.arange(0, 1.2, 0.2)\n",
    "}\n",
    "gsearch3 = GridSearchCV(estimator=xgb2, param_grid=param_test3, scoring=\"r2\", verbose=1)"
   ]
  },
  {
   "cell_type": "code",
   "execution_count": 19,
   "metadata": {
    "collapsed": false
   },
   "outputs": [
    {
     "name": "stdout",
     "output_type": "stream",
     "text": [
      "Fitting 3 folds for each of 6 candidates, totalling 18 fits\n"
     ]
    },
    {
     "name": "stderr",
     "output_type": "stream",
     "text": [
      "[Parallel(n_jobs=1)]: Done  18 out of  18 | elapsed:  9.1min finished\n"
     ]
    },
    {
     "data": {
      "text/plain": [
       "GridSearchCV(cv=None, error_score='raise',\n",
       "       estimator=XGBRegressor(base_score=0.5, booster='gbtree', colsample_bylevel=0.7,\n",
       "       colsample_bytree=1, gamma=0, learning_rate=0.05, max_delta_step=0,\n",
       "       max_depth=7, min_child_weight=6, missing=None, n_estimators=100,\n",
       "       nthread=-1, objective='reg:linear', reg_alpha=0, reg_lambda=1,\n",
       "       scale_pos_weight=1, seed=42, silent=True, subsample=0.7),\n",
       "       fit_params={}, iid=True, n_jobs=1,\n",
       "       param_grid={'gamma': array([ 0. ,  0.2,  0.4,  0.6,  0.8,  1. ])},\n",
       "       pre_dispatch='2*n_jobs', refit=True, return_train_score=True,\n",
       "       scoring='r2', verbose=1)"
      ]
     },
     "execution_count": 19,
     "metadata": {},
     "output_type": "execute_result"
    }
   ],
   "source": [
    "gsearch3.fit(x_train.values, y_train.values)"
   ]
  },
  {
   "cell_type": "code",
   "execution_count": 20,
   "metadata": {
    "collapsed": false
   },
   "outputs": [
    {
     "name": "stdout",
     "output_type": "stream",
     "text": [
      "{'mean_fit_time': array([ 30.24002806,  30.48722537,  29.1691583 ,  30.44474498,\n",
      "        30.30343501,  29.50940537]), 'split1_train_score': array([ 0.82997376,  0.82997376,  0.82997376,  0.82997376,  0.82997376,\n",
      "        0.82997376]), 'std_test_score': array([ 0.07185241,  0.07185241,  0.07185241,  0.07185241,  0.07185241,\n",
      "        0.07185241]), 'mean_score_time': array([ 0.11473529,  0.11179773,  0.10508498,  0.1105334 ,  0.11938731,\n",
      "        0.11219994]), 'split1_test_score': array([ 0.66509784,  0.66509784,  0.66509784,  0.66509784,  0.66509784,\n",
      "        0.66509784]), 'split2_test_score': array([ 0.68402484,  0.68402484,  0.68402484,  0.68402484,  0.68402484,\n",
      "        0.68402484]), 'std_score_time': array([ 0.00217996,  0.00314583,  0.00381724,  0.0059813 ,  0.01124935,\n",
      "        0.00417286]), 'std_train_score': array([ 0.01309754,  0.01309754,  0.01309754,  0.01309754,  0.01309754,\n",
      "        0.01309754]), 'split0_test_score': array([ 0.52302407,  0.52302407,  0.52302407,  0.52302407,  0.52302407,\n",
      "        0.52302407]), 'std_fit_time': array([ 0.54438604,  0.42107532,  1.1663721 ,  0.3943172 ,  0.55198361,\n",
      "        0.81877176]), 'param_gamma': masked_array(data = [0.0 0.20000000000000001 0.40000000000000002 0.60000000000000009\n",
      " 0.80000000000000004 1.0],\n",
      "             mask = [False False False False False False],\n",
      "       fill_value = ?)\n",
      ", 'split0_train_score': array([ 0.84967,  0.84967,  0.84967,  0.84967,  0.84967,  0.84967]), 'params': ({'gamma': 0.0}, {'gamma': 0.20000000000000001}, {'gamma': 0.40000000000000002}, {'gamma': 0.60000000000000009}, {'gamma': 0.80000000000000004}, {'gamma': 1.0}), 'mean_test_score': array([ 0.62404684,  0.62404684,  0.62404684,  0.62404684,  0.62404684,\n",
      "        0.62404684]), 'rank_test_score': array([1, 1, 1, 1, 1, 1], dtype=int32), 'mean_train_score': array([ 0.83251133,  0.83251133,  0.83251133,  0.83251133,  0.83251133,\n",
      "        0.83251133]), 'split2_train_score': array([ 0.81789021,  0.81789021,  0.81789021,  0.81789021,  0.81789021,\n",
      "        0.81789021])}\n",
      "0.624046836469\n",
      "{'gamma': 0.0}\n"
     ]
    }
   ],
   "source": [
    "print(gsearch3.cv_results_)\n",
    "print(gsearch3.best_score_)\n",
    "print(gsearch3.best_params_)"
   ]
  },
  {
   "cell_type": "code",
   "execution_count": 52,
   "metadata": {
    "collapsed": true
   },
   "outputs": [],
   "source": [
    "xgb3 = XGBRegressor(learning_rate=0.05,\n",
    "                     max_depth=7,\n",
    "                     min_child_weight=6,\n",
    "                     gamma=0,\n",
    "                     subsample=0.7,\n",
    "                     colsample_bytree=0.7,\n",
    "                     objective=\"reg:linear\",\n",
    "                     seed=42)"
   ]
  },
  {
   "cell_type": "code",
   "execution_count": 53,
   "metadata": {
    "collapsed": true
   },
   "outputs": [],
   "source": [
    "param_test4 = {\n",
    "    \"subsample\": np.arange(0.5, 1, 0.1),\n",
    "    \"colsample_bytree\": np.arange(0.5, 1, 0.1)\n",
    "}\n",
    "gsearch4 = GridSearchCV(estimator=xgb3, param_grid=param_test4, scoring=\"r2\", verbose=1)"
   ]
  },
  {
   "cell_type": "code",
   "execution_count": 54,
   "metadata": {
    "collapsed": false
   },
   "outputs": [
    {
     "name": "stdout",
     "output_type": "stream",
     "text": [
      "Fitting 3 folds for each of 25 candidates, totalling 75 fits\n"
     ]
    },
    {
     "name": "stderr",
     "output_type": "stream",
     "text": [
      "[Parallel(n_jobs=1)]: Done  75 out of  75 | elapsed: 37.2min finished\n"
     ]
    },
    {
     "data": {
      "text/plain": [
       "GridSearchCV(cv=None, error_score='raise',\n",
       "       estimator=XGBRegressor(base_score=0.5, booster='gbtree', colsample_bylevel=1,\n",
       "       colsample_bytree=0.7, gamma=0, learning_rate=0.05, max_delta_step=0,\n",
       "       max_depth=7, min_child_weight=6, missing=None, n_estimators=100,\n",
       "       nthread=-1, objective='reg:linear', reg_alpha=0, reg_lambda=1,\n",
       "       scale_pos_weight=1, seed=42, silent=True, subsample=0.7),\n",
       "       fit_params={}, iid=True, n_jobs=1,\n",
       "       param_grid={'subsample': array([ 0.5,  0.6,  0.7,  0.8,  0.9]), 'colsample_bytree': array([ 0.5,  0.6,  0.7,  0.8,  0.9])},\n",
       "       pre_dispatch='2*n_jobs', refit=True, return_train_score=True,\n",
       "       scoring='r2', verbose=1)"
      ]
     },
     "execution_count": 54,
     "metadata": {},
     "output_type": "execute_result"
    }
   ],
   "source": [
    "gsearch4.fit(x_train.values, y_train.values)"
   ]
  },
  {
   "cell_type": "code",
   "execution_count": 55,
   "metadata": {
    "collapsed": false
   },
   "outputs": [
    {
     "name": "stdout",
     "output_type": "stream",
     "text": [
      "{'mean_fit_time': array([ 21.97196261,  22.55792165,  22.82459633,  21.99888261,\n",
      "        22.22140702,  25.26790325,  25.72357694,  25.84685032,\n",
      "        25.39442937,  24.98320524,  28.40661867,  29.47806629,\n",
      "        29.57766366,  29.06855226,  28.74974394,  32.99740299,\n",
      "        33.93686136,  32.69801434,  33.21947956,  33.254445  ,\n",
      "        36.5933876 ,  37.35075307,  37.35155725,  37.19543401,  36.50886933]), 'split1_train_score': array([ 0.80285941,  0.81573785,  0.82427744,  0.83262439,  0.83767667,\n",
      "        0.80436458,  0.81773754,  0.82874569,  0.83695997,  0.84032511,\n",
      "        0.80645391,  0.81876318,  0.83107344,  0.83783258,  0.84478245,\n",
      "        0.80947238,  0.820264  ,  0.83041896,  0.83815992,  0.84423326,\n",
      "        0.81129656,  0.82248296,  0.83095846,  0.83519809,  0.84571339]), 'param_colsample_bytree': masked_array(data = [0.5 0.5 0.5 0.5 0.5 0.59999999999999998 0.59999999999999998\n",
      " 0.59999999999999998 0.59999999999999998 0.59999999999999998\n",
      " 0.69999999999999996 0.69999999999999996 0.69999999999999996\n",
      " 0.69999999999999996 0.69999999999999996 0.79999999999999993\n",
      " 0.79999999999999993 0.79999999999999993 0.79999999999999993\n",
      " 0.79999999999999993 0.89999999999999991 0.89999999999999991\n",
      " 0.89999999999999991 0.89999999999999991 0.89999999999999991],\n",
      "             mask = [False False False False False False False False False False False False\n",
      " False False False False False False False False False False False False\n",
      " False],\n",
      "       fill_value = ?)\n",
      ", 'std_test_score': array([ 0.11322163,  0.0972665 ,  0.10792994,  0.09383125,  0.09988799,\n",
      "        0.12380951,  0.0947291 ,  0.10472924,  0.10557792,  0.13316617,\n",
      "        0.10409124,  0.10978099,  0.10119156,  0.11051819,  0.10488389,\n",
      "        0.09248377,  0.09940575,  0.08740566,  0.09603984,  0.09114049,\n",
      "        0.12133959,  0.09126171,  0.1116557 ,  0.099718  ,  0.11386891]), 'mean_score_time': array([ 0.11654568,  0.11720761,  0.12089769,  0.11871823,  0.12098273,\n",
      "        0.11073144,  0.1098357 ,  0.12178302,  0.12462473,  0.11448272,\n",
      "        0.10732404,  0.11081902,  0.11279265,  0.11801799,  0.11292434,\n",
      "        0.11179892,  0.11859298,  0.11156607,  0.10987306,  0.10922003,\n",
      "        0.10295804,  0.11244297,  0.11141276,  0.11324557,  0.11249169]), 'split1_test_score': array([ 0.66002967,  0.66506092,  0.65995153,  0.6636246 ,  0.66140996,\n",
      "        0.66533097,  0.66431454,  0.66208666,  0.65440724,  0.66416187,\n",
      "        0.65810299,  0.66504705,  0.66156557,  0.66766598,  0.66552802,\n",
      "        0.66680585,  0.66538018,  0.65965832,  0.66412887,  0.6671072 ,\n",
      "        0.6700523 ,  0.6684202 ,  0.66533318,  0.66222828,  0.66755502]), 'split2_test_score': array([ 0.68272453,  0.68514629,  0.68235405,  0.68270795,  0.68815656,\n",
      "        0.68144272,  0.68882791,  0.69152463,  0.68991783,  0.6870187 ,\n",
      "        0.67710564,  0.68302979,  0.68174745,  0.68961841,  0.68770587,\n",
      "        0.67743801,  0.67724035,  0.6819949 ,  0.68642719,  0.68683571,\n",
      "        0.68175261,  0.67308339,  0.67913951,  0.68228262,  0.68819644]), 'std_score_time': array([ 0.00515197,  0.00652802,  0.00477143,  0.00540393,  0.00491151,\n",
      "        0.00363181,  0.00350078,  0.0025169 ,  0.00899159,  0.00829351,\n",
      "        0.00275274,  0.00749222,  0.0037727 ,  0.00926194,  0.00351383,\n",
      "        0.00452341,  0.01088076,  0.00522775,  0.00287998,  0.00234877,\n",
      "        0.00174677,  0.00262562,  0.00947355,  0.00476022,  0.00193382]), 'param_subsample': masked_array(data = [0.5 0.59999999999999998 0.69999999999999996 0.79999999999999993\n",
      " 0.89999999999999991 0.5 0.59999999999999998 0.69999999999999996\n",
      " 0.79999999999999993 0.89999999999999991 0.5 0.59999999999999998\n",
      " 0.69999999999999996 0.79999999999999993 0.89999999999999991 0.5\n",
      " 0.59999999999999998 0.69999999999999996 0.79999999999999993\n",
      " 0.89999999999999991 0.5 0.59999999999999998 0.69999999999999996\n",
      " 0.79999999999999993 0.89999999999999991],\n",
      "             mask = [False False False False False False False False False False False False\n",
      " False False False False False False False False False False False False\n",
      " False],\n",
      "       fill_value = ?)\n",
      ", 'std_train_score': array([ 0.01608218,  0.01541611,  0.01424178,  0.01278714,  0.01099711,\n",
      "        0.01642833,  0.01456426,  0.01301148,  0.01245916,  0.01096433,\n",
      "        0.01633237,  0.01560868,  0.01352986,  0.01169069,  0.01041023,\n",
      "        0.01752066,  0.0152392 ,  0.01335559,  0.01175404,  0.01073932,\n",
      "        0.01679671,  0.01523964,  0.01451446,  0.01243783,  0.01109318]), 'split0_test_score': array([ 0.43200473,  0.46950595,  0.44302368,  0.47480863,  0.4641598 ,\n",
      "        0.41111996,  0.47674603,  0.4561101 ,  0.45032033,  0.3937984 ,\n",
      "        0.44740895,  0.44168061,  0.45771085,  0.44497125,  0.45495649,\n",
      "        0.47615183,  0.46069062,  0.48642404,  0.4724652 ,  0.48439083,\n",
      "        0.41870375,  0.47720014,  0.43568249,  0.46143709,  0.4369872 ]), 'std_fit_time': array([ 0.29769326,  0.50653333,  0.43687925,  0.60637034,  0.21317109,\n",
      "        0.53933105,  0.30759731,  0.82026782,  0.37673718,  0.70687718,\n",
      "        0.22072994,  0.38900328,  0.33355438,  0.14707755,  0.28969808,\n",
      "        0.45170022,  1.00115208,  0.62846533,  0.31933723,  0.74194885,\n",
      "        0.55090275,  0.49779446,  0.78971384,  0.47130468,  1.13094746]), 'split0_train_score': array([ 0.83297573,  0.84119577,  0.84919621,  0.85497107,  0.85770309,\n",
      "        0.83455996,  0.84338757,  0.85197403,  0.85788915,  0.85924956,\n",
      "        0.83503352,  0.84385019,  0.85174615,  0.85699613,  0.86033477,\n",
      "        0.83754721,  0.84459018,  0.85269769,  0.85672276,  0.86198947,\n",
      "        0.83640648,  0.84530127,  0.85466426,  0.85604464,  0.86197926]), 'params': ({'subsample': 0.5, 'colsample_bytree': 0.5}, {'subsample': 0.59999999999999998, 'colsample_bytree': 0.5}, {'subsample': 0.69999999999999996, 'colsample_bytree': 0.5}, {'subsample': 0.79999999999999993, 'colsample_bytree': 0.5}, {'subsample': 0.89999999999999991, 'colsample_bytree': 0.5}, {'subsample': 0.5, 'colsample_bytree': 0.59999999999999998}, {'subsample': 0.59999999999999998, 'colsample_bytree': 0.59999999999999998}, {'subsample': 0.69999999999999996, 'colsample_bytree': 0.59999999999999998}, {'subsample': 0.79999999999999993, 'colsample_bytree': 0.59999999999999998}, {'subsample': 0.89999999999999991, 'colsample_bytree': 0.59999999999999998}, {'subsample': 0.5, 'colsample_bytree': 0.69999999999999996}, {'subsample': 0.59999999999999998, 'colsample_bytree': 0.69999999999999996}, {'subsample': 0.69999999999999996, 'colsample_bytree': 0.69999999999999996}, {'subsample': 0.79999999999999993, 'colsample_bytree': 0.69999999999999996}, {'subsample': 0.89999999999999991, 'colsample_bytree': 0.69999999999999996}, {'subsample': 0.5, 'colsample_bytree': 0.79999999999999993}, {'subsample': 0.59999999999999998, 'colsample_bytree': 0.79999999999999993}, {'subsample': 0.69999999999999996, 'colsample_bytree': 0.79999999999999993}, {'subsample': 0.79999999999999993, 'colsample_bytree': 0.79999999999999993}, {'subsample': 0.89999999999999991, 'colsample_bytree': 0.79999999999999993}, {'subsample': 0.5, 'colsample_bytree': 0.89999999999999991}, {'subsample': 0.59999999999999998, 'colsample_bytree': 0.89999999999999991}, {'subsample': 0.69999999999999996, 'colsample_bytree': 0.89999999999999991}, {'subsample': 0.79999999999999993, 'colsample_bytree': 0.89999999999999991}, {'subsample': 0.89999999999999991, 'colsample_bytree': 0.89999999999999991}), 'mean_test_score': array([ 0.59158316,  0.60656833,  0.59510673,  0.60704444,  0.60457255,\n",
      "        0.58596125,  0.6099601 ,  0.60323741,  0.59821196,  0.58165601,\n",
      "        0.59420299,  0.59658283,  0.60033847,  0.60074881,  0.60272719,\n",
      "        0.60679612,  0.60110108,  0.60935657,  0.60767103,  0.61277535,\n",
      "        0.59016639,  0.60623226,  0.59338209,  0.60197988,  0.59757642]), 'rank_test_score': array([22,  7, 19,  5,  9, 24,  2, 10, 16, 25, 20, 18, 15, 14, 11,  6, 13,\n",
      "        3,  4,  1, 23,  8, 21, 12, 17], dtype=int32), 'mean_train_score': array([ 0.81058711,  0.82041575,  0.82968922,  0.83746204,  0.84248923,\n",
      "        0.81178341,  0.82340491,  0.83406015,  0.84101263,  0.84428609,\n",
      "        0.81266244,  0.82297789,  0.83393215,  0.84127167,  0.84672507,\n",
      "        0.81413943,  0.82425378,  0.83464283,  0.84108809,  0.84750843,\n",
      "        0.81444289,  0.82536371,  0.83516255,  0.83920771,  0.84756293]), 'split2_train_score': array([ 0.7959262 ,  0.80431364,  0.81559402,  0.82479066,  0.83208792,\n",
      "        0.79642568,  0.80908963,  0.82146074,  0.82818878,  0.83328361,\n",
      "        0.7964999 ,  0.80632029,  0.81897687,  0.82898629,  0.83505799,\n",
      "        0.7953987 ,  0.80790716,  0.82081185,  0.82838158,  0.83630256,\n",
      "        0.79562563,  0.80830689,  0.81986492,  0.82638039,  0.83499613])}\n",
      "0.612775350719\n",
      "{'subsample': 0.89999999999999991, 'colsample_bytree': 0.79999999999999993}\n"
     ]
    }
   ],
   "source": [
    "print(gsearch4.cv_results_)\n",
    "print(gsearch4.best_score_)\n",
    "print(gsearch4.best_params_)"
   ]
  },
  {
   "cell_type": "code",
   "execution_count": 56,
   "metadata": {
    "collapsed": true
   },
   "outputs": [],
   "source": [
    "xgb4 = XGBRegressor(learning_rate=0.05,\n",
    "                     max_depth=7,\n",
    "                     min_child_weight=6,\n",
    "                     gamma=0,\n",
    "                     subsample=0.9,\n",
    "                     colsample_bytree=0.8,\n",
    "                     objective=\"reg:linear\",\n",
    "                     seed=42)"
   ]
  },
  {
   "cell_type": "code",
   "execution_count": 57,
   "metadata": {
    "collapsed": true
   },
   "outputs": [],
   "source": [
    "param_test5 = {\n",
    "    \"learning_rate\": np.arange(0.01, 0.12, 0.02)\n",
    "}\n",
    "gsearch5 = GridSearchCV(estimator=xgb4, param_grid=param_test5, scoring=\"r2\", verbose=1)"
   ]
  },
  {
   "cell_type": "code",
   "execution_count": 58,
   "metadata": {
    "collapsed": false
   },
   "outputs": [
    {
     "name": "stdout",
     "output_type": "stream",
     "text": [
      "Fitting 3 folds for each of 6 candidates, totalling 18 fits\n"
     ]
    },
    {
     "name": "stderr",
     "output_type": "stream",
     "text": [
      "[Parallel(n_jobs=1)]: Done  18 out of  18 | elapsed:  9.8min finished\n"
     ]
    },
    {
     "data": {
      "text/plain": [
       "GridSearchCV(cv=None, error_score='raise',\n",
       "       estimator=XGBRegressor(base_score=0.5, booster='gbtree', colsample_bylevel=1,\n",
       "       colsample_bytree=0.8, gamma=0, learning_rate=0.05, max_delta_step=0,\n",
       "       max_depth=7, min_child_weight=6, missing=None, n_estimators=100,\n",
       "       nthread=-1, objective='reg:linear', reg_alpha=0, reg_lambda=1,\n",
       "       scale_pos_weight=1, seed=42, silent=True, subsample=0.9),\n",
       "       fit_params={}, iid=True, n_jobs=1,\n",
       "       param_grid={'learning_rate': array([ 0.01,  0.03,  0.05,  0.07,  0.09,  0.11])},\n",
       "       pre_dispatch='2*n_jobs', refit=True, return_train_score=True,\n",
       "       scoring='r2', verbose=1)"
      ]
     },
     "execution_count": 58,
     "metadata": {},
     "output_type": "execute_result"
    }
   ],
   "source": [
    "gsearch5.fit(x_train.values, y_train.values)"
   ]
  },
  {
   "cell_type": "code",
   "execution_count": 59,
   "metadata": {
    "collapsed": false
   },
   "outputs": [
    {
     "name": "stdout",
     "output_type": "stream",
     "text": [
      "{'mean_fit_time': array([ 34.23959025,  34.2434996 ,  31.95830027,  31.46197629,\n",
      "        31.30107164,  31.03376762]), 'split1_train_score': array([ 0.30940852,  0.80281028,  0.84423326,  0.86204105,  0.87536992,\n",
      "        0.88139915]), 'std_test_score': array([ 0.06727064,  0.07700247,  0.09114049,  0.10448471,  0.12765139,\n",
      "        0.10479015]), 'mean_score_time': array([ 0.10457738,  0.11623812,  0.11232471,  0.10873866,  0.10951837,\n",
      "        0.10567331]), 'split1_test_score': array([ 0.19489699,  0.64886758,  0.6671072 ,  0.65912031,  0.6649731 ,\n",
      "        0.65853678]), 'split2_test_score': array([ 0.18976284,  0.66537266,  0.68683571,  0.69682493,  0.69373271,\n",
      "        0.69153157]), 'std_score_time': array([ 0.00422106,  0.00333164,  0.00174697,  0.00452629,  0.00743915,\n",
      "        0.00196409]), 'std_train_score': array([ 0.00573531,  0.01381136,  0.01073932,  0.01087661,  0.00937434,\n",
      "        0.00840055]), 'split0_test_score': array([ 0.33496212,  0.49440077,  0.48439083,  0.4587464 ,  0.40971282,\n",
      "        0.45458589]), 'std_fit_time': array([ 0.45616947,  0.62075503,  0.4570077 ,  0.68920061,  0.43560633,\n",
      "        0.49929145]), 'split0_train_score': array([ 0.31884513,  0.82664354,  0.86198947,  0.8783966 ,  0.88542717,\n",
      "        0.89276111]), 'param_learning_rate': masked_array(data = [0.01 0.029999999999999999 0.049999999999999996 0.069999999999999993\n",
      " 0.089999999999999983 0.10999999999999997],\n",
      "             mask = [False False False False False False],\n",
      "       fill_value = ?)\n",
      ", 'params': ({'learning_rate': 0.01}, {'learning_rate': 0.029999999999999999}, {'learning_rate': 0.049999999999999996}, {'learning_rate': 0.069999999999999993}, {'learning_rate': 0.089999999999999983}, {'learning_rate': 0.10999999999999997}), 'mean_test_score': array([ 0.23987572,  0.60287817,  0.61277535,  0.60489403,  0.58946927,\n",
      "        0.6015483 ]), 'rank_test_score': array([6, 3, 1, 2, 5, 4], dtype=int32), 'mean_train_score': array([ 0.31112248,  0.80779571,  0.84750843,  0.86414772,  0.87443951,\n",
      "        0.88212768]), 'split2_train_score': array([ 0.30511378,  0.79393331,  0.83630256,  0.85200551,  0.86252145,\n",
      "        0.87222277])}\n",
      "0.612775350719\n",
      "{'learning_rate': 0.049999999999999996}\n"
     ]
    }
   ],
   "source": [
    "print(gsearch5.cv_results_)\n",
    "print(gsearch5.best_score_)\n",
    "print(gsearch5.best_params_)"
   ]
  },
  {
   "cell_type": "code",
   "execution_count": 60,
   "metadata": {
    "collapsed": true
   },
   "outputs": [],
   "source": [
    "param_test6 = {\n",
    "    \"learning_rate\": [0.04, 0.05, 0.06]\n",
    "}\n",
    "gsearch6 = GridSearchCV(estimator=xgb4, param_grid=param_test6, scoring=\"r2\", verbose=1)"
   ]
  },
  {
   "cell_type": "code",
   "execution_count": 61,
   "metadata": {
    "collapsed": false
   },
   "outputs": [
    {
     "name": "stdout",
     "output_type": "stream",
     "text": [
      "Fitting 3 folds for each of 3 candidates, totalling 9 fits\n"
     ]
    },
    {
     "name": "stderr",
     "output_type": "stream",
     "text": [
      "[Parallel(n_jobs=1)]: Done   9 out of   9 | elapsed:  5.0min finished\n"
     ]
    },
    {
     "data": {
      "text/plain": [
       "GridSearchCV(cv=None, error_score='raise',\n",
       "       estimator=XGBRegressor(base_score=0.5, booster='gbtree', colsample_bylevel=1,\n",
       "       colsample_bytree=0.8, gamma=0, learning_rate=0.05, max_delta_step=0,\n",
       "       max_depth=7, min_child_weight=6, missing=None, n_estimators=100,\n",
       "       nthread=-1, objective='reg:linear', reg_alpha=0, reg_lambda=1,\n",
       "       scale_pos_weight=1, seed=42, silent=True, subsample=0.9),\n",
       "       fit_params={}, iid=True, n_jobs=1,\n",
       "       param_grid={'learning_rate': [0.04, 0.05, 0.06]},\n",
       "       pre_dispatch='2*n_jobs', refit=True, return_train_score=True,\n",
       "       scoring='r2', verbose=1)"
      ]
     },
     "execution_count": 61,
     "metadata": {},
     "output_type": "execute_result"
    }
   ],
   "source": [
    "gsearch6.fit(x_train.values, y_train.values)"
   ]
  },
  {
   "cell_type": "code",
   "execution_count": 62,
   "metadata": {
    "collapsed": false
   },
   "outputs": [
    {
     "name": "stdout",
     "output_type": "stream",
     "text": [
      "{'mean_fit_time': array([ 33.27052132,  33.16510908,  31.805921  ]), 'split1_train_score': array([ 0.82878414,  0.84423326,  0.85414104]), 'std_test_score': array([ 0.0895207 ,  0.09114049,  0.10798384]), 'mean_score_time': array([ 0.1187044 ,  0.10999537,  0.11767554]), 'split1_test_score': array([ 0.66483569,  0.6671072 ,  0.66251147]), 'split2_test_score': array([ 0.67581682,  0.68683571,  0.6920061 ]), 'std_score_time': array([ 0.00586206,  0.00478827,  0.00750173]), 'std_train_score': array([ 0.01207467,  0.01073932,  0.01089907]), 'split0_test_score': array([ 0.4806638 ,  0.48439083,  0.44962024]), 'std_fit_time': array([ 0.47589441,  1.45608282,  0.55955369]), 'split0_train_score': array([ 0.84990347,  0.86198947,  0.86991835]), 'param_learning_rate': masked_array(data = [0.04 0.05 0.06],\n",
      "             mask = [False False False],\n",
      "       fill_value = ?)\n",
      ", 'params': ({'learning_rate': 0.04}, {'learning_rate': 0.05}, {'learning_rate': 0.06}), 'mean_test_score': array([ 0.60710306,  0.61277535,  0.60137613]), 'rank_test_score': array([2, 1, 3], dtype=int32), 'mean_train_score': array([ 0.83336634,  0.84750843,  0.85581268]), 'split2_train_score': array([ 0.82141142,  0.83630256,  0.84337866])}\n",
      "0.612775350719\n",
      "{'learning_rate': 0.05}\n"
     ]
    }
   ],
   "source": [
    "print(gsearch6.cv_results_)\n",
    "print(gsearch6.best_score_)\n",
    "print(gsearch6.best_params_)"
   ]
  },
  {
   "cell_type": "code",
   "execution_count": 63,
   "metadata": {
    "collapsed": true
   },
   "outputs": [],
   "source": [
    "xgb5 = XGBRegressor(learning_rate=0.05,\n",
    "                     max_depth=7,\n",
    "                     min_child_weight=6,\n",
    "                     gamma=0,\n",
    "                     subsample=0.9,\n",
    "                     colsample_bytree=0.8,\n",
    "                     objective=\"reg:linear\",\n",
    "                     reg_alpha=0,\n",
    "                     seed=42)"
   ]
  },
  {
   "cell_type": "code",
   "execution_count": 64,
   "metadata": {
    "collapsed": true
   },
   "outputs": [],
   "source": [
    "param_test7 = {\n",
    "    \"reg_alpha\": np.arange(0.01, 0.11, 0.02)\n",
    "}\n",
    "gsearch7 = GridSearchCV(estimator=xgb5, param_grid=param_test7, scoring=\"r2\", verbose=1)"
   ]
  },
  {
   "cell_type": "code",
   "execution_count": 65,
   "metadata": {
    "collapsed": false
   },
   "outputs": [
    {
     "name": "stdout",
     "output_type": "stream",
     "text": [
      "Fitting 3 folds for each of 5 candidates, totalling 15 fits\n"
     ]
    },
    {
     "name": "stderr",
     "output_type": "stream",
     "text": [
      "[Parallel(n_jobs=1)]: Done  15 out of  15 | elapsed:  8.5min finished\n"
     ]
    },
    {
     "data": {
      "text/plain": [
       "GridSearchCV(cv=None, error_score='raise',\n",
       "       estimator=XGBRegressor(base_score=0.5, booster='gbtree', colsample_bylevel=1,\n",
       "       colsample_bytree=0.8, gamma=0, learning_rate=0.05, max_delta_step=0,\n",
       "       max_depth=7, min_child_weight=6, missing=None, n_estimators=100,\n",
       "       nthread=-1, objective='reg:linear', reg_alpha=0, reg_lambda=1,\n",
       "       scale_pos_weight=1, seed=42, silent=True, subsample=0.9),\n",
       "       fit_params={}, iid=True, n_jobs=1,\n",
       "       param_grid={'reg_alpha': array([ 0.01,  0.03,  0.05,  0.07,  0.09])},\n",
       "       pre_dispatch='2*n_jobs', refit=True, return_train_score=True,\n",
       "       scoring='r2', verbose=1)"
      ]
     },
     "execution_count": 65,
     "metadata": {},
     "output_type": "execute_result"
    }
   ],
   "source": [
    "gsearch7.fit(x_train.values, y_train.values)"
   ]
  },
  {
   "cell_type": "code",
   "execution_count": 66,
   "metadata": {
    "collapsed": false
   },
   "outputs": [
    {
     "name": "stdout",
     "output_type": "stream",
     "text": [
      "{'mean_fit_time': array([ 33.35795204,  33.54191502,  33.4405396 ,  33.59721828,  33.59879231]), 'split1_train_score': array([ 0.84423326,  0.84423326,  0.84423326,  0.84423326,  0.84423326]), 'std_test_score': array([ 0.09114049,  0.09114049,  0.09114049,  0.09114049,  0.09114049]), 'mean_score_time': array([ 0.10843492,  0.10982132,  0.11626943,  0.10852631,  0.10972071]), 'split1_test_score': array([ 0.6671072,  0.6671072,  0.6671072,  0.6671072,  0.6671072]), 'split2_test_score': array([ 0.68683571,  0.68683571,  0.68683571,  0.68683571,  0.68683571]), 'std_score_time': array([ 0.0017089 ,  0.00453805,  0.00562956,  0.00307045,  0.00395006]), 'std_train_score': array([ 0.01073932,  0.01073932,  0.01073932,  0.01073932,  0.01073932]), 'split0_test_score': array([ 0.48439082,  0.48439082,  0.48439082,  0.48439082,  0.48439082]), 'std_fit_time': array([ 0.76139841,  0.77667015,  0.46750333,  1.28307987,  1.01757436]), 'split0_train_score': array([ 0.86198947,  0.86198947,  0.86198947,  0.86198947,  0.86198947]), 'params': ({'reg_alpha': 0.01}, {'reg_alpha': 0.029999999999999999}, {'reg_alpha': 0.049999999999999996}, {'reg_alpha': 0.069999999999999993}, {'reg_alpha': 0.089999999999999983}), 'param_reg_alpha': masked_array(data = [0.01 0.029999999999999999 0.049999999999999996 0.069999999999999993\n",
      " 0.089999999999999983],\n",
      "             mask = [False False False False False],\n",
      "       fill_value = ?)\n",
      ", 'mean_test_score': array([ 0.61277535,  0.61277535,  0.61277535,  0.61277535,  0.61277535]), 'rank_test_score': array([1, 1, 3, 4, 5], dtype=int32), 'mean_train_score': array([ 0.84750843,  0.84750843,  0.84750843,  0.84750843,  0.84750843]), 'split2_train_score': array([ 0.83630256,  0.83630256,  0.83630256,  0.83630256,  0.83630256])}\n",
      "0.612775349564\n",
      "{'reg_alpha': 0.01}\n"
     ]
    }
   ],
   "source": [
    "print(gsearch7.cv_results_)\n",
    "print(gsearch7.best_score_)\n",
    "print(gsearch7.best_params_)"
   ]
  },
  {
   "cell_type": "code",
   "execution_count": null,
   "metadata": {
    "collapsed": true
   },
   "outputs": [],
   "source": [
    "xgb6 = XGBRegressor(learning_rate=0.05,\n",
    "                     max_depth=7,\n",
    "                     min_child_weight=6,\n",
    "                     gamma=0,\n",
    "                     subsample=0.9,\n",
    "                     colsample_bytree=0.8,\n",
    "                     objective=\"reg:linear\",\n",
    "                     reg_alpha=0.01,\n",
    "                     seed=42)"
   ]
  },
  {
   "cell_type": "code",
   "execution_count": null,
   "metadata": {
    "collapsed": true
   },
   "outputs": [],
   "source": []
  },
  {
   "cell_type": "code",
   "execution_count": null,
   "metadata": {
    "collapsed": true
   },
   "outputs": [],
   "source": []
  },
  {
   "cell_type": "code",
   "execution_count": null,
   "metadata": {
    "collapsed": true
   },
   "outputs": [],
   "source": []
  },
  {
   "cell_type": "code",
   "execution_count": null,
   "metadata": {
    "collapsed": true
   },
   "outputs": [],
   "source": []
  },
  {
   "cell_type": "markdown",
   "metadata": {
    "collapsed": true
   },
   "source": [
    "### To-Do\n",
    "- Learning rate 0.01 - 0.2\n",
    "- Subsample 0.5 - 1\n",
    "- colsample_bytree\" 0.5 - 1\n",
    "- Seed"
   ]
  },
  {
   "cell_type": "code",
   "execution_count": 15,
   "metadata": {
    "collapsed": false
   },
   "outputs": [
    {
     "data": {
      "text/plain": [
       "[3, 5, 7, 9]"
      ]
     },
     "execution_count": 15,
     "metadata": {},
     "output_type": "execute_result"
    }
   ],
   "source": [
    "list(range(3,10,2))"
   ]
  },
  {
   "cell_type": "code",
   "execution_count": null,
   "metadata": {
    "collapsed": true
   },
   "outputs": [],
   "source": []
  }
 ],
 "metadata": {
  "kernelspec": {
   "display_name": "Python 3",
   "language": "python",
   "name": "python3"
  },
  "language_info": {
   "codemirror_mode": {
    "name": "ipython",
    "version": 3
   },
   "file_extension": ".py",
   "mimetype": "text/x-python",
   "name": "python",
   "nbconvert_exporter": "python",
   "pygments_lexer": "ipython3",
   "version": "3.5.2"
  },
  "widgets": {
   "state": {},
   "version": "1.1.2"
  }
 },
 "nbformat": 4,
 "nbformat_minor": 2
}
