{
 "cells": [
  {
   "cell_type": "code",
   "execution_count": 145,
   "metadata": {
    "collapsed": false
   },
   "outputs": [],
   "source": [
    "import numpy as np\n",
    "np.random.seed(42)\n",
    "import tensorflow as tf\n",
    "tf.set_random_seed(42)\n",
    "\n",
    "import pandas as pd\n",
    "from sklearn import preprocessing\n",
    "from keras.models import Sequential\n",
    "from keras.layers import Dense, Activation, Dropout, Merge\n",
    "from keras.callbacks import EarlyStopping\n",
    "from keras import backend as K\n",
    "import matplotlib.pyplot as plt\n",
    "plt.style.use(\"ggplot\")\n",
    "%matplotlib inline"
   ]
  },
  {
   "cell_type": "code",
   "execution_count": 146,
   "metadata": {
    "collapsed": true
   },
   "outputs": [],
   "source": [
    "train = pd.read_csv(\"data/train.csv\", parse_dates=[\"timestamp\"])\n",
    "test = pd.read_csv(\"data/test.csv\", parse_dates=[\"timestamp\"])\n",
    "macro = pd.read_csv(\"data/macro.csv\", parse_dates=[\"timestamp\"])"
   ]
  },
  {
   "cell_type": "code",
   "execution_count": 147,
   "metadata": {
    "collapsed": true
   },
   "outputs": [],
   "source": [
    "y_train = train[\"price_doc\"]\n",
    "x_train = train.drop([\"timestamp\", \"price_doc\", \"id\"], axis=1)"
   ]
  },
  {
   "cell_type": "code",
   "execution_count": 148,
   "metadata": {
    "collapsed": true
   },
   "outputs": [],
   "source": [
    "# transform non-numerical variables\n",
    "for c in x_train.columns:\n",
    "    if x_train[c].dtype == \"object\":\n",
    "        lbl = preprocessing.LabelEncoder()\n",
    "        lbl.fit(list(x_train[c].values)) \n",
    "        x_train[c] = lbl.transform(list(x_train[c].values))\n",
    "\n",
    "# replace missing values with mean values\n",
    "for c in x_train.columns:\n",
    "    x_train[c].fillna(x_train[c].mean(), inplace=True)"
   ]
  },
  {
   "cell_type": "code",
   "execution_count": 149,
   "metadata": {
    "collapsed": true
   },
   "outputs": [],
   "source": [
    "x_test = test.drop([\"timestamp\", \"id\"], axis=1)\n",
    "\n",
    "# transform non-numerical variables\n",
    "for c in x_test.columns:\n",
    "    if x_test[c].dtype == \"object\":\n",
    "        lbl = preprocessing.LabelEncoder()\n",
    "        lbl.fit(list(x_test[c].values)) \n",
    "        x_test[c] = lbl.transform(list(x_test[c].values))\n",
    "        \n",
    "# replace missing values with mean values\n",
    "for c in x_test.columns:\n",
    "    x_test[c].fillna(x_test[c].mean(), inplace=True)"
   ]
  },
  {
   "cell_type": "code",
   "execution_count": 150,
   "metadata": {
    "collapsed": true
   },
   "outputs": [],
   "source": [
    "# join macro with traindata\n",
    "train_macro = pd.merge(train, macro, how=\"left\", on=\"timestamp\")\n",
    "test_macro = pd.merge(test, macro, how=\"left\", on=\"timestamp\")"
   ]
  },
  {
   "cell_type": "code",
   "execution_count": 151,
   "metadata": {
    "collapsed": false
   },
   "outputs": [],
   "source": [
    "# add price to macro data and filter out\n",
    "test_macro = test_macro[np.append(macro.columns.values, \"id\")].copy()"
   ]
  },
  {
   "cell_type": "code",
   "execution_count": 152,
   "metadata": {
    "collapsed": false
   },
   "outputs": [],
   "source": [
    "# remove columns that are completly null\n",
    "test_macro.dropna(axis=1, how=\"all\", inplace=True)"
   ]
  },
  {
   "cell_type": "code",
   "execution_count": 153,
   "metadata": {
    "collapsed": false
   },
   "outputs": [
    {
     "data": {
      "text/plain": [
       "(7662, 61)"
      ]
     },
     "execution_count": 153,
     "metadata": {},
     "output_type": "execute_result"
    }
   ],
   "source": [
    "test_macro.shape"
   ]
  },
  {
   "cell_type": "code",
   "execution_count": 154,
   "metadata": {
    "collapsed": false
   },
   "outputs": [],
   "source": [
    "train_macro = train_macro[np.append(test_macro.columns.values, \"price_doc\")]"
   ]
  },
  {
   "cell_type": "code",
   "execution_count": 155,
   "metadata": {
    "collapsed": false
   },
   "outputs": [
    {
     "data": {
      "text/plain": [
       "(30471, 62)"
      ]
     },
     "execution_count": 155,
     "metadata": {},
     "output_type": "execute_result"
    }
   ],
   "source": [
    "train_macro.shape"
   ]
  },
  {
   "cell_type": "code",
   "execution_count": 94,
   "metadata": {
    "collapsed": false
   },
   "outputs": [],
   "source": [
    "y_train_macro = train_macro[\"price_doc\"]\n",
    "x_train_macro = train_macro.drop([\"timestamp\", \"price_doc\"], axis=1)\n",
    "\n",
    "# transform non-numerical variables\n",
    "for c in x_train_macro.columns:\n",
    "    if x_train_macro[c].dtype == \"object\":\n",
    "        lbl = preprocessing.LabelEncoder()\n",
    "        lbl.fit(list(x_train_macro[c].values)) \n",
    "        x_train_macro[c] = lbl.transform(list(x_train_macro[c].values))\n",
    "        \n",
    "# replace missing values with mean values\n",
    "for c in x_train_macro.columns:\n",
    "    x_train_macro[c].fillna(x_train_macro[c].mean(), inplace=True)"
   ]
  },
  {
   "cell_type": "code",
   "execution_count": 95,
   "metadata": {
    "collapsed": false
   },
   "outputs": [],
   "source": [
    "x_test_macro = test_macro.drop([\"timestamp\"], axis=1)\n",
    "\n",
    "# transform non-numerical variables\n",
    "for c in x_test_macro.columns:\n",
    "    if x_test_macro[c].dtype == \"object\":\n",
    "        lbl = preprocessing.LabelEncoder()\n",
    "        lbl.fit(list(x_test_macro[c].values)) \n",
    "        x_test_macro[c] = lbl.transform(list(x_test_macro[c].values))\n",
    "        \n",
    "# replace missing values with mean values\n",
    "for c in x_test_macro.columns:\n",
    "    x_test_macro[c].fillna(x_test_macro[c].mean(), inplace=True)"
   ]
  },
  {
   "cell_type": "code",
   "execution_count": 98,
   "metadata": {
    "collapsed": false
   },
   "outputs": [],
   "source": [
    "# reset index\n",
    "x_train_macro.set_index(\"id\", inplace=True)\n",
    "x_test_macro.set_index(\"id\", inplace=True)"
   ]
  },
  {
   "cell_type": "markdown",
   "metadata": {
    "collapsed": true
   },
   "source": [
    "### Modeling"
   ]
  },
  {
   "cell_type": "code",
   "execution_count": 100,
   "metadata": {
    "collapsed": true
   },
   "outputs": [],
   "source": [
    "def rmse(y_true, y_pred):\n",
    "    return K.mean(K.square(y_pred - y_true), axis=-1)**(1/2)\n",
    "\n",
    "def rmsle(y_true, y_pred):\n",
    "    a = K.log(y_pred + 1)\n",
    "    b = K.log(y_true + 1)\n",
    "    return K.mean(K.square(a - b), axis=-1)**(1/2)"
   ]
  },
  {
   "cell_type": "code",
   "execution_count": 104,
   "metadata": {
    "collapsed": false
   },
   "outputs": [
    {
     "name": "stdout",
     "output_type": "stream",
     "text": [
      "____________________________________________________________________________________________________\n",
      "Layer (type)                     Output Shape          Param #     Connected to                     \n",
      "====================================================================================================\n",
      "input_5 (InputLayer)             (None, 290)           0                                            \n",
      "____________________________________________________________________________________________________\n",
      "input_6 (InputLayer)             (None, 59)            0                                            \n",
      "____________________________________________________________________________________________________\n",
      "dense_25 (Dense)                 (None, 1024)          297984      input_5[0][0]                    \n",
      "____________________________________________________________________________________________________\n",
      "dense_31 (Dense)                 (None, 256)           15360       input_6[0][0]                    \n",
      "____________________________________________________________________________________________________\n",
      "dense_26 (Dense)                 (None, 512)           524800      dense_25[0][0]                   \n",
      "____________________________________________________________________________________________________\n",
      "dense_32 (Dense)                 (None, 192)           49344       dense_31[0][0]                   \n",
      "____________________________________________________________________________________________________\n",
      "dense_27 (Dense)                 (None, 256)           131328      dense_26[0][0]                   \n",
      "____________________________________________________________________________________________________\n",
      "dense_33 (Dense)                 (None, 128)           24704       dense_32[0][0]                   \n",
      "____________________________________________________________________________________________________\n",
      "dense_28 (Dense)                 (None, 128)           32896       dense_27[0][0]                   \n",
      "____________________________________________________________________________________________________\n",
      "dense_34 (Dense)                 (None, 64)            8256        dense_33[0][0]                   \n",
      "____________________________________________________________________________________________________\n",
      "dropout_5 (Dropout)              (None, 128)           0           dense_28[0][0]                   \n",
      "____________________________________________________________________________________________________\n",
      "dropout_6 (Dropout)              (None, 64)            0           dense_34[0][0]                   \n",
      "____________________________________________________________________________________________________\n",
      "dense_29 (Dense)                 (None, 64)            8256        dropout_5[0][0]                  \n",
      "____________________________________________________________________________________________________\n",
      "dense_35 (Dense)                 (None, 32)            2080        dropout_6[0][0]                  \n",
      "____________________________________________________________________________________________________\n",
      "dense_30 (Dense)                 (None, 1)             65          dense_29[0][0]                   \n",
      "____________________________________________________________________________________________________\n",
      "dense_36 (Dense)                 (None, 1)             33          dense_35[0][0]                   \n",
      "____________________________________________________________________________________________________\n",
      "average_3 (Average)              (None, 1)             0           dense_30[0][0]                   \n",
      "                                                                   dense_36[0][0]                   \n",
      "====================================================================================================\n",
      "Total params: 1,095,106\n",
      "Trainable params: 1,095,106\n",
      "Non-trainable params: 0\n",
      "____________________________________________________________________________________________________\n"
     ]
    }
   ],
   "source": [
    "from keras.models import Model\n",
    "from keras.layers import Dense, Input, concatenate, average\n",
    "from keras.optimizers import Adam\n",
    "\n",
    "a_input = Input(shape=(x_train.shape[1], ))\n",
    "a_1 = Dense(1024, activation=\"sigmoid\")(a_input)\n",
    "a_2 = Dense(512, activation=\"sigmoid\")(a_1)\n",
    "a_3 = Dense(256, activation=\"sigmoid\")(a_2)\n",
    "a_4 = Dense(128, activation=\"sigmoid\")(a_3)\n",
    "a_5 = Dropout(0.5)(a_4)\n",
    "a_6 = Dense(64, activation=\"sigmoid\")(a_5)\n",
    "a_7 = Dense(1, activation=\"linear\")(a_6)\n",
    "\n",
    "b_input = Input(shape=(x_train_macro.shape[1], ))\n",
    "b_1 = Dense(256, activation=\"sigmoid\")(b_input)\n",
    "b_2 = Dense(192, activation=\"sigmoid\")(b_1)\n",
    "b_3 = Dense(128, activation=\"sigmoid\")(b_2)\n",
    "b_4 = Dense(64, activation=\"sigmoid\")(b_3)\n",
    "b_5 = Dropout(0.5)(b_4)\n",
    "b_6 = Dense(32, activation=\"sigmoid\")(b_5)\n",
    "b_7 = Dense(1, activation=\"linear\")(b_6)\n",
    "\n",
    "merge_output = average([a_7, b_7])\n",
    "\n",
    "adam = Adam(lr=0.001, beta_1=0.9, beta_2=0.999, epsilon=1e-08, decay=0.0)\n",
    "\n",
    "model = Model(inputs=[a_input, b_input], outputs=merge_output)\n",
    "model.compile(optimizer=adam, loss=rmsle)\n",
    "model.summary()"
   ]
  },
  {
   "cell_type": "code",
   "execution_count": 124,
   "metadata": {
    "collapsed": false
   },
   "outputs": [
    {
     "name": "stdout",
     "output_type": "stream",
     "text": [
      "Train on 30166 samples, validate on 305 samples\n",
      "Epoch 1/20\n",
      "30166/30166 [==============================] - 9s - loss: 8.9363 - val_loss: 9.0371\n",
      "Epoch 2/20\n",
      "30166/30166 [==============================] - 9s - loss: 8.8970 - val_loss: 8.9981\n",
      "Epoch 3/20\n",
      "30166/30166 [==============================] - 10s - loss: 8.8571 - val_loss: 8.9555\n",
      "Epoch 4/20\n",
      "30166/30166 [==============================] - 11s - loss: 8.8131 - val_loss: 8.9132\n",
      "Epoch 5/20\n",
      "30166/30166 [==============================] - 11s - loss: 8.7730 - val_loss: 8.8741\n",
      "Epoch 6/20\n",
      "30166/30166 [==============================] - 11s - loss: 8.7346 - val_loss: 8.8367\n",
      "Epoch 7/20\n",
      "30166/30166 [==============================] - 12s - loss: 8.6973 - val_loss: 8.7998\n",
      "Epoch 8/20\n",
      "30166/30166 [==============================] - 16s - loss: 8.6608 - val_loss: 8.7629\n",
      "Epoch 9/20\n",
      "30166/30166 [==============================] - 13s - loss: 8.6239 - val_loss: 8.7264\n",
      "Epoch 10/20\n",
      "30166/30166 [==============================] - 12s - loss: 8.5876 - val_loss: 8.6903\n",
      "Epoch 11/20\n",
      "30166/30166 [==============================] - 11s - loss: 8.5524 - val_loss: 8.6557\n",
      "Epoch 12/20\n",
      "30166/30166 [==============================] - 13s - loss: 8.5180 - val_loss: 8.6215\n",
      "Epoch 13/20\n",
      "30166/30166 [==============================] - 12s - loss: 8.4834 - val_loss: 8.5870\n",
      "Epoch 14/20\n",
      "30166/30166 [==============================] - 13s - loss: 8.4494 - val_loss: 8.5536\n",
      "Epoch 15/20\n",
      "30166/30166 [==============================] - 11s - loss: 8.4159 - val_loss: 8.5197\n",
      "Epoch 16/20\n",
      "30166/30166 [==============================] - 11s - loss: 8.3823 - val_loss: 8.4864\n",
      "Epoch 17/20\n",
      "30166/30166 [==============================] - 11s - loss: 8.3497 - val_loss: 8.4544\n",
      "Epoch 18/20\n",
      "30166/30166 [==============================] - 12s - loss: 8.3183 - val_loss: 8.4238\n",
      "Epoch 19/20\n",
      "30166/30166 [==============================] - 12s - loss: 8.2882 - val_loss: 8.3941\n",
      "Epoch 20/20\n",
      "30166/30166 [==============================] - 12s - loss: 8.2590 - val_loss: 8.3653\n"
     ]
    },
    {
     "data": {
      "text/plain": [
       "<keras.callbacks.History at 0x1295a1c50>"
      ]
     },
     "execution_count": 124,
     "metadata": {},
     "output_type": "execute_result"
    }
   ],
   "source": [
    "early_stop = EarlyStopping(monitor=\"val_loss\", patience=10)\n",
    "model.fit([preprocessing.normalize(x_train.values), preprocessing.normalize(x_train_macro.values)], y_train.values, epochs=20, validation_split=0.01, callbacks=[early_stop], verbose=1)"
   ]
  },
  {
   "cell_type": "code",
   "execution_count": 125,
   "metadata": {
    "collapsed": false
   },
   "outputs": [
    {
     "data": {
      "text/plain": [
       "array([[ 1576.546875],\n",
       "       [ 1576.546875],\n",
       "       [ 1576.546875],\n",
       "       ..., \n",
       "       [ 1576.546875],\n",
       "       [ 1576.546875],\n",
       "       [ 1576.546875]], dtype=float32)"
      ]
     },
     "execution_count": 125,
     "metadata": {},
     "output_type": "execute_result"
    }
   ],
   "source": [
    "model.predict([x_train.values, x_train_macro.values])"
   ]
  },
  {
   "cell_type": "code",
   "execution_count": 135,
   "metadata": {
    "collapsed": false
   },
   "outputs": [
    {
     "ename": "AssertionError",
     "evalue": "",
     "output_type": "error",
     "traceback": [
      "\u001b[0;31m---------------------------------------------------------------------------\u001b[0m",
      "\u001b[0;31mAssertionError\u001b[0m                            Traceback (most recent call last)",
      "\u001b[0;32m<ipython-input-135-a174714cc486>\u001b[0m in \u001b[0;36m<module>\u001b[0;34m()\u001b[0m\n\u001b[0;32m----> 1\u001b[0;31m \u001b[0;32massert\u001b[0m \u001b[0;36m1\u001b[0m\u001b[0;34m==\u001b[0m\u001b[0;36m2\u001b[0m\u001b[0;34m\u001b[0m\u001b[0m\n\u001b[0m",
      "\u001b[0;31mAssertionError\u001b[0m: "
     ]
    }
   ],
   "source": [
    "assert 1==2"
   ]
  },
  {
   "cell_type": "code",
   "execution_count": null,
   "metadata": {
    "collapsed": true
   },
   "outputs": [],
   "source": []
  }
 ],
 "metadata": {
  "kernelspec": {
   "display_name": "Python 3",
   "language": "python",
   "name": "python3"
  },
  "language_info": {
   "codemirror_mode": {
    "name": "ipython",
    "version": 3
   },
   "file_extension": ".py",
   "mimetype": "text/x-python",
   "name": "python",
   "nbconvert_exporter": "python",
   "pygments_lexer": "ipython3",
   "version": "3.5.2"
  },
  "widgets": {
   "state": {},
   "version": "1.1.2"
  }
 },
 "nbformat": 4,
 "nbformat_minor": 2
}
