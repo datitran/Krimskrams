{
 "cells": [
  {
   "cell_type": "markdown",
   "metadata": {},
   "source": [
    "#### Imports"
   ]
  },
  {
   "cell_type": "code",
   "execution_count": 1,
   "metadata": {
    "collapsed": true
   },
   "outputs": [],
   "source": [
    "import os\n",
    "import sys"
   ]
  },
  {
   "cell_type": "code",
   "execution_count": 2,
   "metadata": {
    "collapsed": true
   },
   "outputs": [],
   "source": [
    "# load PySpark\n",
    "try:\n",
    "    # Append PySpark to PYTHONPATH / Spark 2.1.0\n",
    "    sys.path.append(os.path.join(os.environ[\"SPARK_HOME\"], \"python\"))\n",
    "    sys.path.append(os.path.join(os.environ[\"SPARK_HOME\"], \"python\", \"lib\",\n",
    "                                 \"py4j-0.10.4-src.zip\"))\n",
    "except KeyError as e:\n",
    "    print(\"SPARK_HOME is not set\", e)\n",
    "    sys.exit(1)"
   ]
  },
  {
   "cell_type": "code",
   "execution_count": 3,
   "metadata": {
    "collapsed": true
   },
   "outputs": [],
   "source": [
    "import pickle\n",
    "import pandas as pd\n",
    "import numpy as np\n",
    "import sklearn as skl\n",
    "from pyspark import SparkConf\n",
    "from pyspark.sql import SparkSession\n",
    "from sklearn.linear_model import LogisticRegression\n",
    "from sklearn.model_selection import StratifiedKFold\n",
    "from sklearn.metrics import accuracy_score, precision_score, recall_score"
   ]
  },
  {
   "cell_type": "code",
   "execution_count": 4,
   "metadata": {
    "collapsed": false
   },
   "outputs": [
    {
     "name": "stdout",
     "output_type": "stream",
     "text": [
      "scikit-learn: 0.18.1\n",
      "pandas: 0.19.1\n",
      "numpy: 1.11.2\n"
     ]
    }
   ],
   "source": [
    "print(\"scikit-learn: {}\".format(skl.__version__))\n",
    "print(\"pandas: {}\".format(pd.__version__))\n",
    "print(\"numpy: {}\".format(np.__version__))"
   ]
  },
  {
   "cell_type": "markdown",
   "metadata": {},
   "source": [
    "---"
   ]
  },
  {
   "cell_type": "code",
   "execution_count": 5,
   "metadata": {
    "collapsed": true
   },
   "outputs": [],
   "source": [
    "# load data\n",
    "train_data = pd.read_csv(\"data/titanic_dataset_train.csv\")"
   ]
  },
  {
   "cell_type": "code",
   "execution_count": 6,
   "metadata": {
    "collapsed": false
   },
   "outputs": [
    {
     "data": {
      "text/plain": [
       "Sex     Survived\n",
       "female  1           233\n",
       "        0            81\n",
       "male    0           468\n",
       "        1           109\n",
       "Name: Survived, dtype: int64"
      ]
     },
     "execution_count": 6,
     "metadata": {},
     "output_type": "execute_result"
    }
   ],
   "source": [
    "train_data.groupby(\"Sex\")[\"Survived\"].value_counts()"
   ]
  },
  {
   "cell_type": "code",
   "execution_count": 7,
   "metadata": {
    "collapsed": false
   },
   "outputs": [
    {
     "data": {
      "text/html": [
       "<div>\n",
       "<table border=\"1\" class=\"dataframe\">\n",
       "  <thead>\n",
       "    <tr style=\"text-align: right;\">\n",
       "      <th></th>\n",
       "      <th>PassengerId</th>\n",
       "      <th>Survived</th>\n",
       "      <th>Pclass</th>\n",
       "      <th>Name</th>\n",
       "      <th>Sex</th>\n",
       "      <th>Age</th>\n",
       "      <th>SibSp</th>\n",
       "      <th>Parch</th>\n",
       "      <th>Ticket</th>\n",
       "      <th>Fare</th>\n",
       "      <th>Cabin</th>\n",
       "      <th>Embarked</th>\n",
       "    </tr>\n",
       "  </thead>\n",
       "  <tbody>\n",
       "    <tr>\n",
       "      <th>0</th>\n",
       "      <td>1</td>\n",
       "      <td>0</td>\n",
       "      <td>3</td>\n",
       "      <td>Braund, Mr. Owen Harris</td>\n",
       "      <td>male</td>\n",
       "      <td>22.0</td>\n",
       "      <td>1</td>\n",
       "      <td>0</td>\n",
       "      <td>A/5 21171</td>\n",
       "      <td>7.2500</td>\n",
       "      <td>NaN</td>\n",
       "      <td>S</td>\n",
       "    </tr>\n",
       "    <tr>\n",
       "      <th>1</th>\n",
       "      <td>2</td>\n",
       "      <td>1</td>\n",
       "      <td>1</td>\n",
       "      <td>Cumings, Mrs. John Bradley (Florence Briggs Th...</td>\n",
       "      <td>female</td>\n",
       "      <td>38.0</td>\n",
       "      <td>1</td>\n",
       "      <td>0</td>\n",
       "      <td>PC 17599</td>\n",
       "      <td>71.2833</td>\n",
       "      <td>C85</td>\n",
       "      <td>C</td>\n",
       "    </tr>\n",
       "    <tr>\n",
       "      <th>2</th>\n",
       "      <td>3</td>\n",
       "      <td>1</td>\n",
       "      <td>3</td>\n",
       "      <td>Heikkinen, Miss. Laina</td>\n",
       "      <td>female</td>\n",
       "      <td>26.0</td>\n",
       "      <td>0</td>\n",
       "      <td>0</td>\n",
       "      <td>STON/O2. 3101282</td>\n",
       "      <td>7.9250</td>\n",
       "      <td>NaN</td>\n",
       "      <td>S</td>\n",
       "    </tr>\n",
       "    <tr>\n",
       "      <th>3</th>\n",
       "      <td>4</td>\n",
       "      <td>1</td>\n",
       "      <td>1</td>\n",
       "      <td>Futrelle, Mrs. Jacques Heath (Lily May Peel)</td>\n",
       "      <td>female</td>\n",
       "      <td>35.0</td>\n",
       "      <td>1</td>\n",
       "      <td>0</td>\n",
       "      <td>113803</td>\n",
       "      <td>53.1000</td>\n",
       "      <td>C123</td>\n",
       "      <td>S</td>\n",
       "    </tr>\n",
       "    <tr>\n",
       "      <th>4</th>\n",
       "      <td>5</td>\n",
       "      <td>0</td>\n",
       "      <td>3</td>\n",
       "      <td>Allen, Mr. William Henry</td>\n",
       "      <td>male</td>\n",
       "      <td>35.0</td>\n",
       "      <td>0</td>\n",
       "      <td>0</td>\n",
       "      <td>373450</td>\n",
       "      <td>8.0500</td>\n",
       "      <td>NaN</td>\n",
       "      <td>S</td>\n",
       "    </tr>\n",
       "  </tbody>\n",
       "</table>\n",
       "</div>"
      ],
      "text/plain": [
       "   PassengerId  Survived  Pclass  \\\n",
       "0            1         0       3   \n",
       "1            2         1       1   \n",
       "2            3         1       3   \n",
       "3            4         1       1   \n",
       "4            5         0       3   \n",
       "\n",
       "                                                Name     Sex   Age  SibSp  \\\n",
       "0                            Braund, Mr. Owen Harris    male  22.0      1   \n",
       "1  Cumings, Mrs. John Bradley (Florence Briggs Th...  female  38.0      1   \n",
       "2                             Heikkinen, Miss. Laina  female  26.0      0   \n",
       "3       Futrelle, Mrs. Jacques Heath (Lily May Peel)  female  35.0      1   \n",
       "4                           Allen, Mr. William Henry    male  35.0      0   \n",
       "\n",
       "   Parch            Ticket     Fare Cabin Embarked  \n",
       "0      0         A/5 21171   7.2500   NaN        S  \n",
       "1      0          PC 17599  71.2833   C85        C  \n",
       "2      0  STON/O2. 3101282   7.9250   NaN        S  \n",
       "3      0            113803  53.1000  C123        S  \n",
       "4      0            373450   8.0500   NaN        S  "
      ]
     },
     "execution_count": 7,
     "metadata": {},
     "output_type": "execute_result"
    }
   ],
   "source": [
    "train_data.head()"
   ]
  },
  {
   "cell_type": "code",
   "execution_count": 8,
   "metadata": {
    "collapsed": false
   },
   "outputs": [
    {
     "data": {
      "text/plain": [
       "0    0.616162\n",
       "1    0.383838\n",
       "Name: Survived, dtype: float64"
      ]
     },
     "execution_count": 8,
     "metadata": {},
     "output_type": "execute_result"
    }
   ],
   "source": [
    "train_data.Survived.value_counts(normalize=True)"
   ]
  },
  {
   "cell_type": "code",
   "execution_count": 9,
   "metadata": {
    "collapsed": false
   },
   "outputs": [
    {
     "data": {
      "text/html": [
       "<div>\n",
       "<table border=\"1\" class=\"dataframe\">\n",
       "  <thead>\n",
       "    <tr style=\"text-align: right;\">\n",
       "      <th></th>\n",
       "      <th>PassengerId</th>\n",
       "      <th>Survived</th>\n",
       "      <th>Pclass</th>\n",
       "      <th>Age</th>\n",
       "      <th>SibSp</th>\n",
       "      <th>Parch</th>\n",
       "      <th>Fare</th>\n",
       "    </tr>\n",
       "  </thead>\n",
       "  <tbody>\n",
       "    <tr>\n",
       "      <th>count</th>\n",
       "      <td>891.000000</td>\n",
       "      <td>891.000000</td>\n",
       "      <td>891.000000</td>\n",
       "      <td>714.000000</td>\n",
       "      <td>891.000000</td>\n",
       "      <td>891.000000</td>\n",
       "      <td>891.000000</td>\n",
       "    </tr>\n",
       "    <tr>\n",
       "      <th>mean</th>\n",
       "      <td>446.000000</td>\n",
       "      <td>0.383838</td>\n",
       "      <td>2.308642</td>\n",
       "      <td>29.699118</td>\n",
       "      <td>0.523008</td>\n",
       "      <td>0.381594</td>\n",
       "      <td>32.204208</td>\n",
       "    </tr>\n",
       "    <tr>\n",
       "      <th>std</th>\n",
       "      <td>257.353842</td>\n",
       "      <td>0.486592</td>\n",
       "      <td>0.836071</td>\n",
       "      <td>14.526497</td>\n",
       "      <td>1.102743</td>\n",
       "      <td>0.806057</td>\n",
       "      <td>49.693429</td>\n",
       "    </tr>\n",
       "    <tr>\n",
       "      <th>min</th>\n",
       "      <td>1.000000</td>\n",
       "      <td>0.000000</td>\n",
       "      <td>1.000000</td>\n",
       "      <td>0.420000</td>\n",
       "      <td>0.000000</td>\n",
       "      <td>0.000000</td>\n",
       "      <td>0.000000</td>\n",
       "    </tr>\n",
       "    <tr>\n",
       "      <th>25%</th>\n",
       "      <td>223.500000</td>\n",
       "      <td>0.000000</td>\n",
       "      <td>2.000000</td>\n",
       "      <td>20.125000</td>\n",
       "      <td>0.000000</td>\n",
       "      <td>0.000000</td>\n",
       "      <td>7.910400</td>\n",
       "    </tr>\n",
       "    <tr>\n",
       "      <th>50%</th>\n",
       "      <td>446.000000</td>\n",
       "      <td>0.000000</td>\n",
       "      <td>3.000000</td>\n",
       "      <td>28.000000</td>\n",
       "      <td>0.000000</td>\n",
       "      <td>0.000000</td>\n",
       "      <td>14.454200</td>\n",
       "    </tr>\n",
       "    <tr>\n",
       "      <th>75%</th>\n",
       "      <td>668.500000</td>\n",
       "      <td>1.000000</td>\n",
       "      <td>3.000000</td>\n",
       "      <td>38.000000</td>\n",
       "      <td>1.000000</td>\n",
       "      <td>0.000000</td>\n",
       "      <td>31.000000</td>\n",
       "    </tr>\n",
       "    <tr>\n",
       "      <th>max</th>\n",
       "      <td>891.000000</td>\n",
       "      <td>1.000000</td>\n",
       "      <td>3.000000</td>\n",
       "      <td>80.000000</td>\n",
       "      <td>8.000000</td>\n",
       "      <td>6.000000</td>\n",
       "      <td>512.329200</td>\n",
       "    </tr>\n",
       "  </tbody>\n",
       "</table>\n",
       "</div>"
      ],
      "text/plain": [
       "       PassengerId    Survived      Pclass         Age       SibSp  \\\n",
       "count   891.000000  891.000000  891.000000  714.000000  891.000000   \n",
       "mean    446.000000    0.383838    2.308642   29.699118    0.523008   \n",
       "std     257.353842    0.486592    0.836071   14.526497    1.102743   \n",
       "min       1.000000    0.000000    1.000000    0.420000    0.000000   \n",
       "25%     223.500000    0.000000    2.000000   20.125000    0.000000   \n",
       "50%     446.000000    0.000000    3.000000   28.000000    0.000000   \n",
       "75%     668.500000    1.000000    3.000000   38.000000    1.000000   \n",
       "max     891.000000    1.000000    3.000000   80.000000    8.000000   \n",
       "\n",
       "            Parch        Fare  \n",
       "count  891.000000  891.000000  \n",
       "mean     0.381594   32.204208  \n",
       "std      0.806057   49.693429  \n",
       "min      0.000000    0.000000  \n",
       "25%      0.000000    7.910400  \n",
       "50%      0.000000   14.454200  \n",
       "75%      0.000000   31.000000  \n",
       "max      6.000000  512.329200  "
      ]
     },
     "execution_count": 9,
     "metadata": {},
     "output_type": "execute_result"
    }
   ],
   "source": [
    "train_data.describe()"
   ]
  },
  {
   "cell_type": "code",
   "execution_count": 10,
   "metadata": {
    "collapsed": false
   },
   "outputs": [
    {
     "data": {
      "text/plain": [
       "False    891\n",
       "Name: Sex, dtype: int64"
      ]
     },
     "execution_count": 10,
     "metadata": {},
     "output_type": "execute_result"
    }
   ],
   "source": [
    "train_data.Sex.isnull().value_counts()"
   ]
  },
  {
   "cell_type": "code",
   "execution_count": 11,
   "metadata": {
    "collapsed": false
   },
   "outputs": [
    {
     "data": {
      "text/plain": [
       "False    889\n",
       "True       2\n",
       "Name: Embarked, dtype: int64"
      ]
     },
     "execution_count": 11,
     "metadata": {},
     "output_type": "execute_result"
    }
   ],
   "source": [
    "train_data.Embarked.isnull().value_counts()"
   ]
  },
  {
   "cell_type": "code",
   "execution_count": 12,
   "metadata": {
    "collapsed": true
   },
   "outputs": [],
   "source": [
    "continuous_variables = train_data[[\"Pclass\", \"Age\", \"SibSp\", \"Parch\", \"Fare\"]].copy()\n",
    "continuous_variables.Age = continuous_variables.Age.fillna(-255)"
   ]
  },
  {
   "cell_type": "code",
   "execution_count": 13,
   "metadata": {
    "collapsed": true
   },
   "outputs": [],
   "source": [
    "categorical_variables = train_data[[\"Sex\", \"Embarked\"]].copy()\n",
    "categorical_variables.Embarked = categorical_variables.Embarked.fillna(-255)"
   ]
  },
  {
   "cell_type": "code",
   "execution_count": 14,
   "metadata": {
    "collapsed": false
   },
   "outputs": [
    {
     "data": {
      "text/html": [
       "<div>\n",
       "<table border=\"1\" class=\"dataframe\">\n",
       "  <thead>\n",
       "    <tr style=\"text-align: right;\">\n",
       "      <th></th>\n",
       "      <th>Sex_female</th>\n",
       "      <th>Sex_male</th>\n",
       "      <th>Embarked_-255</th>\n",
       "      <th>Embarked_C</th>\n",
       "      <th>Embarked_Q</th>\n",
       "      <th>Embarked_S</th>\n",
       "    </tr>\n",
       "  </thead>\n",
       "  <tbody>\n",
       "    <tr>\n",
       "      <th>0</th>\n",
       "      <td>0</td>\n",
       "      <td>1</td>\n",
       "      <td>0</td>\n",
       "      <td>0</td>\n",
       "      <td>0</td>\n",
       "      <td>1</td>\n",
       "    </tr>\n",
       "    <tr>\n",
       "      <th>1</th>\n",
       "      <td>1</td>\n",
       "      <td>0</td>\n",
       "      <td>0</td>\n",
       "      <td>1</td>\n",
       "      <td>0</td>\n",
       "      <td>0</td>\n",
       "    </tr>\n",
       "    <tr>\n",
       "      <th>2</th>\n",
       "      <td>1</td>\n",
       "      <td>0</td>\n",
       "      <td>0</td>\n",
       "      <td>0</td>\n",
       "      <td>0</td>\n",
       "      <td>1</td>\n",
       "    </tr>\n",
       "    <tr>\n",
       "      <th>3</th>\n",
       "      <td>1</td>\n",
       "      <td>0</td>\n",
       "      <td>0</td>\n",
       "      <td>0</td>\n",
       "      <td>0</td>\n",
       "      <td>1</td>\n",
       "    </tr>\n",
       "    <tr>\n",
       "      <th>4</th>\n",
       "      <td>0</td>\n",
       "      <td>1</td>\n",
       "      <td>0</td>\n",
       "      <td>0</td>\n",
       "      <td>0</td>\n",
       "      <td>1</td>\n",
       "    </tr>\n",
       "  </tbody>\n",
       "</table>\n",
       "</div>"
      ],
      "text/plain": [
       "   Sex_female  Sex_male  Embarked_-255  Embarked_C  Embarked_Q  Embarked_S\n",
       "0           0         1              0           0           0           1\n",
       "1           1         0              0           1           0           0\n",
       "2           1         0              0           0           0           1\n",
       "3           1         0              0           0           0           1\n",
       "4           0         1              0           0           0           1"
      ]
     },
     "execution_count": 14,
     "metadata": {},
     "output_type": "execute_result"
    }
   ],
   "source": [
    "pd.get_dummies(categorical_variables).head()"
   ]
  },
  {
   "cell_type": "code",
   "execution_count": 15,
   "metadata": {
    "collapsed": false
   },
   "outputs": [
    {
     "data": {
      "text/html": [
       "<div>\n",
       "<table border=\"1\" class=\"dataframe\">\n",
       "  <thead>\n",
       "    <tr style=\"text-align: right;\">\n",
       "      <th></th>\n",
       "      <th>Pclass</th>\n",
       "      <th>Age</th>\n",
       "      <th>SibSp</th>\n",
       "      <th>Parch</th>\n",
       "      <th>Fare</th>\n",
       "      <th>Pclass</th>\n",
       "      <th>Age</th>\n",
       "      <th>SibSp</th>\n",
       "      <th>Parch</th>\n",
       "      <th>Fare</th>\n",
       "    </tr>\n",
       "  </thead>\n",
       "  <tbody>\n",
       "    <tr>\n",
       "      <th>0</th>\n",
       "      <td>3</td>\n",
       "      <td>22.0</td>\n",
       "      <td>1</td>\n",
       "      <td>0</td>\n",
       "      <td>7.2500</td>\n",
       "      <td>3</td>\n",
       "      <td>22.0</td>\n",
       "      <td>1</td>\n",
       "      <td>0</td>\n",
       "      <td>7.2500</td>\n",
       "    </tr>\n",
       "    <tr>\n",
       "      <th>1</th>\n",
       "      <td>1</td>\n",
       "      <td>38.0</td>\n",
       "      <td>1</td>\n",
       "      <td>0</td>\n",
       "      <td>71.2833</td>\n",
       "      <td>1</td>\n",
       "      <td>38.0</td>\n",
       "      <td>1</td>\n",
       "      <td>0</td>\n",
       "      <td>71.2833</td>\n",
       "    </tr>\n",
       "    <tr>\n",
       "      <th>2</th>\n",
       "      <td>3</td>\n",
       "      <td>26.0</td>\n",
       "      <td>0</td>\n",
       "      <td>0</td>\n",
       "      <td>7.9250</td>\n",
       "      <td>3</td>\n",
       "      <td>26.0</td>\n",
       "      <td>0</td>\n",
       "      <td>0</td>\n",
       "      <td>7.9250</td>\n",
       "    </tr>\n",
       "    <tr>\n",
       "      <th>3</th>\n",
       "      <td>1</td>\n",
       "      <td>35.0</td>\n",
       "      <td>1</td>\n",
       "      <td>0</td>\n",
       "      <td>53.1000</td>\n",
       "      <td>1</td>\n",
       "      <td>35.0</td>\n",
       "      <td>1</td>\n",
       "      <td>0</td>\n",
       "      <td>53.1000</td>\n",
       "    </tr>\n",
       "    <tr>\n",
       "      <th>4</th>\n",
       "      <td>3</td>\n",
       "      <td>35.0</td>\n",
       "      <td>0</td>\n",
       "      <td>0</td>\n",
       "      <td>8.0500</td>\n",
       "      <td>3</td>\n",
       "      <td>35.0</td>\n",
       "      <td>0</td>\n",
       "      <td>0</td>\n",
       "      <td>8.0500</td>\n",
       "    </tr>\n",
       "  </tbody>\n",
       "</table>\n",
       "</div>"
      ],
      "text/plain": [
       "   Pclass   Age  SibSp  Parch     Fare  Pclass   Age  SibSp  Parch     Fare\n",
       "0       3  22.0      1      0   7.2500       3  22.0      1      0   7.2500\n",
       "1       1  38.0      1      0  71.2833       1  38.0      1      0  71.2833\n",
       "2       3  26.0      0      0   7.9250       3  26.0      0      0   7.9250\n",
       "3       1  35.0      1      0  53.1000       1  35.0      1      0  53.1000\n",
       "4       3  35.0      0      0   8.0500       3  35.0      0      0   8.0500"
      ]
     },
     "execution_count": 15,
     "metadata": {},
     "output_type": "execute_result"
    }
   ],
   "source": [
    "pd.concat([continuous_variables.head(), continuous_variables.head()], axis=1)"
   ]
  },
  {
   "cell_type": "code",
   "execution_count": 16,
   "metadata": {
    "collapsed": false
   },
   "outputs": [],
   "source": [
    "continuous_variables = train_data[[\"Pclass\", \"Age\", \"SibSp\", \"Parch\", \"Fare\"]].copy()\n",
    "continuous_variables.Age = continuous_variables.Age.fillna(-255)\n",
    "categorical_variables = train_data[[\"Sex\", \"Embarked\"]].copy()\n",
    "categorical_variables.Embarked = categorical_variables.Embarked.fillna(-255)\n",
    "    \n",
    "y = train_data.Survived.values\n",
    "X = pd.concat([continuous_variables, pd.get_dummies(categorical_variables)], axis=1).values\n",
    "    \n",
    "lg_model = LogisticRegression(random_state=1)\n",
    "skf = StratifiedKFold(n_splits=3)\n",
    "    \n",
    "score = []\n",
    "for train, test in skf.split(X, y):\n",
    "    fitted_model = lg_model.fit(X[train], y[train])\n",
    "    y_pred = fitted_model.predict(X[test])\n",
    "    y_true = y[test]\n",
    "    accuracy = accuracy_score(y_true, y_pred)\n",
    "    precision = precision_score(y_true, y_pred)\n",
    "    recall = recall_score(y_true, y_pred)\n",
    "    score.append((accuracy, precision, recall, pickle.dumps(fitted_model), fitted_model, fitted_model.coef_))"
   ]
  },
  {
   "cell_type": "markdown",
   "metadata": {},
   "source": [
    "#### Notes\n",
    "- When saving the model directly, it only stores the coefficient from the last trained model\n",
    "- Serializing the model and then deserializing the model works though"
   ]
  },
  {
   "cell_type": "code",
   "execution_count": 17,
   "metadata": {
    "collapsed": false
   },
   "outputs": [
    {
     "data": {
      "text/plain": [
       "array([[ -8.61683232e-01,   1.33502542e-03,  -1.97196423e-01,\n",
       "         -1.85513431e-01,   3.12556318e-03,   1.89302858e+00,\n",
       "         -8.24340242e-01,   7.47929332e-02,   8.08315494e-01,\n",
       "          8.92525479e-02,   9.63273672e-02]])"
      ]
     },
     "execution_count": 17,
     "metadata": {},
     "output_type": "execute_result"
    }
   ],
   "source": [
    "pickle.loads(score[0][3]).coef_"
   ]
  },
  {
   "cell_type": "code",
   "execution_count": 18,
   "metadata": {
    "collapsed": false
   },
   "outputs": [
    {
     "data": {
      "text/plain": [
       "array([[ -6.52150734e-01,  -7.02098628e-04,  -2.84662818e-01,\n",
       "         -8.76863787e-02,   8.35325971e-03,   1.66824332e+00,\n",
       "         -9.08737509e-01,   1.43698892e-01,   4.48824665e-01,\n",
       "          1.62178989e-01,   4.80327030e-03]])"
      ]
     },
     "execution_count": 18,
     "metadata": {},
     "output_type": "execute_result"
    }
   ],
   "source": [
    "pickle.loads(score[1][3]).coef_"
   ]
  },
  {
   "cell_type": "code",
   "execution_count": 19,
   "metadata": {
    "collapsed": false
   },
   "outputs": [
    {
     "data": {
      "text/plain": [
       "array([[ -7.17141076e-01,   8.90771172e-04,  -2.39548127e-01,\n",
       "          7.91689887e-02,  -2.11482503e-04,   1.78695222e+00,\n",
       "         -8.48641674e-01,   1.05869373e-01,   2.27665357e-01,\n",
       "          6.12079781e-01,  -7.30396392e-03]])"
      ]
     },
     "execution_count": 19,
     "metadata": {},
     "output_type": "execute_result"
    }
   ],
   "source": [
    "pickle.loads(score[2][3]).coef_"
   ]
  },
  {
   "cell_type": "code",
   "execution_count": 20,
   "metadata": {
    "collapsed": false
   },
   "outputs": [
    {
     "data": {
      "text/plain": [
       "array([[ -7.17141076e-01,   8.90771172e-04,  -2.39548127e-01,\n",
       "          7.91689887e-02,  -2.11482503e-04,   1.78695222e+00,\n",
       "         -8.48641674e-01,   1.05869373e-01,   2.27665357e-01,\n",
       "          6.12079781e-01,  -7.30396392e-03]])"
      ]
     },
     "execution_count": 20,
     "metadata": {},
     "output_type": "execute_result"
    }
   ],
   "source": [
    "score[0][4].coef_"
   ]
  },
  {
   "cell_type": "code",
   "execution_count": 21,
   "metadata": {
    "collapsed": false
   },
   "outputs": [
    {
     "data": {
      "text/plain": [
       "array([[ -7.17141076e-01,   8.90771172e-04,  -2.39548127e-01,\n",
       "          7.91689887e-02,  -2.11482503e-04,   1.78695222e+00,\n",
       "         -8.48641674e-01,   1.05869373e-01,   2.27665357e-01,\n",
       "          6.12079781e-01,  -7.30396392e-03]])"
      ]
     },
     "execution_count": 21,
     "metadata": {},
     "output_type": "execute_result"
    }
   ],
   "source": [
    "score[1][4].coef_"
   ]
  },
  {
   "cell_type": "code",
   "execution_count": 22,
   "metadata": {
    "collapsed": false
   },
   "outputs": [
    {
     "data": {
      "text/plain": [
       "array([[ -7.17141076e-01,   8.90771172e-04,  -2.39548127e-01,\n",
       "          7.91689887e-02,  -2.11482503e-04,   1.78695222e+00,\n",
       "         -8.48641674e-01,   1.05869373e-01,   2.27665357e-01,\n",
       "          6.12079781e-01,  -7.30396392e-03]])"
      ]
     },
     "execution_count": 22,
     "metadata": {},
     "output_type": "execute_result"
    }
   ],
   "source": [
    "score[2][4].coef_"
   ]
  },
  {
   "cell_type": "markdown",
   "metadata": {},
   "source": [
    "---\n",
    "#### Spark"
   ]
  },
  {
   "cell_type": "code",
   "execution_count": 23,
   "metadata": {
    "collapsed": true
   },
   "outputs": [],
   "source": [
    "# Create a SparkSession\n",
    "spark_session = SparkSession.builder.getOrCreate()"
   ]
  },
  {
   "cell_type": "code",
   "execution_count": 24,
   "metadata": {
    "collapsed": true
   },
   "outputs": [],
   "source": [
    "# Usually read from database / could also define schema here and change the type\n",
    "train_data_df = spark_session.read.csv(\"data/titanic_dataset_train.csv\", header=True)"
   ]
  },
  {
   "cell_type": "code",
   "execution_count": 25,
   "metadata": {
    "collapsed": false
   },
   "outputs": [
    {
     "name": "stdout",
     "output_type": "stream",
     "text": [
      "+-----------+--------+------+--------------------+------+----+-----+-----+----------------+-------+-----+--------+\n",
      "|PassengerId|Survived|Pclass|                Name|   Sex| Age|SibSp|Parch|          Ticket|   Fare|Cabin|Embarked|\n",
      "+-----------+--------+------+--------------------+------+----+-----+-----+----------------+-------+-----+--------+\n",
      "|          1|       0|     3|Braund, Mr. Owen ...|  male|  22|    1|    0|       A/5 21171|   7.25| null|       S|\n",
      "|          2|       1|     1|Cumings, Mrs. Joh...|female|  38|    1|    0|        PC 17599|71.2833|  C85|       C|\n",
      "|          3|       1|     3|Heikkinen, Miss. ...|female|  26|    0|    0|STON/O2. 3101282|  7.925| null|       S|\n",
      "|          4|       1|     1|Futrelle, Mrs. Ja...|female|  35|    1|    0|          113803|   53.1| C123|       S|\n",
      "|          5|       0|     3|Allen, Mr. Willia...|  male|  35|    0|    0|          373450|   8.05| null|       S|\n",
      "|          6|       0|     3|    Moran, Mr. James|  male|null|    0|    0|          330877| 8.4583| null|       Q|\n",
      "|          7|       0|     1|McCarthy, Mr. Tim...|  male|  54|    0|    0|           17463|51.8625|  E46|       S|\n",
      "|          8|       0|     3|Palsson, Master. ...|  male|   2|    3|    1|          349909| 21.075| null|       S|\n",
      "|          9|       1|     3|Johnson, Mrs. Osc...|female|  27|    0|    2|          347742|11.1333| null|       S|\n",
      "|         10|       1|     2|Nasser, Mrs. Nich...|female|  14|    1|    0|          237736|30.0708| null|       C|\n",
      "|         11|       1|     3|Sandstrom, Miss. ...|female|   4|    1|    1|         PP 9549|   16.7|   G6|       S|\n",
      "|         12|       1|     1|Bonnell, Miss. El...|female|  58|    0|    0|          113783|  26.55| C103|       S|\n",
      "|         13|       0|     3|Saundercock, Mr. ...|  male|  20|    0|    0|       A/5. 2151|   8.05| null|       S|\n",
      "|         14|       0|     3|Andersson, Mr. An...|  male|  39|    1|    5|          347082| 31.275| null|       S|\n",
      "|         15|       0|     3|Vestrom, Miss. Hu...|female|  14|    0|    0|          350406| 7.8542| null|       S|\n",
      "|         16|       1|     2|Hewlett, Mrs. (Ma...|female|  55|    0|    0|          248706|     16| null|       S|\n",
      "|         17|       0|     3|Rice, Master. Eugene|  male|   2|    4|    1|          382652| 29.125| null|       Q|\n",
      "|         18|       1|     2|Williams, Mr. Cha...|  male|null|    0|    0|          244373|     13| null|       S|\n",
      "|         19|       0|     3|Vander Planke, Mr...|female|  31|    1|    0|          345763|     18| null|       S|\n",
      "|         20|       1|     3|Masselmani, Mrs. ...|female|null|    0|    0|            2649|  7.225| null|       C|\n",
      "+-----------+--------+------+--------------------+------+----+-----+-----+----------------+-------+-----+--------+\n",
      "only showing top 20 rows\n",
      "\n"
     ]
    }
   ],
   "source": [
    "train_data_df.show()"
   ]
  },
  {
   "cell_type": "code",
   "execution_count": 26,
   "metadata": {
    "collapsed": false
   },
   "outputs": [
    {
     "data": {
      "text/plain": [
       "[('PassengerId', 'string'),\n",
       " ('Survived', 'string'),\n",
       " ('Pclass', 'string'),\n",
       " ('Name', 'string'),\n",
       " ('Sex', 'string'),\n",
       " ('Age', 'string'),\n",
       " ('SibSp', 'string'),\n",
       " ('Parch', 'string'),\n",
       " ('Ticket', 'string'),\n",
       " ('Fare', 'string'),\n",
       " ('Cabin', 'string'),\n",
       " ('Embarked', 'string')]"
      ]
     },
     "execution_count": 26,
     "metadata": {},
     "output_type": "execute_result"
    }
   ],
   "source": [
    "train_data_df.dtypes"
   ]
  },
  {
   "cell_type": "code",
   "execution_count": 27,
   "metadata": {
    "collapsed": true
   },
   "outputs": [],
   "source": [
    "def train_and_cv_model(data):\n",
    "    columns = [\"Survived\", \"Pclass\", \"Age\", \"Name\",\n",
    "              \"Sibsp\", \"Parch\", \"Ticket\", \"Fare\",\n",
    "              \"Cabin\", \"Embarked\"]\n",
    "    data_df = pd.DataFrame(data, columns=columns)\n",
    "    \n",
    "    # has to be converted to a number i.e. Survived is of type string due to Spark\n",
    "    y = data_df.Survived.values.astype(np.float32) \n",
    "    \n",
    "    continuous_variables = data_df[[\"Pclass\", \"Age\", \"Sibsp\", \"Parch\", \"Fare\"]].copy()\n",
    "    continuous_variables.Age = continuous_variables.Age.fillna(-255)\n",
    "    categorical_variables = data_df[[\"Embarked\"]].copy()\n",
    "    categorical_variables.Embarked = categorical_variables.Embarked.fillna(-255)\n",
    "    \n",
    "    X = pd.concat([continuous_variables, pd.get_dummies(categorical_variables)], axis=1).values\n",
    "    \n",
    "    lg_model = LogisticRegression(random_state=1)\n",
    "    skf = StratifiedKFold(n_splits=3)\n",
    "    \n",
    "    score = []\n",
    "    for train, test in skf.split(X, y):\n",
    "        fitted_model = lg_model.fit(X[train], y[train])\n",
    "        y_pred = fitted_model.predict(X[test])\n",
    "        y_true = y[test]\n",
    "        accuracy = accuracy_score(y_true, y_pred)\n",
    "        precision = precision_score(y_true, y_pred)\n",
    "        recall = recall_score(y_true, y_pred)\n",
    "        score.append((accuracy, precision, recall, pickle.dumps(fitted_model)))\n",
    "    return score"
   ]
  },
  {
   "cell_type": "code",
   "execution_count": 28,
   "metadata": {
    "collapsed": true
   },
   "outputs": [],
   "source": [
    "train_data_grouped = (train_data_df\n",
    " .rdd\n",
    " .map(lambda x: (x.Sex, (\n",
    "                x.Survived,\n",
    "                x.Pclass,\n",
    "                x.Age,\n",
    "                x.Name,\n",
    "                x.SibSp,\n",
    "                x.Parch,\n",
    "                x.Ticket,\n",
    "                x.Fare,\n",
    "                x.Cabin,\n",
    "                x.Embarked\n",
    "            )))\n",
    " .groupByKey()\n",
    " )"
   ]
  },
  {
   "cell_type": "code",
   "execution_count": 29,
   "metadata": {
    "collapsed": false
   },
   "outputs": [
    {
     "data": {
      "text/plain": [
       "[('female',\n",
       "  [(0.73333333333333328,\n",
       "    0.79761904761904767,\n",
       "    0.85897435897435892,\n",
       "    b'\\x80\\x03csklearn.linear_model.logistic\\nLogisticRegression\\nq\\x00)\\x81q\\x01}q\\x02(X\\x11\\x00\\x00\\x00intercept_scalingq\\x03K\\x01X\\x0b\\x00\\x00\\x00multi_classq\\x04X\\x03\\x00\\x00\\x00ovrq\\x05X\\x10\\x00\\x00\\x00_sklearn_versionq\\x06X\\x06\\x00\\x00\\x000.18.1q\\x07X\\x07\\x00\\x00\\x00verboseq\\x08K\\x00X\\x0c\\x00\\x00\\x00random_stateq\\tK\\x01X\\n\\x00\\x00\\x00warm_startq\\n\\x89X\\x08\\x00\\x00\\x00classes_q\\x0bcnumpy.core.multiarray\\n_reconstruct\\nq\\x0ccnumpy\\nndarray\\nq\\rK\\x00\\x85q\\x0eC\\x01bq\\x0f\\x87q\\x10Rq\\x11(K\\x01K\\x02\\x85q\\x12cnumpy\\ndtype\\nq\\x13X\\x02\\x00\\x00\\x00f4q\\x14K\\x00K\\x01\\x87q\\x15Rq\\x16(K\\x03X\\x01\\x00\\x00\\x00<q\\x17NNNJ\\xff\\xff\\xff\\xffJ\\xff\\xff\\xff\\xffK\\x00tq\\x18b\\x89C\\x08\\x00\\x00\\x00\\x00\\x00\\x00\\x80?q\\x19tq\\x1abX\\x03\\x00\\x00\\x00tolq\\x1bG?\\x1a6\\xe2\\xeb\\x1cC-X\\x07\\x00\\x00\\x00n_iter_q\\x1ch\\x0ch\\rK\\x00\\x85q\\x1dh\\x0f\\x87q\\x1eRq\\x1f(K\\x01K\\x01\\x85q h\\x13X\\x02\\x00\\x00\\x00i4q!K\\x00K\\x01\\x87q\"Rq#(K\\x03h\\x17NNNJ\\xff\\xff\\xff\\xffJ\\xff\\xff\\xff\\xffK\\x00tq$b\\x89C\\x04\\r\\x00\\x00\\x00q%tq&bX\\x05\\x00\\x00\\x00coef_q\\'h\\x0ch\\rK\\x00\\x85q(h\\x0f\\x87q)Rq*(K\\x01K\\x01K\\t\\x86q+h\\x13X\\x02\\x00\\x00\\x00f8q,K\\x00K\\x01\\x87q-Rq.(K\\x03h\\x17NNNJ\\xff\\xff\\xff\\xffJ\\xff\\xff\\xff\\xffK\\x00tq/b\\x88CH w\\xd5\\xdf\\xa5\\xfc\\xf0\\xbf\\xcb\\xd64\\xfeW:O\\xbfj\\x87\\xe7\\xf3\\xefN\\xd8\\xbf\\xe44\\xd8\\x8f\\xbe\\xde\\xd8\\xbf\\xf4\\xf8\\x19\\xcc\\xd5\\x96\\x87?\\x92ko\\xea8\\x02\\xad?\\xc2\\xd1\\r?\\x9b*\\xfa?` \\x86&\\xac\\xb7\\xd5?d\\xe3x\\x04\\xf7!\\xe8?q0tq1bX\\x0c\\x00\\x00\\x00class_weightq2NX\\x06\\x00\\x00\\x00solverq3X\\t\\x00\\x00\\x00liblinearq4X\\x04\\x00\\x00\\x00dualq5\\x89X\\x06\\x00\\x00\\x00n_jobsq6K\\x01X\\x01\\x00\\x00\\x00Cq7G?\\xf0\\x00\\x00\\x00\\x00\\x00\\x00X\\r\\x00\\x00\\x00fit_interceptq8\\x88X\\x08\\x00\\x00\\x00max_iterq9KdX\\x07\\x00\\x00\\x00penaltyq:X\\x02\\x00\\x00\\x00l2q;X\\n\\x00\\x00\\x00intercept_q<h\\x0ch\\rK\\x00\\x85q=h\\x0f\\x87q>Rq?(K\\x01K\\x01\\x85q@h.\\x89C\\x08j\\xa3\\x1f\\xc9\\xc9H\\x06@qAtqBbub.'),\n",
       "   (0.79047619047619044,\n",
       "    0.7978723404255319,\n",
       "    0.96153846153846156,\n",
       "    b'\\x80\\x03csklearn.linear_model.logistic\\nLogisticRegression\\nq\\x00)\\x81q\\x01}q\\x02(X\\x11\\x00\\x00\\x00intercept_scalingq\\x03K\\x01X\\x0b\\x00\\x00\\x00multi_classq\\x04X\\x03\\x00\\x00\\x00ovrq\\x05X\\x10\\x00\\x00\\x00_sklearn_versionq\\x06X\\x06\\x00\\x00\\x000.18.1q\\x07X\\x07\\x00\\x00\\x00verboseq\\x08K\\x00X\\x0c\\x00\\x00\\x00random_stateq\\tK\\x01X\\n\\x00\\x00\\x00warm_startq\\n\\x89X\\x08\\x00\\x00\\x00classes_q\\x0bcnumpy.core.multiarray\\n_reconstruct\\nq\\x0ccnumpy\\nndarray\\nq\\rK\\x00\\x85q\\x0eC\\x01bq\\x0f\\x87q\\x10Rq\\x11(K\\x01K\\x02\\x85q\\x12cnumpy\\ndtype\\nq\\x13X\\x02\\x00\\x00\\x00f4q\\x14K\\x00K\\x01\\x87q\\x15Rq\\x16(K\\x03X\\x01\\x00\\x00\\x00<q\\x17NNNJ\\xff\\xff\\xff\\xffJ\\xff\\xff\\xff\\xffK\\x00tq\\x18b\\x89C\\x08\\x00\\x00\\x00\\x00\\x00\\x00\\x80?q\\x19tq\\x1abX\\x03\\x00\\x00\\x00tolq\\x1bG?\\x1a6\\xe2\\xeb\\x1cC-X\\x07\\x00\\x00\\x00n_iter_q\\x1ch\\x0ch\\rK\\x00\\x85q\\x1dh\\x0f\\x87q\\x1eRq\\x1f(K\\x01K\\x01\\x85q h\\x13X\\x02\\x00\\x00\\x00i4q!K\\x00K\\x01\\x87q\"Rq#(K\\x03h\\x17NNNJ\\xff\\xff\\xff\\xffJ\\xff\\xff\\xff\\xffK\\x00tq$b\\x89C\\x04\\r\\x00\\x00\\x00q%tq&bX\\x05\\x00\\x00\\x00coef_q\\'h\\x0ch\\rK\\x00\\x85q(h\\x0f\\x87q)Rq*(K\\x01K\\x01K\\t\\x86q+h\\x13X\\x02\\x00\\x00\\x00f8q,K\\x00K\\x01\\x87q-Rq.(K\\x03h\\x17NNNJ\\xff\\xff\\xff\\xffJ\\xff\\xff\\xff\\xffK\\x00tq/b\\x88CH\\xba]\\x8c\\xd4I\\xd4\\xe2\\xbf,\\xab5|Q4\\xfd>`;\\x012\\xe4\\xeb\\xe2\\xbf\\xb7\\xb6Q\\x19\\x93\\xd4\\xdd\\xbfR\\xafE{\\x15\\xae\\xab?\\x99\\xee\\x93\\x15E^~?n\\xcaS\\xde\\xa58\\xd7?\\x86\\r\\xca\\xa1}}\\xed?|x\\x06\\x15\\xf1\\xce\\xd3?q0tq1bX\\x0c\\x00\\x00\\x00class_weightq2NX\\x06\\x00\\x00\\x00solverq3X\\t\\x00\\x00\\x00liblinearq4X\\x04\\x00\\x00\\x00dualq5\\x89X\\x06\\x00\\x00\\x00n_jobsq6K\\x01X\\x01\\x00\\x00\\x00Cq7G?\\xf0\\x00\\x00\\x00\\x00\\x00\\x00X\\r\\x00\\x00\\x00fit_interceptq8\\x88X\\x08\\x00\\x00\\x00max_iterq9KdX\\x07\\x00\\x00\\x00penaltyq:X\\x02\\x00\\x00\\x00l2q;X\\n\\x00\\x00\\x00intercept_q<h\\x0ch\\rK\\x00\\x85q=h\\x0f\\x87q>Rq?(K\\x01K\\x01\\x85q@h.\\x89C\\x08S+\\xd1\\xd2\\x02\\x9f\\xf9?qAtqBbub.'),\n",
       "   (0.80769230769230771,\n",
       "    0.79381443298969068,\n",
       "    1.0,\n",
       "    b'\\x80\\x03csklearn.linear_model.logistic\\nLogisticRegression\\nq\\x00)\\x81q\\x01}q\\x02(X\\x11\\x00\\x00\\x00intercept_scalingq\\x03K\\x01X\\x0b\\x00\\x00\\x00multi_classq\\x04X\\x03\\x00\\x00\\x00ovrq\\x05X\\x10\\x00\\x00\\x00_sklearn_versionq\\x06X\\x06\\x00\\x00\\x000.18.1q\\x07X\\x07\\x00\\x00\\x00verboseq\\x08K\\x00X\\x0c\\x00\\x00\\x00random_stateq\\tK\\x01X\\n\\x00\\x00\\x00warm_startq\\n\\x89X\\x08\\x00\\x00\\x00classes_q\\x0bcnumpy.core.multiarray\\n_reconstruct\\nq\\x0ccnumpy\\nndarray\\nq\\rK\\x00\\x85q\\x0eC\\x01bq\\x0f\\x87q\\x10Rq\\x11(K\\x01K\\x02\\x85q\\x12cnumpy\\ndtype\\nq\\x13X\\x02\\x00\\x00\\x00f4q\\x14K\\x00K\\x01\\x87q\\x15Rq\\x16(K\\x03X\\x01\\x00\\x00\\x00<q\\x17NNNJ\\xff\\xff\\xff\\xffJ\\xff\\xff\\xff\\xffK\\x00tq\\x18b\\x89C\\x08\\x00\\x00\\x00\\x00\\x00\\x00\\x80?q\\x19tq\\x1abX\\x03\\x00\\x00\\x00tolq\\x1bG?\\x1a6\\xe2\\xeb\\x1cC-X\\x07\\x00\\x00\\x00n_iter_q\\x1ch\\x0ch\\rK\\x00\\x85q\\x1dh\\x0f\\x87q\\x1eRq\\x1f(K\\x01K\\x01\\x85q h\\x13X\\x02\\x00\\x00\\x00i4q!K\\x00K\\x01\\x87q\"Rq#(K\\x03h\\x17NNNJ\\xff\\xff\\xff\\xffJ\\xff\\xff\\xff\\xffK\\x00tq$b\\x89C\\x04\\x0e\\x00\\x00\\x00q%tq&bX\\x05\\x00\\x00\\x00coef_q\\'h\\x0ch\\rK\\x00\\x85q(h\\x0f\\x87q)Rq*(K\\x01K\\x01K\\t\\x86q+h\\x13X\\x02\\x00\\x00\\x00f8q,K\\x00K\\x01\\x87q-Rq.(K\\x03h\\x17NNNJ\\xff\\xff\\xff\\xffJ\\xff\\xff\\xff\\xffK\\x00tq/b\\x88CH\\xb1n\\x99\\xe4\\xe8\\x8a\\xea\\xbf`\\xbd\\x95\\x0e=\\xe3A?n\\x12\\x92x\\xfc\\xc3\\xd5\\xbf\\xcb@\\x10:\\x8fr\\x93\\xbf\\x1f\\x93\\x0c\\xed\\x84\\r\\x83?\\x9c\\x16\\x14\\xe2\\xceu\\xae?\\x97l\\x05\\xde\\xa5V\\xe8?\\xd5Cu\\n*\\xbd\\xf7?\\x16\\x91\\x85\\xcf\\n\\xcb\\xca?q0tq1bX\\x0c\\x00\\x00\\x00class_weightq2NX\\x06\\x00\\x00\\x00solverq3X\\t\\x00\\x00\\x00liblinearq4X\\x04\\x00\\x00\\x00dualq5\\x89X\\x06\\x00\\x00\\x00n_jobsq6K\\x01X\\x01\\x00\\x00\\x00Cq7G?\\xf0\\x00\\x00\\x00\\x00\\x00\\x00X\\r\\x00\\x00\\x00fit_interceptq8\\x88X\\x08\\x00\\x00\\x00max_iterq9KdX\\x07\\x00\\x00\\x00penaltyq:X\\x02\\x00\\x00\\x00l2q;X\\n\\x00\\x00\\x00intercept_q<h\\x0ch\\rK\\x00\\x85q=h\\x0f\\x87q>Rq?(K\\x01K\\x01\\x85q@h.\\x89C\\x08v\\xa6<e\\xc6\\x1a\\x04@qAtqBbub.')]),\n",
       " ('male',\n",
       "  [(0.79274611398963735,\n",
       "    0.2857142857142857,\n",
       "    0.054054054054054057,\n",
       "    b'\\x80\\x03csklearn.linear_model.logistic\\nLogisticRegression\\nq\\x00)\\x81q\\x01}q\\x02(X\\x11\\x00\\x00\\x00intercept_scalingq\\x03K\\x01X\\x0b\\x00\\x00\\x00multi_classq\\x04X\\x03\\x00\\x00\\x00ovrq\\x05X\\x10\\x00\\x00\\x00_sklearn_versionq\\x06X\\x06\\x00\\x00\\x000.18.1q\\x07X\\x07\\x00\\x00\\x00verboseq\\x08K\\x00X\\x0c\\x00\\x00\\x00random_stateq\\tK\\x01X\\n\\x00\\x00\\x00warm_startq\\n\\x89X\\x08\\x00\\x00\\x00classes_q\\x0bcnumpy.core.multiarray\\n_reconstruct\\nq\\x0ccnumpy\\nndarray\\nq\\rK\\x00\\x85q\\x0eC\\x01bq\\x0f\\x87q\\x10Rq\\x11(K\\x01K\\x02\\x85q\\x12cnumpy\\ndtype\\nq\\x13X\\x02\\x00\\x00\\x00f4q\\x14K\\x00K\\x01\\x87q\\x15Rq\\x16(K\\x03X\\x01\\x00\\x00\\x00<q\\x17NNNJ\\xff\\xff\\xff\\xffJ\\xff\\xff\\xff\\xffK\\x00tq\\x18b\\x89C\\x08\\x00\\x00\\x00\\x00\\x00\\x00\\x80?q\\x19tq\\x1abX\\x03\\x00\\x00\\x00tolq\\x1bG?\\x1a6\\xe2\\xeb\\x1cC-X\\x07\\x00\\x00\\x00n_iter_q\\x1ch\\x0ch\\rK\\x00\\x85q\\x1dh\\x0f\\x87q\\x1eRq\\x1f(K\\x01K\\x01\\x85q h\\x13X\\x02\\x00\\x00\\x00i4q!K\\x00K\\x01\\x87q\"Rq#(K\\x03h\\x17NNNJ\\xff\\xff\\xff\\xffJ\\xff\\xff\\xff\\xffK\\x00tq$b\\x89C\\x04\\x0f\\x00\\x00\\x00q%tq&bX\\x05\\x00\\x00\\x00coef_q\\'h\\x0ch\\rK\\x00\\x85q(h\\x0f\\x87q)Rq*(K\\x01K\\x01K\\x08\\x86q+h\\x13X\\x02\\x00\\x00\\x00f8q,K\\x00K\\x01\\x87q-Rq.(K\\x03h\\x17NNNJ\\xff\\xff\\xff\\xffJ\\xff\\xff\\xff\\xffK\\x00tq/b\\x88C@x\\x0c\\xb0\\xc0/i\\xe5\\xbf\\xcb{&[\\x1a?]?\\x8dY\\xc95\\xfdz\\xbc\\xbf\\x0bp\\x04\\x88\\xaah\\xd6?%\\x0f\\xaa6]`]?N*\\xd28\\x1b\\x86\\xdc?@TS\\x01x=\\xc8\\xbf)\\x87\\xb1\\xb3\\x88w\\xcc\\xbfq0tq1bX\\x0c\\x00\\x00\\x00class_weightq2NX\\x06\\x00\\x00\\x00solverq3X\\t\\x00\\x00\\x00liblinearq4X\\x04\\x00\\x00\\x00dualq5\\x89X\\x06\\x00\\x00\\x00n_jobsq6K\\x01X\\x01\\x00\\x00\\x00Cq7G?\\xf0\\x00\\x00\\x00\\x00\\x00\\x00X\\r\\x00\\x00\\x00fit_interceptq8\\x88X\\x08\\x00\\x00\\x00max_iterq9KdX\\x07\\x00\\x00\\x00penaltyq:X\\x02\\x00\\x00\\x00l2q;X\\n\\x00\\x00\\x00intercept_q<h\\x0ch\\rK\\x00\\x85q=h\\x0f\\x87q>Rq?(K\\x01K\\x01\\x85q@h.\\x89C\\x08\\x0c\\xe0}\\xf2\\xd6\\\\\\xa1?qAtqBbub.'),\n",
       "   (0.80729166666666663,\n",
       "    0.42857142857142855,\n",
       "    0.083333333333333329,\n",
       "    b'\\x80\\x03csklearn.linear_model.logistic\\nLogisticRegression\\nq\\x00)\\x81q\\x01}q\\x02(X\\x11\\x00\\x00\\x00intercept_scalingq\\x03K\\x01X\\x0b\\x00\\x00\\x00multi_classq\\x04X\\x03\\x00\\x00\\x00ovrq\\x05X\\x10\\x00\\x00\\x00_sklearn_versionq\\x06X\\x06\\x00\\x00\\x000.18.1q\\x07X\\x07\\x00\\x00\\x00verboseq\\x08K\\x00X\\x0c\\x00\\x00\\x00random_stateq\\tK\\x01X\\n\\x00\\x00\\x00warm_startq\\n\\x89X\\x08\\x00\\x00\\x00classes_q\\x0bcnumpy.core.multiarray\\n_reconstruct\\nq\\x0ccnumpy\\nndarray\\nq\\rK\\x00\\x85q\\x0eC\\x01bq\\x0f\\x87q\\x10Rq\\x11(K\\x01K\\x02\\x85q\\x12cnumpy\\ndtype\\nq\\x13X\\x02\\x00\\x00\\x00f4q\\x14K\\x00K\\x01\\x87q\\x15Rq\\x16(K\\x03X\\x01\\x00\\x00\\x00<q\\x17NNNJ\\xff\\xff\\xff\\xffJ\\xff\\xff\\xff\\xffK\\x00tq\\x18b\\x89C\\x08\\x00\\x00\\x00\\x00\\x00\\x00\\x80?q\\x19tq\\x1abX\\x03\\x00\\x00\\x00tolq\\x1bG?\\x1a6\\xe2\\xeb\\x1cC-X\\x07\\x00\\x00\\x00n_iter_q\\x1ch\\x0ch\\rK\\x00\\x85q\\x1dh\\x0f\\x87q\\x1eRq\\x1f(K\\x01K\\x01\\x85q h\\x13X\\x02\\x00\\x00\\x00i4q!K\\x00K\\x01\\x87q\"Rq#(K\\x03h\\x17NNNJ\\xff\\xff\\xff\\xffJ\\xff\\xff\\xff\\xffK\\x00tq$b\\x89C\\x04\\x13\\x00\\x00\\x00q%tq&bX\\x05\\x00\\x00\\x00coef_q\\'h\\x0ch\\rK\\x00\\x85q(h\\x0f\\x87q)Rq*(K\\x01K\\x01K\\x08\\x86q+h\\x13X\\x02\\x00\\x00\\x00f8q,K\\x00K\\x01\\x87q-Rq.(K\\x03h\\x17NNNJ\\xff\\xff\\xff\\xffJ\\xff\\xff\\xff\\xffK\\x00tq/b\\x88C@\\xa0\\xb7Y\\'\\xfc{\\xd9\\xbf\\xcd\\x196\\x1ee&L\\xbf\\x99\\xfe\\xc4o\\xb1;\\xc8\\xbf\\xde\\x9d\\x03\\xc9\\xd1\\xf5\\xd9?71b\\xc9\\xd5ys?(\\xd5\\xd3\\x97\\x7f1\\xc8?\\x9e\\xbc\\xce\\xcf9\\xe2\\xe4\\xbf\\x03\\xa7am\\x1d-\\xc2\\xbfq0tq1bX\\x0c\\x00\\x00\\x00class_weightq2NX\\x06\\x00\\x00\\x00solverq3X\\t\\x00\\x00\\x00liblinearq4X\\x04\\x00\\x00\\x00dualq5\\x89X\\x06\\x00\\x00\\x00n_jobsq6K\\x01X\\x01\\x00\\x00\\x00Cq7G?\\xf0\\x00\\x00\\x00\\x00\\x00\\x00X\\r\\x00\\x00\\x00fit_interceptq8\\x88X\\x08\\x00\\x00\\x00max_iterq9KdX\\x07\\x00\\x00\\x00penaltyq:X\\x02\\x00\\x00\\x00l2q;X\\n\\x00\\x00\\x00intercept_q<h\\x0ch\\rK\\x00\\x85q=h\\x0f\\x87q>Rq?(K\\x01K\\x01\\x85q@h.\\x89C\\x08\\x1f22E!a\\xe3\\xbfqAtqBbub.'),\n",
       "   (0.8125,\n",
       "    0.0,\n",
       "    0.0,\n",
       "    b'\\x80\\x03csklearn.linear_model.logistic\\nLogisticRegression\\nq\\x00)\\x81q\\x01}q\\x02(X\\x11\\x00\\x00\\x00intercept_scalingq\\x03K\\x01X\\x0b\\x00\\x00\\x00multi_classq\\x04X\\x03\\x00\\x00\\x00ovrq\\x05X\\x10\\x00\\x00\\x00_sklearn_versionq\\x06X\\x06\\x00\\x00\\x000.18.1q\\x07X\\x07\\x00\\x00\\x00verboseq\\x08K\\x00X\\x0c\\x00\\x00\\x00random_stateq\\tK\\x01X\\n\\x00\\x00\\x00warm_startq\\n\\x89X\\x08\\x00\\x00\\x00classes_q\\x0bcnumpy.core.multiarray\\n_reconstruct\\nq\\x0ccnumpy\\nndarray\\nq\\rK\\x00\\x85q\\x0eC\\x01bq\\x0f\\x87q\\x10Rq\\x11(K\\x01K\\x02\\x85q\\x12cnumpy\\ndtype\\nq\\x13X\\x02\\x00\\x00\\x00f4q\\x14K\\x00K\\x01\\x87q\\x15Rq\\x16(K\\x03X\\x01\\x00\\x00\\x00<q\\x17NNNJ\\xff\\xff\\xff\\xffJ\\xff\\xff\\xff\\xffK\\x00tq\\x18b\\x89C\\x08\\x00\\x00\\x00\\x00\\x00\\x00\\x80?q\\x19tq\\x1abX\\x03\\x00\\x00\\x00tolq\\x1bG?\\x1a6\\xe2\\xeb\\x1cC-X\\x07\\x00\\x00\\x00n_iter_q\\x1ch\\x0ch\\rK\\x00\\x85q\\x1dh\\x0f\\x87q\\x1eRq\\x1f(K\\x01K\\x01\\x85q h\\x13X\\x02\\x00\\x00\\x00i4q!K\\x00K\\x01\\x87q\"Rq#(K\\x03h\\x17NNNJ\\xff\\xff\\xff\\xffJ\\xff\\xff\\xff\\xffK\\x00tq$b\\x89C\\x04\\x0e\\x00\\x00\\x00q%tq&bX\\x05\\x00\\x00\\x00coef_q\\'h\\x0ch\\rK\\x00\\x85q(h\\x0f\\x87q)Rq*(K\\x01K\\x01K\\x08\\x86q+h\\x13X\\x02\\x00\\x00\\x00f8q,K\\x00K\\x01\\x87q-Rq.(K\\x03h\\x17NNNJ\\xff\\xff\\xff\\xffJ\\xff\\xff\\xff\\xffK\\x00tq/b\\x88C@v\\x9c\\x94\\x93;@\\xe2\\xbf\\xeb\\x92D1A\\xd6Q?\\x89\\xeajvt\\x1d\\xb6\\xbf\\x12\\xf1\\x16no\\xc7\\xd9?\\x11\\xa4\\x13Sc`z\\xbf\\x08\\x084f\\xe7O\\xd4?\\x9a\\x86\\xc2\\x88\"\\xf8\\xd7\\xbf\\x9aJjE\\x891\\x81\\xbfq0tq1bX\\x0c\\x00\\x00\\x00class_weightq2NX\\x06\\x00\\x00\\x00solverq3X\\t\\x00\\x00\\x00liblinearq4X\\x04\\x00\\x00\\x00dualq5\\x89X\\x06\\x00\\x00\\x00n_jobsq6K\\x01X\\x01\\x00\\x00\\x00Cq7G?\\xf0\\x00\\x00\\x00\\x00\\x00\\x00X\\r\\x00\\x00\\x00fit_interceptq8\\x88X\\x08\\x00\\x00\\x00max_iterq9KdX\\x07\\x00\\x00\\x00penaltyq:X\\x02\\x00\\x00\\x00l2q;X\\n\\x00\\x00\\x00intercept_q<h\\x0ch\\rK\\x00\\x85q=h\\x0f\\x87q>Rq?(K\\x01K\\x01\\x85q@h.\\x89C\\x08\\xd6D\\xe7\\xb2\\x1d\\xc7\\xb0\\xbfqAtqBbub.')])]"
      ]
     },
     "execution_count": 29,
     "metadata": {},
     "output_type": "execute_result"
    }
   ],
   "source": [
    "train_data_grouped.map(lambda x: (x[0], train_and_cv_model(list(x[1])))).take(2)"
   ]
  },
  {
   "cell_type": "markdown",
   "metadata": {},
   "source": [
    "##### Different solution if there are many columns "
   ]
  },
  {
   "cell_type": "code",
   "execution_count": 30,
   "metadata": {
    "collapsed": false
   },
   "outputs": [
    {
     "data": {
      "text/plain": [
       "['PassengerId',\n",
       " 'Survived',\n",
       " 'Pclass',\n",
       " 'Name',\n",
       " 'Sex',\n",
       " 'Age',\n",
       " 'SibSp',\n",
       " 'Parch',\n",
       " 'Ticket',\n",
       " 'Fare',\n",
       " 'Cabin',\n",
       " 'Embarked']"
      ]
     },
     "execution_count": 30,
     "metadata": {},
     "output_type": "execute_result"
    }
   ],
   "source": [
    "train_data_df.columns"
   ]
  },
  {
   "cell_type": "code",
   "execution_count": 31,
   "metadata": {
    "collapsed": true
   },
   "outputs": [],
   "source": [
    "columns = train_data_df.columns\n",
    "def create_df(row):\n",
    "    return pd.DataFrame(row, columns=columns)"
   ]
  },
  {
   "cell_type": "code",
   "execution_count": 32,
   "metadata": {
    "collapsed": true
   },
   "outputs": [],
   "source": [
    "train_data_grouped = (train_data_df\n",
    " .rdd\n",
    " .map(lambda x: (x.Sex, tuple(x))) # converts rows explicty to list -> trick\n",
    " .groupByKey()\n",
    " )"
   ]
  },
  {
   "cell_type": "code",
   "execution_count": 33,
   "metadata": {
    "collapsed": false
   },
   "outputs": [
    {
     "data": {
      "text/html": [
       "<div>\n",
       "<table border=\"1\" class=\"dataframe\">\n",
       "  <thead>\n",
       "    <tr style=\"text-align: right;\">\n",
       "      <th></th>\n",
       "      <th>PassengerId</th>\n",
       "      <th>Survived</th>\n",
       "      <th>Pclass</th>\n",
       "      <th>Name</th>\n",
       "      <th>Sex</th>\n",
       "      <th>Age</th>\n",
       "      <th>SibSp</th>\n",
       "      <th>Parch</th>\n",
       "      <th>Ticket</th>\n",
       "      <th>Fare</th>\n",
       "      <th>Cabin</th>\n",
       "      <th>Embarked</th>\n",
       "    </tr>\n",
       "  </thead>\n",
       "  <tbody>\n",
       "    <tr>\n",
       "      <th>0</th>\n",
       "      <td>2</td>\n",
       "      <td>1</td>\n",
       "      <td>1</td>\n",
       "      <td>Cumings, Mrs. John Bradley (Florence Briggs Th...</td>\n",
       "      <td>female</td>\n",
       "      <td>38</td>\n",
       "      <td>1</td>\n",
       "      <td>0</td>\n",
       "      <td>PC 17599</td>\n",
       "      <td>71.2833</td>\n",
       "      <td>C85</td>\n",
       "      <td>C</td>\n",
       "    </tr>\n",
       "    <tr>\n",
       "      <th>1</th>\n",
       "      <td>3</td>\n",
       "      <td>1</td>\n",
       "      <td>3</td>\n",
       "      <td>Heikkinen, Miss. Laina</td>\n",
       "      <td>female</td>\n",
       "      <td>26</td>\n",
       "      <td>0</td>\n",
       "      <td>0</td>\n",
       "      <td>STON/O2. 3101282</td>\n",
       "      <td>7.925</td>\n",
       "      <td>None</td>\n",
       "      <td>S</td>\n",
       "    </tr>\n",
       "    <tr>\n",
       "      <th>2</th>\n",
       "      <td>4</td>\n",
       "      <td>1</td>\n",
       "      <td>1</td>\n",
       "      <td>Futrelle, Mrs. Jacques Heath (Lily May Peel)</td>\n",
       "      <td>female</td>\n",
       "      <td>35</td>\n",
       "      <td>1</td>\n",
       "      <td>0</td>\n",
       "      <td>113803</td>\n",
       "      <td>53.1</td>\n",
       "      <td>C123</td>\n",
       "      <td>S</td>\n",
       "    </tr>\n",
       "    <tr>\n",
       "      <th>3</th>\n",
       "      <td>9</td>\n",
       "      <td>1</td>\n",
       "      <td>3</td>\n",
       "      <td>Johnson, Mrs. Oscar W (Elisabeth Vilhelmina Berg)</td>\n",
       "      <td>female</td>\n",
       "      <td>27</td>\n",
       "      <td>0</td>\n",
       "      <td>2</td>\n",
       "      <td>347742</td>\n",
       "      <td>11.1333</td>\n",
       "      <td>None</td>\n",
       "      <td>S</td>\n",
       "    </tr>\n",
       "    <tr>\n",
       "      <th>4</th>\n",
       "      <td>10</td>\n",
       "      <td>1</td>\n",
       "      <td>2</td>\n",
       "      <td>Nasser, Mrs. Nicholas (Adele Achem)</td>\n",
       "      <td>female</td>\n",
       "      <td>14</td>\n",
       "      <td>1</td>\n",
       "      <td>0</td>\n",
       "      <td>237736</td>\n",
       "      <td>30.0708</td>\n",
       "      <td>None</td>\n",
       "      <td>C</td>\n",
       "    </tr>\n",
       "  </tbody>\n",
       "</table>\n",
       "</div>"
      ],
      "text/plain": [
       "  PassengerId Survived Pclass  \\\n",
       "0           2        1      1   \n",
       "1           3        1      3   \n",
       "2           4        1      1   \n",
       "3           9        1      3   \n",
       "4          10        1      2   \n",
       "\n",
       "                                                Name     Sex Age SibSp Parch  \\\n",
       "0  Cumings, Mrs. John Bradley (Florence Briggs Th...  female  38     1     0   \n",
       "1                             Heikkinen, Miss. Laina  female  26     0     0   \n",
       "2       Futrelle, Mrs. Jacques Heath (Lily May Peel)  female  35     1     0   \n",
       "3  Johnson, Mrs. Oscar W (Elisabeth Vilhelmina Berg)  female  27     0     2   \n",
       "4                Nasser, Mrs. Nicholas (Adele Achem)  female  14     1     0   \n",
       "\n",
       "             Ticket     Fare Cabin Embarked  \n",
       "0          PC 17599  71.2833   C85        C  \n",
       "1  STON/O2. 3101282    7.925  None        S  \n",
       "2            113803     53.1  C123        S  \n",
       "3            347742  11.1333  None        S  \n",
       "4            237736  30.0708  None        C  "
      ]
     },
     "execution_count": 33,
     "metadata": {},
     "output_type": "execute_result"
    }
   ],
   "source": [
    "train_data_grouped.mapValues(lambda x: create_df(list(x))).take(1)[0][1].head()"
   ]
  },
  {
   "cell_type": "code",
   "execution_count": null,
   "metadata": {
    "collapsed": true
   },
   "outputs": [],
   "source": []
  }
 ],
 "metadata": {
  "kernelspec": {
   "display_name": "Python 3",
   "language": "python",
   "name": "python3"
  },
  "language_info": {
   "codemirror_mode": {
    "name": "ipython",
    "version": 3
   },
   "file_extension": ".py",
   "mimetype": "text/x-python",
   "name": "python",
   "nbconvert_exporter": "python",
   "pygments_lexer": "ipython3",
   "version": "3.5.2"
  },
  "widgets": {
   "state": {},
   "version": "1.1.2"
  }
 },
 "nbformat": 4,
 "nbformat_minor": 2
}
