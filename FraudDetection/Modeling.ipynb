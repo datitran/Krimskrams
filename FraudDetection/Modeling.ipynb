{
 "cells": [
  {
   "cell_type": "code",
   "execution_count": 15,
   "metadata": {
    "collapsed": true
   },
   "outputs": [],
   "source": [
    "import pandas as pd\n",
    "import numpy as np\n",
    "np.random.seed(1)\n",
    "\n",
    "from sklearn.model_selection import StratifiedShuffleSplit, ShuffleSplit\n",
    "from sklearn.metrics import accuracy_score, precision_score, recall_score\n",
    "from keras import backend as K\n",
    "from keras.models import Sequential, load_model, optimizers\n",
    "from keras.layers import Dense, Activation, Dropout\n",
    "from keras.callbacks import EarlyStopping\n",
    "from __future__ import division\n",
    "from imblearn.over_sampling import SMOTE"
   ]
  },
  {
   "cell_type": "code",
   "execution_count": 2,
   "metadata": {
    "collapsed": true
   },
   "outputs": [],
   "source": [
    "data = pd.read_csv(\"data/creditcard.csv\")"
   ]
  },
  {
   "cell_type": "code",
   "execution_count": 3,
   "metadata": {
    "collapsed": true
   },
   "outputs": [],
   "source": [
    "X, y = data[data.columns[1:29]].values, data.Class.values"
   ]
  },
  {
   "cell_type": "code",
   "execution_count": 4,
   "metadata": {
    "collapsed": true
   },
   "outputs": [],
   "source": [
    "sss = StratifiedShuffleSplit(n_splits=1, test_size=0.5, random_state=0)"
   ]
  },
  {
   "cell_type": "code",
   "execution_count": 5,
   "metadata": {
    "collapsed": true
   },
   "outputs": [],
   "source": [
    "for train_index, test_index in sss.split(X, y):\n",
    "    X_train, X_test = X[train_index], X[test_index]\n",
    "    y_train, y_test = y[train_index], y[test_index]"
   ]
  },
  {
   "cell_type": "code",
   "execution_count": 6,
   "metadata": {
    "collapsed": true
   },
   "outputs": [],
   "source": [
    "def network_1(X_train):\n",
    "    model = Sequential()\n",
    "    model.add(Dense(1024, activation=\"sigmoid\", input_dim=X_train.shape[1]))\n",
    "    model.add(Dense(512, activation=\"sigmoid\"))\n",
    "    model.add(Dense(256, activation=\"sigmoid\"))\n",
    "    model.add(Dense(128, activation=\"sigmoid\"))\n",
    "    model.add(Dense(64, activation=\"sigmoid\"))\n",
    "    model.add(Dense(32, activation=\"sigmoid\"))\n",
    "    model.add(Dense(16, activation=\"sigmoid\"))\n",
    "    model.add(Dropout(0.5))\n",
    "    model.add(Dense(1, activation=\"sigmoid\"))\n",
    "    model.compile(optimizer=\"rmsprop\",\n",
    "                  loss=\"binary_crossentropy\",\n",
    "                  metrics=[\"accuracy\"])\n",
    "    early_stopping = EarlyStopping(monitor=\"loss\", patience=4)\n",
    "    model.fit(X_train, y_train, epochs=20, batch_size=32, callbacks=[early_stopping], verbose=1)\n",
    "    return model"
   ]
  },
  {
   "cell_type": "code",
   "execution_count": 7,
   "metadata": {
    "collapsed": true
   },
   "outputs": [],
   "source": [
    "def network_2(X_train):\n",
    "    model = Sequential()\n",
    "    model.add(Dense(256, activation=\"sigmoid\", input_dim=X_train.shape[1]))\n",
    "    model.add(Dense(128, activation=\"sigmoid\"))\n",
    "    model.add(Dense(64, activation=\"sigmoid\"))\n",
    "    model.add(Dense(32, activation=\"sigmoid\"))\n",
    "    model.add(Dense(16, activation=\"sigmoid\"))\n",
    "    model.add(Dense(1, activation=\"sigmoid\"))\n",
    "    model.compile(optimizer=\"rmsprop\",\n",
    "                  loss=\"binary_crossentropy\",\n",
    "                  metrics=[\"accuracy\"])\n",
    "    early_stopping = EarlyStopping(monitor=\"loss\", patience=4)\n",
    "    model.fit(X_train, y_train, epochs=20, batch_size=32, callbacks=[early_stopping], verbose=1)\n",
    "    return model"
   ]
  },
  {
   "cell_type": "code",
   "execution_count": 26,
   "metadata": {
    "collapsed": true
   },
   "outputs": [],
   "source": [
    "def evaluation(y_true, y_pred):\n",
    "    acc = accuracy_score(y_true, y_pred)\n",
    "    prec = precision_score(y_true, y_pred)\n",
    "    rec = recall_score(y_true, y_pred)\n",
    "    return acc, prec, rec"
   ]
  },
  {
   "cell_type": "code",
   "execution_count": 9,
   "metadata": {},
   "outputs": [
    {
     "name": "stdout",
     "output_type": "stream",
     "text": [
      "Epoch 1/20\n",
      "142403/142403 [==============================] - 28s - loss: 0.0275 - acc: 0.9960    \n",
      "Epoch 2/20\n",
      "142403/142403 [==============================] - 31s - loss: 0.0152 - acc: 0.9983    \n",
      "Epoch 3/20\n",
      "142403/142403 [==============================] - 32s - loss: 0.0095 - acc: 0.9983    \n",
      "Epoch 4/20\n",
      "142403/142403 [==============================] - 30s - loss: 0.0066 - acc: 0.9983    \n",
      "Epoch 5/20\n",
      "142403/142403 [==============================] - 30s - loss: 0.0062 - acc: 0.9993    \n",
      "Epoch 6/20\n",
      "142403/142403 [==============================] - 32s - loss: 0.0059 - acc: 0.9994    \n",
      "Epoch 7/20\n",
      "142403/142403 [==============================] - 30s - loss: 0.0059 - acc: 0.9994    \n",
      "Epoch 8/20\n",
      "142403/142403 [==============================] - 31s - loss: 0.0144 - acc: 0.9989    \n",
      "Epoch 9/20\n",
      "142403/142403 [==============================] - 31s - loss: 0.0152 - acc: 0.9989    \n",
      "Epoch 10/20\n",
      "142403/142403 [==============================] - 30s - loss: 0.0181 - acc: 0.9987    \n",
      "Epoch 11/20\n",
      "142403/142403 [==============================] - 30s - loss: 0.0279 - acc: 0.9983    \n",
      "Epoch 12/20\n",
      "142403/142403 [==============================] - 33s - loss: 0.0279 - acc: 0.9983    \n"
     ]
    }
   ],
   "source": [
    "model_1 = network_1(X_train)"
   ]
  },
  {
   "cell_type": "code",
   "execution_count": 10,
   "metadata": {},
   "outputs": [
    {
     "name": "stdout",
     "output_type": "stream",
     "text": [
      "141888/142404 [============================>.] - ETA: 0s(0.99827252043481929, 0.0, 0.0)\n"
     ]
    },
    {
     "name": "stderr",
     "output_type": "stream",
     "text": [
      "/Users/datitran/anaconda/envs/fraud-detection/lib/python2.7/site-packages/sklearn/metrics/classification.py:1113: UndefinedMetricWarning: Precision is ill-defined and being set to 0.0 due to no predicted samples.\n",
      "  'precision', 'predicted', average, warn_for)\n"
     ]
    }
   ],
   "source": [
    "y_test_pred = model_1.predict_classes(X_test)\n",
    "network_1 = evaluation(y_test, y_test_pred)\n",
    "print(network_1)"
   ]
  },
  {
   "cell_type": "code",
   "execution_count": 11,
   "metadata": {},
   "outputs": [
    {
     "name": "stdout",
     "output_type": "stream",
     "text": [
      "Epoch 1/20\n",
      "142403/142403 [==============================] - 9s - loss: 0.0199 - acc: 0.9966     \n",
      "Epoch 2/20\n",
      "142403/142403 [==============================] - 9s - loss: 0.0045 - acc: 0.9991     \n",
      "Epoch 3/20\n",
      "142403/142403 [==============================] - 9s - loss: 0.0057 - acc: 0.9992     \n",
      "Epoch 4/20\n",
      "142403/142403 [==============================] - 9s - loss: 0.0060 - acc: 0.9992     \n",
      "Epoch 5/20\n",
      "142403/142403 [==============================] - 9s - loss: 0.0068 - acc: 0.9990     \n",
      "Epoch 6/20\n",
      "142403/142403 [==============================] - 9s - loss: 0.0064 - acc: 0.9994     \n",
      "Epoch 7/20\n",
      "142403/142403 [==============================] - 10s - loss: 0.0108 - acc: 0.9975    \n"
     ]
    }
   ],
   "source": [
    "model_2 = network_2(X_train)"
   ]
  },
  {
   "cell_type": "code",
   "execution_count": 12,
   "metadata": {},
   "outputs": [
    {
     "name": "stdout",
     "output_type": "stream",
     "text": [
      "142400/142404 [============================>.] - ETA: 0s(0.99934692845706585, 0.83700440528634357, 0.77235772357723576)\n"
     ]
    }
   ],
   "source": [
    "y_test_pred = model_2.predict_classes(X_test)\n",
    "network_2 = evaluation(y_test, y_test_pred)\n",
    "print(network_2)"
   ]
  },
  {
   "cell_type": "markdown",
   "metadata": {},
   "source": [
    "### Balanced dataset"
   ]
  },
  {
   "cell_type": "markdown",
   "metadata": {},
   "source": [
    "#### Undersample"
   ]
  },
  {
   "cell_type": "code",
   "execution_count": 108,
   "metadata": {
    "collapsed": true
   },
   "outputs": [],
   "source": [
    "fraudulent = data[data.Class == 1]\n",
    "normal = data[data.Class == 0]"
   ]
  },
  {
   "cell_type": "code",
   "execution_count": 109,
   "metadata": {
    "collapsed": true
   },
   "outputs": [],
   "source": [
    "normal_sample = normal.sample(fraudulent.Class.count(), random_state=0)"
   ]
  },
  {
   "cell_type": "code",
   "execution_count": 110,
   "metadata": {
    "collapsed": true
   },
   "outputs": [],
   "source": [
    "data_undersample = pd.concat([fraudulent, normal_sample])"
   ]
  },
  {
   "cell_type": "code",
   "execution_count": 111,
   "metadata": {
    "collapsed": true
   },
   "outputs": [],
   "source": [
    "X, y = data_undersample[data_undersample.columns[1:29]].values, data_undersample.Class.values"
   ]
  },
  {
   "cell_type": "code",
   "execution_count": 112,
   "metadata": {
    "collapsed": true
   },
   "outputs": [],
   "source": [
    "sss = StratifiedShuffleSplit(n_splits=1, test_size=0.5, random_state=0)"
   ]
  },
  {
   "cell_type": "code",
   "execution_count": 113,
   "metadata": {
    "collapsed": true
   },
   "outputs": [],
   "source": [
    "for train_index, test_index in sss.split(X, y):\n",
    "    X_train, X_test = X[train_index], X[test_index]\n",
    "    y_train, y_test = y[train_index], y[test_index]"
   ]
  },
  {
   "cell_type": "code",
   "execution_count": 114,
   "metadata": {
    "collapsed": true
   },
   "outputs": [],
   "source": [
    "def network_3(X_train):\n",
    "    model = Sequential()\n",
    "    model.add(Dense(256, activation=\"sigmoid\", input_dim=X_train.shape[1]))\n",
    "    model.add(Dense(128, activation=\"sigmoid\"))\n",
    "    model.add(Dense(64, activation=\"sigmoid\"))\n",
    "    model.add(Dense(32, activation=\"sigmoid\"))\n",
    "    model.add(Dense(1, activation=\"sigmoid\"))\n",
    "    model.compile(optimizer=\"rmsprop\",\n",
    "                  loss=\"binary_crossentropy\",\n",
    "                  metrics=[\"accuracy\"])\n",
    "    early_stopping = EarlyStopping(monitor=\"loss\", patience=10)\n",
    "    model.fit(X_train, y_train, epochs=100, batch_size=32, callbacks=[early_stopping], verbose=1)\n",
    "    return model"
   ]
  },
  {
   "cell_type": "code",
   "execution_count": 115,
   "metadata": {},
   "outputs": [
    {
     "name": "stdout",
     "output_type": "stream",
     "text": [
      "Epoch 1/100\n",
      "492/492 [==============================] - 0s - loss: 0.6322 - acc: 0.7500     \n",
      "Epoch 2/100\n",
      "492/492 [==============================] - 0s - loss: 0.4369 - acc: 0.9126     \n",
      "Epoch 3/100\n",
      "492/492 [==============================] - 0s - loss: 0.2955 - acc: 0.9167     \n",
      "Epoch 4/100\n",
      "492/492 [==============================] - 0s - loss: 0.2290 - acc: 0.9350     \n",
      "Epoch 5/100\n",
      "492/492 [==============================] - 0s - loss: 0.2006 - acc: 0.9390     \n",
      "Epoch 6/100\n",
      "492/492 [==============================] - 0s - loss: 0.1842 - acc: 0.9350     \n",
      "Epoch 7/100\n",
      "492/492 [==============================] - 0s - loss: 0.1744 - acc: 0.9431     \n",
      "Epoch 8/100\n",
      "492/492 [==============================] - 0s - loss: 0.1699 - acc: 0.9431     \n",
      "Epoch 9/100\n",
      "492/492 [==============================] - 0s - loss: 0.1594 - acc: 0.9431     \n",
      "Epoch 10/100\n",
      "492/492 [==============================] - 0s - loss: 0.1599 - acc: 0.9431     \n",
      "Epoch 11/100\n",
      "492/492 [==============================] - 0s - loss: 0.1614 - acc: 0.9431     \n",
      "Epoch 12/100\n",
      "492/492 [==============================] - 0s - loss: 0.1570 - acc: 0.9451     \n",
      "Epoch 13/100\n",
      "492/492 [==============================] - 0s - loss: 0.1524 - acc: 0.9492     \n",
      "Epoch 14/100\n",
      "492/492 [==============================] - 0s - loss: 0.1440 - acc: 0.9533     \n",
      "Epoch 15/100\n",
      "492/492 [==============================] - 0s - loss: 0.1481 - acc: 0.9472     \n",
      "Epoch 16/100\n",
      "492/492 [==============================] - 0s - loss: 0.1491 - acc: 0.9512     \n",
      "Epoch 17/100\n",
      "492/492 [==============================] - 0s - loss: 0.1443 - acc: 0.9492     \n",
      "Epoch 18/100\n",
      "492/492 [==============================] - 0s - loss: 0.1472 - acc: 0.9492     \n",
      "Epoch 19/100\n",
      "492/492 [==============================] - 0s - loss: 0.1459 - acc: 0.9492     \n",
      "Epoch 20/100\n",
      "492/492 [==============================] - 0s - loss: 0.1367 - acc: 0.9492     \n",
      "Epoch 21/100\n",
      "492/492 [==============================] - 0s - loss: 0.1484 - acc: 0.9431     \n",
      "Epoch 22/100\n",
      "492/492 [==============================] - 0s - loss: 0.1331 - acc: 0.9512     \n",
      "Epoch 23/100\n",
      "492/492 [==============================] - 0s - loss: 0.1376 - acc: 0.9472     \n",
      "Epoch 24/100\n",
      "492/492 [==============================] - 0s - loss: 0.1333 - acc: 0.9492     \n",
      "Epoch 25/100\n",
      "492/492 [==============================] - 0s - loss: 0.1368 - acc: 0.9512     \n",
      "Epoch 26/100\n",
      "492/492 [==============================] - 0s - loss: 0.1392 - acc: 0.9431     \n",
      "Epoch 27/100\n",
      "492/492 [==============================] - 0s - loss: 0.1304 - acc: 0.9512     \n",
      "Epoch 28/100\n",
      "492/492 [==============================] - 0s - loss: 0.1297 - acc: 0.9593     \n",
      "Epoch 29/100\n",
      "492/492 [==============================] - 0s - loss: 0.1400 - acc: 0.9492     \n",
      "Epoch 30/100\n",
      "492/492 [==============================] - 0s - loss: 0.1351 - acc: 0.9492     \n",
      "Epoch 31/100\n",
      "492/492 [==============================] - 0s - loss: 0.1237 - acc: 0.9533     \n",
      "Epoch 32/100\n",
      "492/492 [==============================] - 0s - loss: 0.1273 - acc: 0.9472     \n",
      "Epoch 33/100\n",
      "492/492 [==============================] - 0s - loss: 0.1341 - acc: 0.9492     \n",
      "Epoch 34/100\n",
      "492/492 [==============================] - 0s - loss: 0.1244 - acc: 0.9593     \n",
      "Epoch 35/100\n",
      "492/492 [==============================] - 0s - loss: 0.1255 - acc: 0.9512     \n",
      "Epoch 36/100\n",
      "492/492 [==============================] - 0s - loss: 0.1276 - acc: 0.9533     \n",
      "Epoch 37/100\n",
      "492/492 [==============================] - 0s - loss: 0.1229 - acc: 0.9533     \n",
      "Epoch 38/100\n",
      "492/492 [==============================] - ETA: 0s - loss: 0.3396 - acc: 0.875 - 0s - loss: 0.1306 - acc: 0.9451     \n",
      "Epoch 39/100\n",
      "492/492 [==============================] - ETA: 0s - loss: 0.2528 - acc: 0.875 - 0s - loss: 0.1267 - acc: 0.9512     \n",
      "Epoch 40/100\n",
      "492/492 [==============================] - 0s - loss: 0.1232 - acc: 0.9553     \n",
      "Epoch 41/100\n",
      "492/492 [==============================] - 0s - loss: 0.1213 - acc: 0.9533     \n",
      "Epoch 42/100\n",
      "492/492 [==============================] - 0s - loss: 0.1220 - acc: 0.9614     \n",
      "Epoch 43/100\n",
      "492/492 [==============================] - 0s - loss: 0.1232 - acc: 0.9533     \n",
      "Epoch 44/100\n",
      "492/492 [==============================] - 0s - loss: 0.1281 - acc: 0.9472     \n",
      "Epoch 45/100\n",
      "492/492 [==============================] - 0s - loss: 0.1203 - acc: 0.9512     \n",
      "Epoch 46/100\n",
      "492/492 [==============================] - 0s - loss: 0.1208 - acc: 0.9533     \n",
      "Epoch 47/100\n",
      "492/492 [==============================] - 0s - loss: 0.1227 - acc: 0.9512     \n",
      "Epoch 48/100\n",
      "492/492 [==============================] - 0s - loss: 0.1121 - acc: 0.9593     \n",
      "Epoch 49/100\n",
      "492/492 [==============================] - 0s - loss: 0.1236 - acc: 0.9512     \n",
      "Epoch 50/100\n",
      "492/492 [==============================] - 0s - loss: 0.1101 - acc: 0.9573     \n",
      "Epoch 51/100\n",
      "492/492 [==============================] - 0s - loss: 0.1194 - acc: 0.9533     \n",
      "Epoch 52/100\n",
      "492/492 [==============================] - 0s - loss: 0.1111 - acc: 0.9593     \n",
      "Epoch 53/100\n",
      "492/492 [==============================] - 0s - loss: 0.1154 - acc: 0.9553     \n",
      "Epoch 54/100\n",
      "492/492 [==============================] - 0s - loss: 0.1168 - acc: 0.9553     \n",
      "Epoch 55/100\n",
      "492/492 [==============================] - 0s - loss: 0.1175 - acc: 0.9573     \n",
      "Epoch 56/100\n",
      "492/492 [==============================] - 0s - loss: 0.1154 - acc: 0.9512     \n",
      "Epoch 57/100\n",
      "492/492 [==============================] - 0s - loss: 0.1115 - acc: 0.9593     \n",
      "Epoch 58/100\n",
      "492/492 [==============================] - 0s - loss: 0.1147 - acc: 0.9512     \n",
      "Epoch 59/100\n",
      "492/492 [==============================] - 0s - loss: 0.1101 - acc: 0.9553     \n",
      "Epoch 60/100\n",
      "492/492 [==============================] - 0s - loss: 0.1164 - acc: 0.9593     \n",
      "Epoch 61/100\n",
      "492/492 [==============================] - 0s - loss: 0.1119 - acc: 0.9472     \n"
     ]
    }
   ],
   "source": [
    "model_3 = network_3(X_train)"
   ]
  },
  {
   "cell_type": "code",
   "execution_count": 116,
   "metadata": {},
   "outputs": [
    {
     "name": "stdout",
     "output_type": "stream",
     "text": [
      " 32/492 [>.............................] - ETA: 1s(0.91463414634146345, 0.90800000000000003, 0.92276422764227639)\n"
     ]
    }
   ],
   "source": [
    "y_test_pred = model_3.predict_classes(X_test)\n",
    "network_3 = evaluation(y_test, y_test_pred)\n",
    "print(network_3)"
   ]
  },
  {
   "cell_type": "code",
   "execution_count": 117,
   "metadata": {},
   "outputs": [
    {
     "name": "stdout",
     "output_type": "stream",
     "text": [
      " 32/984 [..............................] - ETA: 0s(0.93292682926829273, 0.92600000000000005, 0.94105691056910568)\n"
     ]
    }
   ],
   "source": [
    "# all data\n",
    "y_test_pred_all = model_3.predict_classes(X)\n",
    "network_3_all = evaluation(y, y_test_pred_all)\n",
    "print(network_3_all)"
   ]
  },
  {
   "cell_type": "code",
   "execution_count": 324,
   "metadata": {
    "collapsed": true
   },
   "outputs": [],
   "source": [
    "model_3.save(\"models/balance_model.h5\")"
   ]
  },
  {
   "cell_type": "markdown",
   "metadata": {},
   "source": [
    "#### Oversample"
   ]
  },
  {
   "cell_type": "code",
   "execution_count": 18,
   "metadata": {
    "collapsed": true
   },
   "outputs": [],
   "source": [
    "fraudulent = data[data.Class == 1]\n",
    "normal = data[data.Class == 0]"
   ]
  },
  {
   "cell_type": "code",
   "execution_count": 19,
   "metadata": {},
   "outputs": [
    {
     "data": {
      "text/plain": [
       "(492, 284315)"
      ]
     },
     "execution_count": 19,
     "metadata": {},
     "output_type": "execute_result"
    }
   ],
   "source": [
    "fraudulent.Class.count(), normal.Class.count()"
   ]
  },
  {
   "cell_type": "code",
   "execution_count": 25,
   "metadata": {},
   "outputs": [
    {
     "data": {
      "text/plain": [
       "577.8760162601626"
      ]
     },
     "execution_count": 25,
     "metadata": {},
     "output_type": "execute_result"
    }
   ],
   "source": [
    "normal.Class.count() / fraudulent.Class.count()"
   ]
  },
  {
   "cell_type": "code",
   "execution_count": 28,
   "metadata": {
    "collapsed": true
   },
   "outputs": [],
   "source": [
    "fraudulent_oversample = pd.concat([fraudulent]*578, ignore_index=True)"
   ]
  },
  {
   "cell_type": "code",
   "execution_count": 29,
   "metadata": {},
   "outputs": [
    {
     "data": {
      "text/plain": [
       "284376"
      ]
     },
     "execution_count": 29,
     "metadata": {},
     "output_type": "execute_result"
    }
   ],
   "source": [
    "fraudulent_oversample.Class.count()"
   ]
  },
  {
   "cell_type": "code",
   "execution_count": 30,
   "metadata": {
    "collapsed": true
   },
   "outputs": [],
   "source": [
    "data_oversample = pd.concat([fraudulent_oversample, normal])"
   ]
  },
  {
   "cell_type": "code",
   "execution_count": 33,
   "metadata": {},
   "outputs": [
    {
     "data": {
      "text/plain": [
       "1    0.500054\n",
       "0    0.499946\n",
       "Name: Class, dtype: float64"
      ]
     },
     "execution_count": 33,
     "metadata": {},
     "output_type": "execute_result"
    }
   ],
   "source": [
    "data_oversample.Class.value_counts(normalize=True)"
   ]
  },
  {
   "cell_type": "code",
   "execution_count": 34,
   "metadata": {
    "collapsed": true
   },
   "outputs": [],
   "source": [
    "X, y = data_oversample[data_oversample.columns[1:29]].values, data_oversample.Class.values"
   ]
  },
  {
   "cell_type": "code",
   "execution_count": 35,
   "metadata": {
    "collapsed": true
   },
   "outputs": [],
   "source": [
    "sss = StratifiedShuffleSplit(n_splits=1, test_size=0.5, random_state=0)"
   ]
  },
  {
   "cell_type": "code",
   "execution_count": 36,
   "metadata": {
    "collapsed": true
   },
   "outputs": [],
   "source": [
    "for train_index, test_index in sss.split(X, y):\n",
    "    X_train, X_test = X[train_index], X[test_index]\n",
    "    y_train, y_test = y[train_index], y[test_index]"
   ]
  },
  {
   "cell_type": "code",
   "execution_count": 39,
   "metadata": {
    "collapsed": true
   },
   "outputs": [],
   "source": [
    "def network_4(X_train):\n",
    "    model = Sequential()\n",
    "    model.add(Dense(64, activation=\"sigmoid\", input_dim=X_train.shape[1]))\n",
    "    model.add(Dense(32, activation=\"sigmoid\"))\n",
    "    model.add(Dense(1, activation=\"sigmoid\"))\n",
    "    model.compile(optimizer=\"rmsprop\",\n",
    "                  loss=\"binary_crossentropy\",\n",
    "                  metrics=[\"accuracy\"])\n",
    "    early_stopping = EarlyStopping(monitor=\"loss\", patience=4)\n",
    "    model.fit(X_train, y_train, epochs=20, batch_size=32, callbacks=[early_stopping], verbose=1)\n",
    "    return model"
   ]
  },
  {
   "cell_type": "code",
   "execution_count": 40,
   "metadata": {},
   "outputs": [
    {
     "name": "stdout",
     "output_type": "stream",
     "text": [
      "Epoch 1/20\n",
      "284345/284345 [==============================] - 15s - loss: 0.1015 - acc: 0.9612    \n",
      "Epoch 2/20\n",
      "284345/284345 [==============================] - 15s - loss: 0.0301 - acc: 0.9907    \n",
      "Epoch 3/20\n",
      "284345/284345 [==============================] - 13s - loss: 0.0142 - acc: 0.9965    \n",
      "Epoch 4/20\n",
      "284345/284345 [==============================] - 13s - loss: 0.0126 - acc: 0.9971    \n",
      "Epoch 5/20\n",
      "284345/284345 [==============================] - 13s - loss: 0.0119 - acc: 0.9974    \n",
      "Epoch 6/20\n",
      "284345/284345 [==============================] - 13s - loss: 0.0119 - acc: 0.9975    \n",
      "Epoch 7/20\n",
      "284345/284345 [==============================] - 13s - loss: 0.0115 - acc: 0.9976    \n",
      "Epoch 8/20\n",
      "284345/284345 [==============================] - 14s - loss: 0.0109 - acc: 0.9977    \n",
      "Epoch 9/20\n",
      "284345/284345 [==============================] - 13s - loss: 0.0102 - acc: 0.9977    \n",
      "Epoch 10/20\n",
      "284345/284345 [==============================] - 13s - loss: 0.0100 - acc: 0.9977    \n",
      "Epoch 11/20\n",
      "284345/284345 [==============================] - 13s - loss: 0.0099 - acc: 0.9977    \n",
      "Epoch 12/20\n",
      "284345/284345 [==============================] - 13s - loss: 0.0107 - acc: 0.9974    \n",
      "Epoch 13/20\n",
      "284345/284345 [==============================] - 13s - loss: 0.0106 - acc: 0.9975    \n",
      "Epoch 14/20\n",
      "284345/284345 [==============================] - 13s - loss: 0.0099 - acc: 0.9977    \n",
      "Epoch 15/20\n",
      "284345/284345 [==============================] - 12s - loss: 0.0093 - acc: 0.9978    \n",
      "Epoch 16/20\n",
      "284345/284345 [==============================] - 12s - loss: 0.0093 - acc: 0.9977    \n",
      "Epoch 17/20\n",
      "284345/284345 [==============================] - 12s - loss: 0.0087 - acc: 0.9978    \n",
      "Epoch 18/20\n",
      "284345/284345 [==============================] - 12s - loss: 0.0081 - acc: 0.9979    \n",
      "Epoch 19/20\n",
      "284345/284345 [==============================] - 14s - loss: 0.0077 - acc: 0.9981    \n",
      "Epoch 20/20\n",
      "284345/284345 [==============================] - 14s - loss: 0.0072 - acc: 0.9981    \n"
     ]
    }
   ],
   "source": [
    "model_4 = network_4(X_train)"
   ]
  },
  {
   "cell_type": "code",
   "execution_count": 43,
   "metadata": {},
   "outputs": [
    {
     "name": "stdout",
     "output_type": "stream",
     "text": [
      "281152/284346 [============================>.] - ETA: 0s(0.99822047786851231, 0.99645395041136975, 1.0)\n"
     ]
    }
   ],
   "source": [
    "y_test_pred = model_4.predict_classes(X_test)\n",
    "network_4 = evaluation(y_test, y_test_pred)\n",
    "print(network_4)"
   ]
  },
  {
   "cell_type": "markdown",
   "metadata": {},
   "source": [
    "##### SMOTE"
   ]
  },
  {
   "cell_type": "code",
   "execution_count": 4,
   "metadata": {
    "collapsed": true
   },
   "outputs": [],
   "source": [
    "sm = SMOTE(random_state=42)"
   ]
  },
  {
   "cell_type": "code",
   "execution_count": 5,
   "metadata": {
    "collapsed": true
   },
   "outputs": [],
   "source": [
    "X, y = data[data.columns[1:29]].values, data.Class.values"
   ]
  },
  {
   "cell_type": "code",
   "execution_count": 6,
   "metadata": {
    "collapsed": true
   },
   "outputs": [],
   "source": [
    "X_res, y_res = sm.fit_sample(X, y)"
   ]
  },
  {
   "cell_type": "code",
   "execution_count": 7,
   "metadata": {},
   "outputs": [
    {
     "data": {
      "text/plain": [
       "1    284315\n",
       "0    284315\n",
       "dtype: int64"
      ]
     },
     "execution_count": 7,
     "metadata": {},
     "output_type": "execute_result"
    }
   ],
   "source": [
    "pd.Series(y_res).value_counts()"
   ]
  },
  {
   "cell_type": "code",
   "execution_count": 16,
   "metadata": {
    "collapsed": true
   },
   "outputs": [],
   "source": [
    "rs = ShuffleSplit(n_splits=1, test_size=0.2, random_state=0)"
   ]
  },
  {
   "cell_type": "code",
   "execution_count": 17,
   "metadata": {
    "collapsed": true
   },
   "outputs": [],
   "source": [
    "for train_index, test_index in rs.split(X_res, y_res):\n",
    "    X_train, X_test = X_res[train_index], X_res[test_index]\n",
    "    y_train, y_test = y_res[train_index], y_res[test_index]"
   ]
  },
  {
   "cell_type": "code",
   "execution_count": 20,
   "metadata": {},
   "outputs": [
    {
     "data": {
      "text/plain": [
       "((454904, 28), (113726, 28))"
      ]
     },
     "execution_count": 20,
     "metadata": {},
     "output_type": "execute_result"
    }
   ],
   "source": [
    "X_train.shape, X_test.shape"
   ]
  },
  {
   "cell_type": "code",
   "execution_count": 60,
   "metadata": {
    "collapsed": true
   },
   "outputs": [],
   "source": [
    "def network_5(X_train):\n",
    "    model = Sequential()\n",
    "    model.add(Dense(64, activation=\"sigmoid\", input_dim=X_train.shape[1]))\n",
    "    model.add(Dense(32, activation=\"sigmoid\"))\n",
    "    model.add(Dense(1, activation=\"sigmoid\"))\n",
    "    model.compile(optimizer=\"rmsprop\",\n",
    "                  loss=\"binary_crossentropy\",\n",
    "                  metrics=[\"accuracy\"])\n",
    "    early_stopping = EarlyStopping(monitor=\"loss\", patience=4)\n",
    "    model.fit(X_train, y_train, epochs=20, batch_size=32, callbacks=[early_stopping], verbose=1)\n",
    "    return model"
   ]
  },
  {
   "cell_type": "code",
   "execution_count": 61,
   "metadata": {},
   "outputs": [
    {
     "name": "stdout",
     "output_type": "stream",
     "text": [
      "Epoch 1/20\n",
      "284315/284315 [==============================] - 15s - loss: 0.0970 - acc: 0.9618    \n",
      "Epoch 2/20\n",
      "284315/284315 [==============================] - 14s - loss: 0.0297 - acc: 0.9901    \n",
      "Epoch 3/20\n",
      "284315/284315 [==============================] - 14s - loss: 0.0145 - acc: 0.9961    \n",
      "Epoch 4/20\n",
      "284315/284315 [==============================] - 16s - loss: 0.0119 - acc: 0.9969    \n",
      "Epoch 5/20\n",
      "284315/284315 [==============================] - 13s - loss: 0.0111 - acc: 0.9972    \n",
      "Epoch 6/20\n",
      "284315/284315 [==============================] - 13s - loss: 0.0108 - acc: 0.9974    \n",
      "Epoch 7/20\n",
      "284315/284315 [==============================] - 14s - loss: 0.0105 - acc: 0.9974    \n",
      "Epoch 8/20\n",
      "284315/284315 [==============================] - 15s - loss: 0.0106 - acc: 0.9974    \n",
      "Epoch 9/20\n",
      "284315/284315 [==============================] - 13s - loss: 0.0106 - acc: 0.9974    \n",
      "Epoch 10/20\n",
      "284315/284315 [==============================] - 14s - loss: 0.0106 - acc: 0.9974    \n",
      "Epoch 11/20\n",
      "284315/284315 [==============================] - 13s - loss: 0.0109 - acc: 0.9973    \n",
      "Epoch 12/20\n",
      "284315/284315 [==============================] - 14s - loss: 0.0106 - acc: 0.9973    \n"
     ]
    }
   ],
   "source": [
    "model_5 = network_5(X_train)"
   ]
  },
  {
   "cell_type": "code",
   "execution_count": 62,
   "metadata": {},
   "outputs": [
    {
     "name": "stdout",
     "output_type": "stream",
     "text": [
      "282080/284315 [============================>.] - ETA: 0s(0.99747463201027031, 0.99619014208033674, 0.99876896670582527)\n"
     ]
    }
   ],
   "source": [
    "y_test_pred = model_5.predict_classes(X_test)\n",
    "network_5 = evaluation(y_test, y_test_pred)\n",
    "print(network_5)"
   ]
  },
  {
   "cell_type": "code",
   "execution_count": 21,
   "metadata": {
    "collapsed": true
   },
   "outputs": [],
   "source": [
    "def network_6(X_train):\n",
    "    model = Sequential()\n",
    "    model.add(Dense(256, activation=\"sigmoid\", input_dim=X_train.shape[1]))\n",
    "    model.add(Dense(128, activation=\"sigmoid\"))\n",
    "    model.add(Dense(64, activation=\"sigmoid\"))\n",
    "    model.add(Dense(32, activation=\"sigmoid\"))\n",
    "    model.add(Dropout(0.5))\n",
    "    model.add(Dense(1, activation=\"sigmoid\"))\n",
    "    model.compile(optimizer=\"rmsprop\",\n",
    "                  loss=\"binary_crossentropy\",\n",
    "                  metrics=[\"accuracy\"])\n",
    "    early_stopping = EarlyStopping(monitor=\"val_loss\", patience=4)\n",
    "    model.fit(X_train, y_train, epochs=20, batch_size=32, validation_split=0.2, callbacks=[early_stopping], verbose=1)\n",
    "    return model"
   ]
  },
  {
   "cell_type": "code",
   "execution_count": 22,
   "metadata": {},
   "outputs": [
    {
     "name": "stdout",
     "output_type": "stream",
     "text": [
      "Train on 363923 samples, validate on 90981 samples\n",
      "Epoch 1/20\n",
      "363923/363923 [==============================] - 28s - loss: 0.1022 - acc: 0.9587 - val_loss: 0.0478 - val_acc: 0.9818\n",
      "Epoch 2/20\n",
      "363923/363923 [==============================] - 29s - loss: 0.0372 - acc: 0.9871 - val_loss: 0.0240 - val_acc: 0.9936\n",
      "Epoch 3/20\n",
      "363923/363923 [==============================] - 30s - loss: 0.0240 - acc: 0.9933 - val_loss: 0.0167 - val_acc: 0.9948\n",
      "Epoch 4/20\n",
      "363923/363923 [==============================] - 28s - loss: 0.0197 - acc: 0.9953 - val_loss: 0.0137 - val_acc: 0.9971\n",
      "Epoch 5/20\n",
      "363923/363923 [==============================] - 28s - loss: 0.0176 - acc: 0.9960 - val_loss: 0.0226 - val_acc: 0.9941\n",
      "Epoch 6/20\n",
      "363923/363923 [==============================] - 29s - loss: 0.0163 - acc: 0.9964 - val_loss: 0.0101 - val_acc: 0.9982\n",
      "Epoch 7/20\n",
      "363923/363923 [==============================] - 31s - loss: 0.0159 - acc: 0.9967 - val_loss: 0.0123 - val_acc: 0.9976\n",
      "Epoch 8/20\n",
      "363923/363923 [==============================] - 30s - loss: 0.0154 - acc: 0.9970 - val_loss: 0.0087 - val_acc: 0.9983\n",
      "Epoch 9/20\n",
      "363923/363923 [==============================] - 29s - loss: 0.0153 - acc: 0.9972 - val_loss: 0.0172 - val_acc: 0.9976\n",
      "Epoch 10/20\n",
      "363923/363923 [==============================] - 29s - loss: 0.0146 - acc: 0.9973 - val_loss: 0.0083 - val_acc: 0.9984\n",
      "Epoch 11/20\n",
      "363923/363923 [==============================] - 28s - loss: 0.0144 - acc: 0.9974 - val_loss: 0.0143 - val_acc: 0.9966\n",
      "Epoch 12/20\n",
      "363923/363923 [==============================] - 29s - loss: 0.0135 - acc: 0.9974 - val_loss: 0.0106 - val_acc: 0.9987\n",
      "Epoch 13/20\n",
      "363923/363923 [==============================] - 31s - loss: 0.0132 - acc: 0.9979 - val_loss: 0.0123 - val_acc: 0.9982\n",
      "Epoch 14/20\n",
      "363923/363923 [==============================] - 29s - loss: 0.0139 - acc: 0.9978 - val_loss: 0.0115 - val_acc: 0.9986\n",
      "Epoch 15/20\n",
      "363923/363923 [==============================] - 29s - loss: 0.0132 - acc: 0.9978 - val_loss: 0.0124 - val_acc: 0.9984\n"
     ]
    }
   ],
   "source": [
    "model_6 = network_6(X_train)"
   ]
  },
  {
   "cell_type": "code",
   "execution_count": 27,
   "metadata": {},
   "outputs": [
    {
     "name": "stdout",
     "output_type": "stream",
     "text": [
      "112832/113726 [============================>.] - ETA: 0s(0.99839086928231013, 0.9967998601031739, 1.0)\n"
     ]
    }
   ],
   "source": [
    "y_test_pred = model_6.predict_classes(X_test)\n",
    "network_6 = evaluation(y_test, y_test_pred)\n",
    "print(network_6)"
   ]
  },
  {
   "cell_type": "code",
   "execution_count": 29,
   "metadata": {},
   "outputs": [
    {
     "name": "stdout",
     "output_type": "stream",
     "text": [
      "283328/284807 [============================>.] - ETA: 0s(0.99686805450708726, 0.3554913294797688, 1.0)\n"
     ]
    }
   ],
   "source": [
    "y_full = model_6.predict_classes(X)\n",
    "full_data = evaluation(y, y_full)\n",
    "print(full_data)"
   ]
  },
  {
   "cell_type": "markdown",
   "metadata": {},
   "source": [
    "### Pre-trained weights\n",
    "- Train network on balanced dataset and save the model\n",
    "- Use the model as initial weights on imbalanced dataset"
   ]
  },
  {
   "cell_type": "code",
   "execution_count": 336,
   "metadata": {
    "collapsed": true
   },
   "outputs": [],
   "source": [
    "X, y = data[data.columns[1:29]].values, data.Class.values"
   ]
  },
  {
   "cell_type": "code",
   "execution_count": 337,
   "metadata": {
    "collapsed": true
   },
   "outputs": [],
   "source": [
    "sss = StratifiedShuffleSplit(n_splits=1, test_size=0.5, random_state=0)"
   ]
  },
  {
   "cell_type": "code",
   "execution_count": 338,
   "metadata": {
    "collapsed": true
   },
   "outputs": [],
   "source": [
    "for train_index, test_index in sss.split(X, y):\n",
    "    X_train, X_test = X[train_index], X[test_index]\n",
    "    y_train, y_test = y[train_index], y[test_index]"
   ]
  },
  {
   "cell_type": "code",
   "execution_count": 339,
   "metadata": {
    "collapsed": true
   },
   "outputs": [],
   "source": [
    "model = load_model(\"models/balance_model.h5\")"
   ]
  },
  {
   "cell_type": "code",
   "execution_count": 340,
   "metadata": {},
   "outputs": [
    {
     "data": {
      "text/plain": [
       "[<keras.layers.core.Dense at 0x128c01150>,\n",
       " <keras.layers.core.Dense at 0x127c5c690>,\n",
       " <keras.layers.core.Dense at 0x11f5808d0>,\n",
       " <keras.layers.core.Dense at 0x12bff8b90>,\n",
       " <keras.layers.core.Dense at 0x12cb4b750>]"
      ]
     },
     "execution_count": 340,
     "metadata": {},
     "output_type": "execute_result"
    }
   ],
   "source": [
    "model.layers"
   ]
  },
  {
   "cell_type": "code",
   "execution_count": 341,
   "metadata": {},
   "outputs": [
    {
     "name": "stdout",
     "output_type": "stream",
     "text": [
      "_________________________________________________________________\n",
      "Layer (type)                 Output Shape              Param #   \n",
      "=================================================================\n",
      "dense_70 (Dense)             (None, 256)               7424      \n",
      "_________________________________________________________________\n",
      "dense_71 (Dense)             (None, 128)               32896     \n",
      "_________________________________________________________________\n",
      "dense_72 (Dense)             (None, 64)                8256      \n",
      "_________________________________________________________________\n",
      "dense_73 (Dense)             (None, 32)                2080      \n",
      "_________________________________________________________________\n",
      "dense_74 (Dense)             (None, 1)                 33        \n",
      "=================================================================\n",
      "Total params: 50,689\n",
      "Trainable params: 50,689\n",
      "Non-trainable params: 0\n",
      "_________________________________________________________________\n"
     ]
    }
   ],
   "source": [
    "model.summary()"
   ]
  },
  {
   "cell_type": "code",
   "execution_count": 342,
   "metadata": {},
   "outputs": [
    {
     "data": {
      "text/plain": [
       "<keras.layers.core.Dense at 0x12bff8b90>"
      ]
     },
     "execution_count": 342,
     "metadata": {},
     "output_type": "execute_result"
    }
   ],
   "source": [
    "model.layers.pop()\n",
    "model.layers.pop()"
   ]
  },
  {
   "cell_type": "code",
   "execution_count": 343,
   "metadata": {},
   "outputs": [
    {
     "name": "stdout",
     "output_type": "stream",
     "text": [
      "_________________________________________________________________\n",
      "Layer (type)                 Output Shape              Param #   \n",
      "=================================================================\n",
      "dense_70 (Dense)             (None, 256)               7424      \n",
      "_________________________________________________________________\n",
      "dense_71 (Dense)             (None, 128)               32896     \n",
      "_________________________________________________________________\n",
      "dense_72 (Dense)             (None, 64)                8256      \n",
      "=================================================================\n",
      "Total params: 48,576\n",
      "Trainable params: 48,576\n",
      "Non-trainable params: 0\n",
      "_________________________________________________________________\n"
     ]
    }
   ],
   "source": [
    "model.summary()"
   ]
  },
  {
   "cell_type": "code",
   "execution_count": 344,
   "metadata": {
    "collapsed": true
   },
   "outputs": [],
   "source": [
    "top_model = Sequential()\n",
    "top_model.add(Dense(32, activation=\"sigmoid\", input_shape=model.output_shape[1:]))\n",
    "top_model.add(Dense(1, activation=\"sigmoid\"))"
   ]
  },
  {
   "cell_type": "code",
   "execution_count": 345,
   "metadata": {
    "collapsed": true
   },
   "outputs": [],
   "source": [
    "model.add(top_model)"
   ]
  },
  {
   "cell_type": "code",
   "execution_count": 346,
   "metadata": {},
   "outputs": [
    {
     "name": "stdout",
     "output_type": "stream",
     "text": [
      "_________________________________________________________________\n",
      "Layer (type)                 Output Shape              Param #   \n",
      "=================================================================\n",
      "dense_70 (Dense)             (None, 256)               7424      \n",
      "_________________________________________________________________\n",
      "dense_71 (Dense)             (None, 128)               32896     \n",
      "_________________________________________________________________\n",
      "dense_72 (Dense)             (None, 64)                8256      \n",
      "_________________________________________________________________\n",
      "sequential_54 (Sequential)   (None, 1)                 97        \n",
      "=================================================================\n",
      "Total params: 48,673\n",
      "Trainable params: 48,673\n",
      "Non-trainable params: 0\n",
      "_________________________________________________________________\n"
     ]
    }
   ],
   "source": [
    "model.summary()"
   ]
  },
  {
   "cell_type": "code",
   "execution_count": 347,
   "metadata": {
    "collapsed": true
   },
   "outputs": [],
   "source": [
    "# freeze weights until top layer\n",
    "for layer in model.layers[:4]:\n",
    "    layer.trainable = False"
   ]
  },
  {
   "cell_type": "code",
   "execution_count": 348,
   "metadata": {},
   "outputs": [
    {
     "name": "stdout",
     "output_type": "stream",
     "text": [
      "Epoch 1/20\n",
      "142403/142403 [==============================] - 7s - loss: 0.4487 - acc: 0.9983     \n",
      "Epoch 2/20\n",
      "142403/142403 [==============================] - 6s - loss: 0.4487 - acc: 0.9983     \n",
      "Epoch 3/20\n",
      "142403/142403 [==============================] - 6s - loss: 0.4487 - acc: 0.9983     \n",
      "Epoch 4/20\n",
      "142403/142403 [==============================] - 6s - loss: 0.4486 - acc: 0.9983     \n",
      "Epoch 5/20\n",
      "142403/142403 [==============================] - 6s - loss: 0.4485 - acc: 0.9983     \n",
      "Epoch 6/20\n",
      "142403/142403 [==============================] - 6s - loss: 0.4485 - acc: 0.9983     \n",
      "Epoch 7/20\n",
      "142403/142403 [==============================] - 7s - loss: 0.4484 - acc: 0.9983     \n",
      "Epoch 8/20\n",
      "142403/142403 [==============================] - 6s - loss: 0.4484 - acc: 0.9983     \n",
      "Epoch 9/20\n",
      "142403/142403 [==============================] - 6s - loss: 0.4483 - acc: 0.9983     \n",
      "Epoch 10/20\n",
      "142403/142403 [==============================] - 6s - loss: 0.4482 - acc: 0.9983     \n",
      "Epoch 11/20\n",
      "142403/142403 [==============================] - 6s - loss: 0.4481 - acc: 0.9983     \n",
      "Epoch 12/20\n",
      "142403/142403 [==============================] - 6s - loss: 0.4480 - acc: 0.9983     \n",
      "Epoch 13/20\n",
      "142403/142403 [==============================] - 6s - loss: 0.4479 - acc: 0.9983     \n",
      "Epoch 14/20\n",
      "142403/142403 [==============================] - 6s - loss: 0.4478 - acc: 0.9983     \n",
      "Epoch 15/20\n",
      "142403/142403 [==============================] - 6s - loss: 0.4477 - acc: 0.9983     \n",
      "Epoch 16/20\n",
      "142403/142403 [==============================] - 6s - loss: 0.4476 - acc: 0.9983     \n",
      "Epoch 17/20\n",
      "142403/142403 [==============================] - 6s - loss: 0.4475 - acc: 0.9983     \n",
      "Epoch 18/20\n",
      "142403/142403 [==============================] - 6s - loss: 0.4473 - acc: 0.9983     \n",
      "Epoch 19/20\n",
      "142403/142403 [==============================] - 6s - loss: 0.4472 - acc: 0.9983     \n",
      "Epoch 20/20\n",
      "142403/142403 [==============================] - 7s - loss: 0.4470 - acc: 0.9983     \n"
     ]
    },
    {
     "data": {
      "text/plain": [
       "<keras.callbacks.History at 0x12d0fe6d0>"
      ]
     },
     "execution_count": 348,
     "metadata": {},
     "output_type": "execute_result"
    }
   ],
   "source": [
    "# fine-tuning should be done with slow learning rate\n",
    "model.compile(optimizer=optimizers.SGD(lr=1e-4, momentum=0.9),\n",
    "              loss=\"binary_crossentropy\",\n",
    "              metrics=[\"accuracy\"])\n",
    "early_stopping = EarlyStopping(monitor=\"loss\", patience=4)\n",
    "model.fit(X_train, y_train, epochs=20, batch_size=32, callbacks=[early_stopping], verbose=1)"
   ]
  },
  {
   "cell_type": "code",
   "execution_count": 349,
   "metadata": {},
   "outputs": [
    {
     "name": "stdout",
     "output_type": "stream",
     "text": [
      "142304/142404 [============================>.] - ETA: 0s(0.99827252043481929, 0.0, 0.0)\n"
     ]
    }
   ],
   "source": [
    "y_test_pred = model.predict_classes(X_test)\n",
    "network = evaluation(y_test, y_test_pred)\n",
    "print(network)"
   ]
  },
  {
   "cell_type": "code",
   "execution_count": null,
   "metadata": {
    "collapsed": true
   },
   "outputs": [],
   "source": []
  }
 ],
 "metadata": {
  "kernelspec": {
   "display_name": "Python 2",
   "language": "python",
   "name": "python2"
  },
  "language_info": {
   "codemirror_mode": {
    "name": "ipython",
    "version": 2
   },
   "file_extension": ".py",
   "mimetype": "text/x-python",
   "name": "python",
   "nbconvert_exporter": "python",
   "pygments_lexer": "ipython2",
   "version": "2.7.13"
  },
  "widgets": {
   "state": {},
   "version": "1.1.2"
  }
 },
 "nbformat": 4,
 "nbformat_minor": 2
}
